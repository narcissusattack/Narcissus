{
 "cells": [
  {
   "cell_type": "code",
   "execution_count": 1,
   "id": "852e9274",
   "metadata": {},
   "outputs": [],
   "source": [
    "import torch\n",
    "import torch.nn as nn\n",
    "import torch.optim as optim\n",
    "import torch.nn.functional as F\n",
    "from torch.optim import Optimizer\n",
    "import torch.backends.cudnn as cudnn\n",
    "import tqdm\n",
    "\n",
    "import torchvision\n",
    "import torchvision.transforms as transforms\n",
    "from torch.utils.data import TensorDataset, DataLoader,Subset\n",
    "import torchvision.models as models\n",
    "import torch.nn.functional as F\n",
    "from models import *\n",
    "\n",
    "import os\n",
    "import copy\n",
    "import random\n",
    "import matplotlib.pyplot as plt\n",
    "import numpy as np\n",
    "import cv2 as cv\n",
    "from util import *\n",
    "\n",
    "random_seed = 0\n",
    "np.random.seed(random_seed)\n",
    "random.seed(random_seed)\n",
    "torch.manual_seed(random_seed)\n",
    "\n",
    "torch.cuda.set_device(0)\n",
    "device = 'cuda'"
   ]
  },
  {
   "cell_type": "code",
   "execution_count": 2,
   "id": "923b33b2",
   "metadata": {},
   "outputs": [],
   "source": [
    "'''\n",
    "The path for target dataset and public out-of-distribution (POOD) dataset. The setting used \n",
    "here is CIFAR-10 as the target dataset and Tiny-ImageNet as the POOD dataset. Their directory\n",
    "structure is as follows:\n",
    "\n",
    "dataset_path--cifar-10-batches-py\n",
    "            |\n",
    "            |-tiny-imagenet-200\n",
    "'''\n",
    "dataset_path = '/home/data/'\n",
    "\n",
    "#The target class label\n",
    "lab = 2\n",
    "\n",
    "#Noise size, default is full image size\n",
    "noise_size = 32\n",
    "\n",
    "#Radius of the L-inf ball\n",
    "l_inf_r = 16/255\n",
    "\n",
    "#Model for generating surrogate model and trigger\n",
    "surrogate_model = ResNet18(num_classes = 201).cuda()\n",
    "generating_model = ResNet18(num_classes = 201).cuda()\n",
    "\n",
    "#Surrogate model training epochs\n",
    "surrogate_epochs = 200\n",
    "\n",
    "#Learning rate for poison-warm-up\n",
    "generating_lr_warmup = 0.1\n",
    "warmup_round = 5\n",
    "\n",
    "#Learning rate for trigger generating\n",
    "generating_lr_tri = 0.01      \n",
    "gen_round = 1000\n",
    "\n",
    "#Training batch size\n",
    "train_batch_size = 350\n",
    "\n",
    "#The model for adding the noise\n",
    "patch_mode = 'add'"
   ]
  },
  {
   "cell_type": "markdown",
   "id": "4adeef42",
   "metadata": {},
   "source": [
    "# Prepare dataset"
   ]
  },
  {
   "cell_type": "code",
   "execution_count": 3,
   "id": "d533122a",
   "metadata": {},
   "outputs": [],
   "source": [
    "#The argumention use for surrogate model training stage\n",
    "transform_surrogate_train = transforms.Compose([\n",
    "    transforms.Resize(32),\n",
    "    transforms.RandomCrop(32, padding=4),  \n",
    "    transforms.RandomHorizontalFlip(),\n",
    "    transforms.ToTensor(),\n",
    "    transforms.Normalize((0.5, 0.5, 0.5), (0.5, 0.5, 0.5)),\n",
    "])\n",
    "\n",
    "#The argumention use for all training set\n",
    "transform_train = transforms.Compose([\n",
    "    transforms.RandomCrop(32, padding=4),  \n",
    "    transforms.RandomHorizontalFlip(),\n",
    "    transforms.ToTensor(),\n",
    "    transforms.Normalize((0.5, 0.5, 0.5), (0.5, 0.5, 0.5)),\n",
    "])\n",
    "\n",
    "#The argumention use for all testing set\n",
    "transform_test = transforms.Compose([\n",
    "    transforms.ToTensor(),\n",
    "    transforms.Normalize((0.5, 0.5, 0.5), (0.5, 0.5, 0.5)),\n",
    "])"
   ]
  },
  {
   "cell_type": "code",
   "execution_count": 4,
   "id": "97a3e2df",
   "metadata": {},
   "outputs": [],
   "source": [
    "ori_train = torchvision.datasets.CIFAR10(root=dataset_path, train=True, download=False, transform=transform_train)\n",
    "ori_test = torchvision.datasets.CIFAR10(root=dataset_path, train=False, download=False, transform=transform_test)\n",
    "outter_trainset = torchvision.datasets.ImageFolder(root=dataset_path + 'tiny-imagenet-200/train/', transform=transform_surrogate_train)"
   ]
  },
  {
   "cell_type": "code",
   "execution_count": 5,
   "id": "48a8f73b",
   "metadata": {},
   "outputs": [],
   "source": [
    "#Outter train dataset\n",
    "train_label = ori_train.targets#[get_labels(ori_train)[x] for x in range(len(get_labels(ori_train)))]\n",
    "test_label = ori_test.targets#[get_labels(ori_test)[x] for x in range(len(get_labels(ori_test)))]"
   ]
  },
  {
   "cell_type": "code",
   "execution_count": 6,
   "id": "8760de53",
   "metadata": {},
   "outputs": [],
   "source": [
    "#Inner train dataset\n",
    "train_target_list = list(np.where(np.array(train_label)==lab)[0])\n",
    "train_target = Subset(ori_train,train_target_list)"
   ]
  },
  {
   "cell_type": "code",
   "execution_count": 7,
   "id": "9201691b",
   "metadata": {},
   "outputs": [],
   "source": [
    "concoct_train_dataset = concoct_dataset(train_target,outter_trainset)"
   ]
  },
  {
   "cell_type": "code",
   "execution_count": 8,
   "id": "46d5d50c",
   "metadata": {},
   "outputs": [],
   "source": [
    "surrogate_loader = torch.utils.data.DataLoader(concoct_train_dataset, batch_size=train_batch_size, shuffle=True, num_workers=16)\n",
    "\n",
    "poi_warm_up_loader = torch.utils.data.DataLoader(train_target, batch_size=train_batch_size, shuffle=True, num_workers=16)\n",
    "\n",
    "trigger_gen_loaders = torch.utils.data.DataLoader(train_target, batch_size=train_batch_size, shuffle=True, num_workers=16)"
   ]
  },
  {
   "cell_type": "markdown",
   "id": "eb29f99b",
   "metadata": {},
   "source": [
    "#  Training surrogate modle"
   ]
  },
  {
   "cell_type": "code",
   "execution_count": 9,
   "id": "5b9ce8c1",
   "metadata": {},
   "outputs": [],
   "source": [
    "# Batch_grad\n",
    "condition = True\n",
    "noise = torch.zeros((1, 3, noise_size, noise_size), device=device)\n",
    "\n",
    "\n",
    "surrogate_model = surrogate_model\n",
    "criterion = torch.nn.CrossEntropyLoss()\n",
    "surrogate_opt = torch.optim.SGD(params=surrogate_model.parameters(), lr=0.1, momentum=0.9, weight_decay=5e-4)\n",
    "surrogate_scheduler = torch.optim.lr_scheduler.CosineAnnealingLR(surrogate_opt, T_max=surrogate_epochs)"
   ]
  },
  {
   "cell_type": "code",
   "execution_count": 10,
   "id": "fe7d6ffe",
   "metadata": {
    "scrolled": true
   },
   "outputs": [
    {
     "name": "stdout",
     "output_type": "stream",
     "text": [
      "Training the surrogate model\n",
      "Epoch:0, Loss: 4.664\n",
      "Epoch:1, Loss: 3.936\n",
      "Epoch:2, Loss: 3.422\n",
      "Epoch:3, Loss: 3.101\n",
      "Epoch:4, Loss: 2.854\n",
      "Epoch:5, Loss: 2.663\n",
      "Epoch:6, Loss: 2.505\n",
      "Epoch:7, Loss: 2.393\n",
      "Epoch:8, Loss: 2.287\n",
      "Epoch:9, Loss: 2.211\n",
      "Epoch:10, Loss: 2.140\n",
      "Epoch:11, Loss: 2.078\n",
      "Epoch:12, Loss: 2.027\n",
      "Epoch:13, Loss: 1.973\n",
      "Epoch:14, Loss: 1.935\n",
      "Epoch:15, Loss: 1.891\n",
      "Epoch:16, Loss: 1.853\n",
      "Epoch:17, Loss: 1.815\n",
      "Epoch:18, Loss: 1.791\n",
      "Epoch:19, Loss: 1.754\n",
      "Epoch:20, Loss: 1.734\n",
      "Epoch:21, Loss: 1.703\n",
      "Epoch:22, Loss: 1.675\n",
      "Epoch:23, Loss: 1.655\n",
      "Epoch:24, Loss: 1.634\n",
      "Epoch:25, Loss: 1.612\n",
      "Epoch:26, Loss: 1.597\n",
      "Epoch:27, Loss: 1.579\n",
      "Epoch:28, Loss: 1.554\n",
      "Epoch:29, Loss: 1.542\n",
      "Epoch:30, Loss: 1.519\n",
      "Epoch:31, Loss: 1.510\n",
      "Epoch:32, Loss: 1.485\n",
      "Epoch:33, Loss: 1.471\n",
      "Epoch:34, Loss: 1.464\n",
      "Epoch:35, Loss: 1.444\n",
      "Epoch:36, Loss: 1.438\n",
      "Epoch:37, Loss: 1.412\n",
      "Epoch:38, Loss: 1.414\n",
      "Epoch:39, Loss: 1.392\n",
      "Epoch:40, Loss: 1.372\n",
      "Epoch:41, Loss: 1.370\n",
      "Epoch:42, Loss: 1.356\n",
      "Epoch:43, Loss: 1.345\n",
      "Epoch:44, Loss: 1.332\n",
      "Epoch:45, Loss: 1.311\n",
      "Epoch:46, Loss: 1.306\n",
      "Epoch:47, Loss: 1.297\n",
      "Epoch:48, Loss: 1.294\n",
      "Epoch:49, Loss: 1.275\n",
      "Epoch:50, Loss: 1.263\n",
      "Epoch:51, Loss: 1.252\n",
      "Epoch:52, Loss: 1.236\n",
      "Epoch:53, Loss: 1.221\n",
      "Epoch:54, Loss: 1.222\n",
      "Epoch:55, Loss: 1.203\n",
      "Epoch:56, Loss: 1.192\n",
      "Epoch:57, Loss: 1.178\n",
      "Epoch:58, Loss: 1.164\n",
      "Epoch:59, Loss: 1.159\n",
      "Epoch:60, Loss: 1.142\n",
      "Epoch:61, Loss: 1.128\n",
      "Epoch:62, Loss: 1.114\n",
      "Epoch:63, Loss: 1.107\n",
      "Epoch:64, Loss: 1.097\n",
      "Epoch:65, Loss: 1.081\n",
      "Epoch:66, Loss: 1.073\n",
      "Epoch:67, Loss: 1.060\n",
      "Epoch:68, Loss: 1.052\n",
      "Epoch:69, Loss: 1.038\n",
      "Epoch:70, Loss: 1.024\n",
      "Epoch:71, Loss: 1.016\n",
      "Epoch:72, Loss: 0.993\n",
      "Epoch:73, Loss: 0.981\n",
      "Epoch:74, Loss: 0.979\n",
      "Epoch:75, Loss: 0.962\n",
      "Epoch:76, Loss: 0.948\n",
      "Epoch:77, Loss: 0.933\n",
      "Epoch:78, Loss: 0.919\n",
      "Epoch:79, Loss: 0.909\n",
      "Epoch:80, Loss: 0.896\n",
      "Epoch:81, Loss: 0.882\n",
      "Epoch:82, Loss: 0.869\n",
      "Epoch:83, Loss: 0.847\n",
      "Epoch:84, Loss: 0.852\n",
      "Epoch:85, Loss: 0.828\n",
      "Epoch:86, Loss: 0.811\n",
      "Epoch:87, Loss: 0.800\n",
      "Epoch:88, Loss: 0.788\n",
      "Epoch:89, Loss: 0.774\n",
      "Epoch:90, Loss: 0.753\n",
      "Epoch:91, Loss: 0.740\n",
      "Epoch:92, Loss: 0.729\n",
      "Epoch:93, Loss: 0.707\n",
      "Epoch:94, Loss: 0.714\n",
      "Epoch:95, Loss: 0.692\n",
      "Epoch:96, Loss: 0.665\n",
      "Epoch:97, Loss: 0.661\n",
      "Epoch:98, Loss: 0.643\n",
      "Epoch:99, Loss: 0.640\n",
      "Epoch:100, Loss: 0.617\n",
      "Epoch:101, Loss: 0.601\n",
      "Epoch:102, Loss: 0.591\n",
      "Epoch:103, Loss: 0.581\n",
      "Epoch:104, Loss: 0.550\n",
      "Epoch:105, Loss: 0.546\n",
      "Epoch:106, Loss: 0.537\n",
      "Epoch:107, Loss: 0.502\n",
      "Epoch:108, Loss: 0.507\n",
      "Epoch:109, Loss: 0.488\n",
      "Epoch:110, Loss: 0.474\n",
      "Epoch:111, Loss: 0.463\n",
      "Epoch:112, Loss: 0.437\n",
      "Epoch:113, Loss: 0.428\n",
      "Epoch:114, Loss: 0.423\n",
      "Epoch:115, Loss: 0.389\n",
      "Epoch:116, Loss: 0.385\n",
      "Epoch:117, Loss: 0.381\n",
      "Epoch:118, Loss: 0.375\n",
      "Epoch:119, Loss: 0.342\n",
      "Epoch:120, Loss: 0.333\n",
      "Epoch:121, Loss: 0.331\n",
      "Epoch:122, Loss: 0.313\n",
      "Epoch:123, Loss: 0.296\n",
      "Epoch:124, Loss: 0.278\n",
      "Epoch:125, Loss: 0.279\n",
      "Epoch:126, Loss: 0.259\n",
      "Epoch:127, Loss: 0.249\n",
      "Epoch:128, Loss: 0.238\n",
      "Epoch:129, Loss: 0.229\n",
      "Epoch:130, Loss: 0.212\n",
      "Epoch:131, Loss: 0.201\n",
      "Epoch:132, Loss: 0.185\n",
      "Epoch:133, Loss: 0.169\n",
      "Epoch:134, Loss: 0.162\n",
      "Epoch:135, Loss: 0.148\n",
      "Epoch:136, Loss: 0.141\n",
      "Epoch:137, Loss: 0.124\n",
      "Epoch:138, Loss: 0.116\n",
      "Epoch:139, Loss: 0.102\n",
      "Epoch:140, Loss: 0.095\n",
      "Epoch:141, Loss: 0.085\n",
      "Epoch:142, Loss: 0.070\n",
      "Epoch:143, Loss: 0.060\n",
      "Epoch:144, Loss: 0.055\n",
      "Epoch:145, Loss: 0.048\n",
      "Epoch:146, Loss: 0.043\n",
      "Epoch:147, Loss: 0.037\n",
      "Epoch:148, Loss: 0.032\n",
      "Epoch:149, Loss: 0.029\n",
      "Epoch:150, Loss: 0.028\n",
      "Epoch:151, Loss: 0.025\n",
      "Epoch:152, Loss: 0.024\n",
      "Epoch:153, Loss: 0.023\n",
      "Epoch:154, Loss: 0.022\n",
      "Epoch:155, Loss: 0.022\n",
      "Epoch:156, Loss: 0.021\n",
      "Epoch:157, Loss: 0.021\n",
      "Epoch:158, Loss: 0.020\n",
      "Epoch:159, Loss: 0.020\n",
      "Epoch:160, Loss: 0.020\n",
      "Epoch:161, Loss: 0.020\n",
      "Epoch:162, Loss: 0.020\n",
      "Epoch:163, Loss: 0.019\n",
      "Epoch:164, Loss: 0.019\n",
      "Epoch:165, Loss: 0.019\n",
      "Epoch:166, Loss: 0.019\n",
      "Epoch:167, Loss: 0.018\n",
      "Epoch:168, Loss: 0.018\n",
      "Epoch:169, Loss: 0.018\n",
      "Epoch:170, Loss: 0.018\n",
      "Epoch:171, Loss: 0.017\n",
      "Epoch:172, Loss: 0.017\n",
      "Epoch:173, Loss: 0.017\n",
      "Epoch:174, Loss: 0.017\n",
      "Epoch:175, Loss: 0.017\n",
      "Epoch:176, Loss: 0.016\n",
      "Epoch:177, Loss: 0.016\n",
      "Epoch:178, Loss: 0.016\n",
      "Epoch:179, Loss: 0.016\n",
      "Epoch:180, Loss: 0.016\n",
      "Epoch:181, Loss: 0.016\n",
      "Epoch:182, Loss: 0.016\n",
      "Epoch:183, Loss: 0.015\n",
      "Epoch:184, Loss: 0.015\n",
      "Epoch:185, Loss: 0.015\n",
      "Epoch:186, Loss: 0.015\n",
      "Epoch:187, Loss: 0.015\n",
      "Epoch:188, Loss: 0.015\n",
      "Epoch:189, Loss: 0.015\n",
      "Epoch:190, Loss: 0.015\n",
      "Epoch:191, Loss: 0.015\n",
      "Epoch:192, Loss: 0.015\n",
      "Epoch:193, Loss: 0.015\n",
      "Epoch:194, Loss: 0.015\n",
      "Epoch:195, Loss: 0.015\n",
      "Epoch:196, Loss: 0.015\n",
      "Epoch:197, Loss: 0.015\n",
      "Epoch:198, Loss: 0.015\n",
      "Epoch:199, Loss: 0.014\n"
     ]
    }
   ],
   "source": [
    "#Training the surrogate model\n",
    "print('Training the surrogate model')\n",
    "for epoch in range(0, surrogate_epochs):\n",
    "    surrogate_model.train()\n",
    "    loss_list = []\n",
    "    for images, labels in surrogate_loader:\n",
    "        images, labels = images.cuda(), labels.cuda()\n",
    "        surrogate_opt.zero_grad()\n",
    "        outputs = surrogate_model(images)\n",
    "        loss = criterion(outputs, labels)\n",
    "        loss.backward()\n",
    "        loss_list.append(float(loss.data))\n",
    "        surrogate_opt.step()\n",
    "    surrogate_scheduler.step()\n",
    "    ave_loss = np.average(np.array(loss_list))\n",
    "    print('Epoch:%d, Loss: %.03f' % (epoch, ave_loss))\n",
    "#Save the surrogate model\n",
    "save_path = './checkpoint/surrogate_pretrain_' + str(surrogate_epochs) +'.pth'\n",
    "torch.save(surrogate_model.state_dict(),save_path)"
   ]
  },
  {
   "cell_type": "markdown",
   "id": "cff016a4",
   "metadata": {},
   "source": [
    "# Poison warm up"
   ]
  },
  {
   "cell_type": "code",
   "execution_count": 11,
   "id": "a2d6be24",
   "metadata": {},
   "outputs": [],
   "source": [
    "#Prepare models and optimizers for poi_warm_up training\n",
    "poi_warm_up_model = generating_model\n",
    "poi_warm_up_model.load_state_dict(surrogate_model.state_dict())\n",
    "\n",
    "poi_warm_up_opt = torch.optim.RAdam(params=poi_warm_up_model.parameters(), lr=generating_lr_warmup)"
   ]
  },
  {
   "cell_type": "code",
   "execution_count": 12,
   "id": "f5174da4",
   "metadata": {},
   "outputs": [
    {
     "name": "stdout",
     "output_type": "stream",
     "text": [
      "Epoch:0, Loss: 5.497137e-01\n",
      "Epoch:1, Loss: 1.474230e-05\n",
      "Epoch:2, Loss: 2.085428e-06\n",
      "Epoch:3, Loss: 8.688637e-07\n",
      "Epoch:4, Loss: 5.341475e-07\n"
     ]
    }
   ],
   "source": [
    "#Poi_warm_up stage\n",
    "poi_warm_up_model.train()\n",
    "for param in poi_warm_up_model.parameters():\n",
    "    param.requires_grad = True\n",
    "\n",
    "#Training the surrogate model\n",
    "for epoch in range(0, warmup_round):\n",
    "    poi_warm_up_model.train()\n",
    "    loss_list = []\n",
    "    for images, labels in poi_warm_up_loader:\n",
    "        images, labels = images.cuda(), labels.cuda()\n",
    "        poi_warm_up_model.zero_grad()\n",
    "        poi_warm_up_opt.zero_grad()\n",
    "        outputs = poi_warm_up_model(images)\n",
    "        loss = criterion(outputs, labels)\n",
    "        loss.backward(retain_graph = True)\n",
    "        loss_list.append(float(loss.data))\n",
    "        poi_warm_up_opt.step()\n",
    "    ave_loss = np.average(np.array(loss_list))\n",
    "    print('Epoch:%d, Loss: %e' % (epoch, ave_loss))"
   ]
  },
  {
   "cell_type": "markdown",
   "id": "a27fab21",
   "metadata": {},
   "source": [
    "# Trigger generating"
   ]
  },
  {
   "cell_type": "code",
   "execution_count": 13,
   "id": "b156e248",
   "metadata": {},
   "outputs": [
    {
     "data": {
      "application/vnd.jupyter.widget-view+json": {
       "model_id": "4a90a8828df949a598c641d147224223",
       "version_major": 2,
       "version_minor": 0
      },
      "text/plain": [
       "  0%|          | 0/1000 [00:00<?, ?it/s]"
      ]
     },
     "metadata": {},
     "output_type": "display_data"
    },
    {
     "name": "stdout",
     "output_type": "stream",
     "text": [
      "Gradient: 4.9978247e-05 Loss: 5.11861071572639e-07\n",
      "Gradient: 2.3996912e-05 Loss: 4.349541190625435e-07\n",
      "Gradient: 2.734124e-05 Loss: 5.016204369212574e-07\n",
      "Gradient: 2.9295423e-05 Loss: 4.552082666956873e-07\n",
      "Gradient: 6.767477e-06 Loss: 4.276086798427059e-07\n",
      "Gradient: 1.3091071e-05 Loss: 4.0795602653057963e-07\n",
      "Gradient: 1.2475857e-05 Loss: 3.4689836923007535e-07\n",
      "Gradient: 6.333881e-05 Loss: 4.7184074295122024e-07\n",
      "Gradient: 1.3632065e-05 Loss: 3.441282331095863e-07\n",
      "Gradient: 5.2142927e-06 Loss: 3.341600404382916e-07\n",
      "Gradient: 1.3283097e-05 Loss: 3.8661194660486825e-07\n",
      "Gradient: 1.0972197e-05 Loss: 2.503958133578029e-07\n",
      "Gradient: 2.8206687e-06 Loss: 3.391668154032838e-07\n",
      "Gradient: 2.2129339e-06 Loss: 3.117260042984071e-07\n",
      "Gradient: 1.0825857e-05 Loss: 3.314012133159849e-07\n",
      "Gradient: 5.5487026e-06 Loss: 2.8616986564126515e-07\n",
      "Gradient: 1.6268628e-05 Loss: 2.5745750491523723e-07\n",
      "Gradient: 7.390412e-06 Loss: 2.107842879202811e-07\n",
      "Gradient: 2.988485e-06 Loss: 2.8269576546335884e-07\n",
      "Gradient: 9.859448e-06 Loss: 2.487382431581864e-07\n",
      "Gradient: 9.952384e-06 Loss: 2.883269720162692e-07\n",
      "Gradient: 1.2684907e-05 Loss: 2.0931975844481106e-07\n",
      "Gradient: 3.9054517e-05 Loss: 2.3761206999021549e-07\n",
      "Gradient: 1.2144337e-05 Loss: 2.519398402493304e-07\n",
      "Gradient: 1.84859e-05 Loss: 1.9583211852136628e-07\n",
      "Gradient: 5.299431e-06 Loss: 2.033139447614e-07\n",
      "Gradient: 1.4483574e-05 Loss: 2.2531644674472773e-07\n",
      "Gradient: 1.1371712e-05 Loss: 1.623627544707536e-07\n",
      "Gradient: 7.807414e-06 Loss: 1.650988892265559e-07\n",
      "Gradient: 1.1316497e-05 Loss: 2.1624529485582875e-07\n",
      "Gradient: 2.0579406e-05 Loss: 2.0947873385542456e-07\n",
      "Gradient: 2.6080115e-06 Loss: 1.928916359380158e-07\n",
      "Gradient: 8.957582e-06 Loss: 1.972626364477037e-07\n",
      "Gradient: 2.7462575e-06 Loss: 1.6160213268297714e-07\n",
      "Gradient: 1.34898955e-05 Loss: 2.0310961067101136e-07\n",
      "Gradient: 3.2237742e-06 Loss: 1.713091099494098e-07\n",
      "Gradient: 2.8721364e-05 Loss: 2.2932422562386517e-07\n",
      "Gradient: 1.5458298e-05 Loss: 2.564698614075193e-07\n",
      "Gradient: 1.9421427e-06 Loss: 1.6870926629053428e-07\n",
      "Gradient: 9.281843e-06 Loss: 1.8361604882481213e-07\n",
      "Gradient: 1.24533035e-05 Loss: 2.256570709846528e-07\n",
      "Gradient: 9.935699e-07 Loss: 1.9041661962759805e-07\n",
      "Gradient: 4.2148044e-06 Loss: 1.6487182013709875e-07\n",
      "Gradient: 5.9261456e-06 Loss: 1.8746480302903972e-07\n",
      "Gradient: 9.049998e-06 Loss: 1.689135951702762e-07\n",
      "Gradient: 5.364911e-06 Loss: 1.8842983564582028e-07\n",
      "Gradient: 5.2834935e-06 Loss: 1.8047125157257446e-07\n",
      "Gradient: 7.458506e-06 Loss: 1.7926774802390356e-07\n",
      "Gradient: 4.1083467e-06 Loss: 1.7909746408880285e-07\n",
      "Gradient: 9.508216e-06 Loss: 1.5341644399313736e-07\n",
      "Gradient: 3.0366964e-06 Loss: 1.5189510378377235e-07\n",
      "Gradient: 1.1283646e-05 Loss: 1.7346627932586973e-07\n",
      "Gradient: 3.9271613e-06 Loss: 1.8072100071246193e-07\n",
      "Gradient: 4.814209e-06 Loss: 1.7095720134345053e-07\n",
      "Gradient: 1.2343891e-05 Loss: 1.7445404694171883e-07\n",
      "Gradient: 2.0606788e-06 Loss: 1.4618442326271482e-07\n",
      "Gradient: 5.0078434e-06 Loss: 1.791315606662162e-07\n",
      "Gradient: 2.2844084e-05 Loss: 1.5971750334150177e-07\n",
      "Gradient: 1.7332836e-06 Loss: 1.4997637750961227e-07\n",
      "Gradient: 8.088429e-06 Loss: 1.8592077850598797e-07\n",
      "Gradient: 8.603938e-06 Loss: 1.763954536215806e-07\n",
      "Gradient: 3.5272396e-06 Loss: 1.451966726998914e-07\n",
      "Gradient: 5.9835497e-06 Loss: 1.5352998161688447e-07\n",
      "Gradient: 1.8283433e-06 Loss: 1.2950652745757906e-07\n",
      "Gradient: 3.0243186e-06 Loss: 1.5249682121520892e-07\n",
      "Gradient: 5.802798e-06 Loss: 1.4271031716361905e-07\n",
      "Gradient: 5.5849728e-06 Loss: 1.796991706252508e-07\n",
      "Gradient: 8.889689e-06 Loss: 1.6240820978434083e-07\n",
      "Gradient: 5.255459e-06 Loss: 1.8032360600273022e-07\n",
      "Gradient: 1.9834583e-06 Loss: 1.8693118780295966e-07\n",
      "Gradient: 9.136483e-06 Loss: 1.8208339393292288e-07\n",
      "Gradient: 4.9247806e-06 Loss: 1.661888243612945e-07\n",
      "Gradient: 3.2637317e-06 Loss: 1.6195405526294355e-07\n",
      "Gradient: 3.0798792e-06 Loss: 1.4918166234186476e-07\n",
      "Gradient: 7.664205e-06 Loss: 1.6336188555972814e-07\n",
      "Gradient: 6.0121774e-06 Loss: 1.8002843897117296e-07\n",
      "Gradient: 1.0695745e-05 Loss: 1.8623865637816077e-07\n",
      "Gradient: 4.197119e-06 Loss: 1.7032142712499384e-07\n",
      "Gradient: 1.1546832e-05 Loss: 1.6564387147847507e-07\n",
      "Gradient: 3.357437e-06 Loss: 1.7688359719159052e-07\n",
      "Gradient: 1.12695525e-05 Loss: 1.939929290983855e-07\n",
      "Gradient: 5.7707903e-06 Loss: 2.3774838950885168e-07\n",
      "Gradient: 2.0745256e-06 Loss: 1.623741274177822e-07\n",
      "Gradient: 5.8365395e-06 Loss: 1.8941757483995996e-07\n",
      "Gradient: 5.6432973e-06 Loss: 1.7110476070077614e-07\n",
      "Gradient: 7.464412e-06 Loss: 1.7385230677291474e-07\n",
      "Gradient: 4.2667634e-06 Loss: 1.3806684127833552e-07\n",
      "Gradient: 6.9698326e-06 Loss: 1.9392487615732534e-07\n",
      "Gradient: 5.0065473e-06 Loss: 1.7323921023641256e-07\n",
      "Gradient: 2.6916414e-06 Loss: 1.74124737384318e-07\n",
      "Gradient: 1.216117e-05 Loss: 1.8221961729144216e-07\n",
      "Gradient: 8.194713e-06 Loss: 1.1219279040612188e-07\n",
      "Gradient: 3.4907175e-06 Loss: 1.774172100491948e-07\n",
      "Gradient: 1.9104593e-06 Loss: 1.8677232279292374e-07\n",
      "Gradient: 2.715001e-06 Loss: 1.454691831289286e-07\n",
      "Gradient: 7.3586057e-06 Loss: 1.8659066114423695e-07\n",
      "Gradient: 5.673496e-06 Loss: 1.5499456035665086e-07\n",
      "Gradient: 9.137982e-06 Loss: 1.4009908871533602e-07\n",
      "Gradient: 9.674123e-06 Loss: 1.9083676126759503e-07\n",
      "Gradient: 2.845688e-06 Loss: 1.3807819054060626e-07\n",
      "Gradient: 5.322178e-06 Loss: 1.8468321461758326e-07\n",
      "Gradient: 1.4267525e-06 Loss: 1.6366844780198637e-07\n",
      "Gradient: 1.12619655e-05 Loss: 1.7560066017570838e-07\n",
      "Gradient: 1.4233171e-06 Loss: 1.3736295253844825e-07\n",
      "Gradient: 6.2932986e-06 Loss: 1.7166108392530078e-07\n",
      "Gradient: 6.5915024e-06 Loss: 1.230124595963389e-07\n",
      "Gradient: 4.6083023e-06 Loss: 1.4159774840057555e-07\n",
      "Gradient: 2.2644297e-06 Loss: 1.7870013166998432e-07\n",
      "Gradient: 2.7605615e-06 Loss: 1.675853250541574e-07\n",
      "Gradient: 5.219725e-06 Loss: 1.5222435886623013e-07\n",
      "Gradient: 5.524363e-06 Loss: 1.4828478166843222e-07\n",
      "Gradient: 3.5887401e-06 Loss: 1.3670447979545012e-07\n",
      "Gradient: 2.46569e-06 Loss: 1.3384347236448472e-07\n",
      "Gradient: 2.0550233e-06 Loss: 1.316976645663696e-07\n",
      "Gradient: 2.9177386e-06 Loss: 1.4541241644868326e-07\n",
      "Gradient: 3.2257728e-06 Loss: 1.7514652389157467e-07\n",
      "Gradient: 1.9875013e-06 Loss: 1.4737651288972604e-07\n",
      "Gradient: 5.8372007e-06 Loss: 1.3721538536515254e-07\n",
      "Gradient: 6.094301e-06 Loss: 1.491021980844683e-07\n",
      "Gradient: 2.8848258e-06 Loss: 1.3962223661678762e-07\n",
      "Gradient: 3.0211506e-06 Loss: 1.1014920862824814e-07\n",
      "Gradient: 4.025407e-06 Loss: 1.4753545608906887e-07\n",
      "Gradient: 1.4623949e-05 Loss: 1.2808733676668756e-07\n",
      "Gradient: 6.938494e-06 Loss: 1.753509541420802e-07\n",
      "Gradient: 5.321568e-06 Loss: 1.3317357693646652e-07\n",
      "Gradient: 5.6135864e-06 Loss: 1.5460852840950185e-07\n",
      "Gradient: 6.239563e-06 Loss: 1.7501028869067642e-07\n",
      "Gradient: 2.525931e-06 Loss: 1.6982194921411066e-07\n",
      "Gradient: 5.6454355e-06 Loss: 1.623627923663662e-07\n",
      "Gradient: 1.6948046e-06 Loss: 1.8047121983499891e-07\n",
      "Gradient: 5.593066e-07 Loss: 1.3650012039197654e-07\n",
      "Gradient: 4.4088983e-06 Loss: 1.4519672077994983e-07\n",
      "Gradient: 2.9925204e-06 Loss: 1.7059388094745978e-07\n",
      "Gradient: 3.7879545e-06 Loss: 1.3748782284513558e-07\n",
      "Gradient: 4.092736e-06 Loss: 1.650649096518464e-07\n",
      "Gradient: 8.69937e-06 Loss: 2.0098652934545194e-07\n",
      "Gradient: 4.1004614e-06 Loss: 1.6929964061773716e-07\n",
      "Gradient: 2.752974e-06 Loss: 1.1529223513662145e-07\n",
      "Gradient: 2.6054827e-06 Loss: 1.3463816846600216e-07\n",
      "Gradient: 2.5724353e-06 Loss: 1.4453819545678926e-07\n",
      "Gradient: 1.2486798e-06 Loss: 1.4345965115107144e-07\n",
      "Gradient: 4.2600363e-06 Loss: 1.546993568505665e-07\n",
      "Gradient: 1.4282599e-06 Loss: 1.304147554985017e-07\n",
      "Gradient: 4.9514347e-06 Loss: 1.7247857565886687e-07\n",
      "Gradient: 1.627326e-06 Loss: 1.5106631347331739e-07\n",
      "Gradient: 2.929939e-06 Loss: 1.3978117436863612e-07\n",
      "Gradient: 6.2024833e-06 Loss: 1.4477658254463678e-07\n",
      "Gradient: 5.07935e-06 Loss: 1.2758781622324023e-07\n",
      "Gradient: 2.1524856e-06 Loss: 1.7726968858748175e-07\n",
      "Gradient: 2.6424973e-06 Loss: 1.4793282758773786e-07\n",
      "Gradient: 3.2280177e-06 Loss: 1.4155227082331597e-07\n",
      "Gradient: 4.620253e-06 Loss: 1.4702457775683798e-07\n",
      "Gradient: 3.0968968e-06 Loss: 1.3335527929333087e-07\n",
      "Gradient: 3.5211442e-06 Loss: 1.4953363537036541e-07\n",
      "Gradient: 3.5339026e-06 Loss: 1.489205435708148e-07\n",
      "Gradient: 2.0912703e-06 Loss: 1.465363970017582e-07\n",
      "Gradient: 3.223045e-06 Loss: 1.749762584305851e-07\n"
     ]
    },
    {
     "name": "stdout",
     "output_type": "stream",
     "text": [
      "Gradient: 3.3782503e-06 Loss: 1.3203828170086732e-07\n",
      "Gradient: 2.7743988e-06 Loss: 1.449583059809356e-07\n",
      "Gradient: 5.847016e-06 Loss: 1.695153628133994e-07\n",
      "Gradient: 1.9236554e-06 Loss: 1.4644556548167505e-07\n",
      "Gradient: 1.8586547e-06 Loss: 1.2967674294372956e-07\n",
      "Gradient: 4.674491e-06 Loss: 1.6187460450585907e-07\n",
      "Gradient: 2.5673949e-06 Loss: 1.221836361272229e-07\n",
      "Gradient: 1.9078136e-06 Loss: 1.1949295431653202e-07\n",
      "Gradient: 1.7812699e-06 Loss: 1.3298061152985003e-07\n",
      "Gradient: 1.1701476e-06 Loss: 1.3558048739999624e-07\n",
      "Gradient: 4.468517e-06 Loss: 1.6936774282309368e-07\n",
      "Gradient: 2.757094e-06 Loss: 1.4149553919651226e-07\n",
      "Gradient: 6.0706343e-06 Loss: 1.5141823794806442e-07\n",
      "Gradient: 2.1582223e-06 Loss: 1.335482695689431e-07\n",
      "Gradient: 6.8717573e-06 Loss: 1.7470377263369605e-07\n",
      "Gradient: 5.1406887e-06 Loss: 1.3761272370516054e-07\n",
      "Gradient: 6.325264e-06 Loss: 1.6214706164419112e-07\n",
      "Gradient: 4.459293e-06 Loss: 1.5538057027697504e-07\n",
      "Gradient: 1.4054367e-06 Loss: 1.5339372770502752e-07\n",
      "Gradient: 1.4228804e-06 Loss: 1.6329377482785883e-07\n",
      "Gradient: 2.9597375e-06 Loss: 1.6239684110056867e-07\n",
      "Gradient: 1.9660752e-06 Loss: 1.573106497213909e-07\n",
      "Gradient: 8.578818e-07 Loss: 1.325945646613036e-07\n",
      "Gradient: 1.4718712e-06 Loss: 1.2629355647201616e-07\n",
      "Gradient: 7.521711e-06 Loss: 1.6251036214498526e-07\n",
      "Gradient: 1.1726302e-06 Loss: 1.2755373006712035e-07\n",
      "Gradient: 6.45121e-06 Loss: 1.4619578436736447e-07\n",
      "Gradient: 5.6369727e-06 Loss: 1.587297717264846e-07\n",
      "Gradient: 1.9404306e-06 Loss: 1.2783757412648812e-07\n",
      "Gradient: 8.593545e-07 Loss: 1.3685203903435195e-07\n",
      "Gradient: 5.8506686e-07 Loss: 1.2952920004731066e-07\n",
      "Gradient: 1.9083411e-06 Loss: 1.327989044360341e-07\n",
      "Gradient: 3.461023e-06 Loss: 1.2739478023604532e-07\n",
      "Gradient: 1.8874867e-06 Loss: 1.1407747161721697e-07\n",
      "Gradient: 7.533515e-06 Loss: 1.340477927177138e-07\n",
      "Gradient: 1.6085447e-06 Loss: 1.0692491846005699e-07\n",
      "Gradient: 9.974408e-07 Loss: 1.4059862725919933e-07\n",
      "Gradient: 1.9176675e-06 Loss: 1.3789654526400834e-07\n",
      "Gradient: 9.340523e-06 Loss: 1.3058505790771354e-07\n",
      "Gradient: 2.2358072e-06 Loss: 1.7298944167502366e-07\n",
      "Gradient: 6.951473e-06 Loss: 2.134183228956014e-07\n",
      "Gradient: 1.6321351e-06 Loss: 1.4919304618388197e-07\n",
      "Gradient: 3.0377653e-06 Loss: 1.3981526431431727e-07\n",
      "Gradient: 3.6151707e-06 Loss: 1.6052358281134124e-07\n",
      "Gradient: 4.4870103e-06 Loss: 1.5875249654110727e-07\n",
      "Gradient: 1.2316368e-06 Loss: 1.3811225774891984e-07\n",
      "Gradient: 2.2854995e-06 Loss: 1.2946105461727106e-07\n",
      "Gradient: 4.1556204e-06 Loss: 1.8798706757176358e-07\n",
      "Gradient: 2.2532327e-06 Loss: 1.8503524709482614e-07\n",
      "Gradient: 3.2518824e-06 Loss: 1.409959703361589e-07\n",
      "Gradient: 4.857405e-06 Loss: 1.753509034566984e-07\n",
      "Gradient: 9.345941e-07 Loss: 1.393157087174283e-07\n",
      "Gradient: 1.3604874e-06 Loss: 1.6280559407277905e-07\n",
      "Gradient: 2.131892e-06 Loss: 1.5363214060926112e-07\n",
      "Gradient: 1.8541575e-06 Loss: 1.4478798486076508e-07\n",
      "Gradient: 7.1579507e-07 Loss: 1.419609958475121e-07\n",
      "Gradient: 1.753486e-06 Loss: 1.3785112334592972e-07\n",
      "Gradient: 5.6905437e-06 Loss: 1.9257377535571624e-07\n",
      "Gradient: 1.3914705e-06 Loss: 1.5476748842502276e-07\n",
      "Gradient: 4.7715016e-06 Loss: 1.4464041910855486e-07\n",
      "Gradient: 1.5849207e-06 Loss: 1.4046239347938656e-07\n",
      "Gradient: 1.4408938e-06 Loss: 1.442543691609899e-07\n",
      "Gradient: 1.3648264e-06 Loss: 1.7248990976289255e-07\n",
      "Gradient: 2.5105685e-06 Loss: 1.5746955052501715e-07\n",
      "Gradient: 1.5495328e-06 Loss: 1.466725907543302e-07\n",
      "Gradient: 1.91855e-06 Loss: 1.3135708059053287e-07\n",
      "Gradient: 3.3806136e-06 Loss: 1.6850492225254737e-07\n",
      "Gradient: 1.4983849e-06 Loss: 1.659277283276121e-07\n",
      "Gradient: 3.867271e-06 Loss: 1.937204515911617e-07\n",
      "Gradient: 3.4450034e-06 Loss: 1.167227604052338e-07\n",
      "Gradient: 8.4862415e-07 Loss: 1.659390422995936e-07\n",
      "Gradient: 6.7960065e-07 Loss: 1.415069079987082e-07\n",
      "Gradient: 2.311478e-06 Loss: 1.2949516280021573e-07\n",
      "Gradient: 2.6633243e-06 Loss: 1.4768304481549422e-07\n",
      "Gradient: 1.1218013e-06 Loss: 1.523265197533874e-07\n",
      "Gradient: 2.2055715e-06 Loss: 1.3018772927845628e-07\n",
      "Gradient: 1.45068e-06 Loss: 1.3038069788251505e-07\n",
      "Gradient: 2.1705778e-06 Loss: 1.3379802557741035e-07\n",
      "Gradient: 2.9583045e-06 Loss: 1.8804385604198615e-07\n",
      "Gradient: 1.4407083e-06 Loss: 1.562888049496299e-07\n",
      "Gradient: 1.0043509e-06 Loss: 1.4529885987712988e-07\n",
      "Gradient: 1.0049602e-06 Loss: 1.2797383372268693e-07\n",
      "Gradient: 2.4167587e-06 Loss: 1.2696335905578355e-07\n",
      "Gradient: 1.8858246e-06 Loss: 1.9432222397123648e-07\n",
      "Gradient: 4.918681e-07 Loss: 1.312435447431426e-07\n",
      "Gradient: 2.567855e-06 Loss: 1.8184501821375912e-07\n",
      "Gradient: 1.4010665e-06 Loss: 1.4507178605072114e-07\n",
      "Gradient: 7.771706e-07 Loss: 1.569359483255539e-07\n",
      "Gradient: 1.0670609e-06 Loss: 1.2277404195515374e-07\n",
      "Gradient: 2.8157838e-06 Loss: 1.4257403080364384e-07\n",
      "Gradient: 1.557162e-06 Loss: 1.4773980865356863e-07\n",
      "Gradient: 1.3379527e-06 Loss: 1.4107543483040293e-07\n",
      "Gradient: 3.5389746e-06 Loss: 1.25986982387379e-07\n",
      "Gradient: 5.700992e-06 Loss: 1.3224263047580584e-07\n",
      "Gradient: 3.7646146e-06 Loss: 2.0556188644604846e-07\n",
      "Gradient: 1.1040144e-06 Loss: 1.439591846027118e-07\n",
      "Gradient: 7.9477996e-07 Loss: 1.1353247704922372e-07\n",
      "Gradient: 2.636318e-06 Loss: 1.352058310051992e-07\n",
      "Gradient: 1.5145918e-06 Loss: 1.439705473652945e-07\n",
      "Gradient: 1.3550771e-06 Loss: 1.624195903104919e-07\n",
      "Gradient: 1.0218694e-06 Loss: 1.0943398199477391e-07\n",
      "Gradient: 2.3959462e-06 Loss: 1.403261165933145e-07\n",
      "Gradient: 1.3569588e-06 Loss: 1.3064182458795888e-07\n",
      "Gradient: 3.542375e-06 Loss: 1.6431557412488473e-07\n",
      "Gradient: 1.3019245e-06 Loss: 1.317998756652135e-07\n",
      "Gradient: 2.9404573e-06 Loss: 1.5976294491792943e-07\n",
      "Gradient: 5.780761e-07 Loss: 1.259983451499617e-07\n",
      "Gradient: 2.4799663e-06 Loss: 1.296767756286954e-07\n",
      "Gradient: 8.8412685e-07 Loss: 1.6146590387696353e-07\n",
      "Gradient: 1.7549107e-06 Loss: 1.748627482811571e-07\n",
      "Gradient: 7.3116945e-07 Loss: 1.2476085657908699e-07\n",
      "Gradient: 1.9629529e-06 Loss: 1.3317359209471155e-07\n",
      "Gradient: 1.9876384e-06 Loss: 1.5528968759781493e-07\n",
      "Gradient: 5.6777053e-06 Loss: 1.6641592139876594e-07\n",
      "Gradient: 5.314864e-06 Loss: 1.7503304050592305e-07\n",
      "Gradient: 1.6106762e-06 Loss: 1.862614079565598e-07\n",
      "Gradient: 3.1056684e-06 Loss: 1.5099822879468167e-07\n",
      "Gradient: 5.137623e-06 Loss: 1.5853674639743076e-07\n",
      "Gradient: 1.3364183e-06 Loss: 1.404964568981389e-07\n",
      "Gradient: 1.403965e-06 Loss: 1.284847153707839e-07\n",
      "Gradient: 5.4742856e-07 Loss: 1.0821914978957163e-07\n",
      "Gradient: 2.8638165e-06 Loss: 1.8139088927190036e-07\n",
      "Gradient: 8.6962314e-07 Loss: 1.1583719417747792e-07\n",
      "Gradient: 2.2036706e-06 Loss: 1.3352555801778485e-07\n",
      "Gradient: 4.6780788e-06 Loss: 1.7712198759530415e-07\n",
      "Gradient: 3.3961435e-06 Loss: 1.7380686803865804e-07\n",
      "Gradient: 3.4744405e-06 Loss: 1.5778747363507744e-07\n",
      "Gradient: 4.3182737e-07 Loss: 1.2137756281542048e-07\n",
      "Gradient: 1.6317904e-06 Loss: 1.2597563312510828e-07\n",
      "Gradient: 1.0059001e-07 Loss: 1.384074851470037e-07\n",
      "Gradient: 3.075458e-06 Loss: 1.600921343936079e-07\n",
      "Gradient: 2.318578e-06 Loss: 1.5363213397752892e-07\n",
      "Gradient: 1.4176773e-06 Loss: 1.3685207846947379e-07\n",
      "Gradient: 6.2605193e-07 Loss: 1.3642066486833453e-07\n",
      "Gradient: 1.9502677e-06 Loss: 1.6363438864649046e-07\n",
      "Gradient: 2.4073167e-06 Loss: 1.1682495350366177e-07\n",
      "Gradient: 1.513331e-06 Loss: 1.2507874960950479e-07\n",
      "Gradient: 1.4277541e-06 Loss: 1.3801007933504176e-07\n",
      "Gradient: 1.7599682e-06 Loss: 1.5464260461802344e-07\n",
      "Gradient: 3.2103221e-06 Loss: 1.336730970062187e-07\n",
      "Gradient: 1.2005839e-06 Loss: 1.3779435145503764e-07\n",
      "Gradient: 8.935534e-07 Loss: 1.4982878819106796e-07\n",
      "Gradient: 7.139352e-07 Loss: 1.2680440354036666e-07\n",
      "Gradient: 1.2412986e-06 Loss: 1.5834376038507495e-07\n",
      "Gradient: 7.124345e-07 Loss: 1.2963138544819232e-07\n",
      "Gradient: 4.967892e-06 Loss: 1.3539884614980718e-07\n",
      "Gradient: 8.08126e-07 Loss: 1.2865500451653133e-07\n",
      "Gradient: 2.5806569e-06 Loss: 1.6633641545619562e-07\n",
      "Gradient: 2.2385411e-06 Loss: 1.661888118083728e-07\n",
      "Gradient: 1.5350946e-06 Loss: 1.515885604893204e-07\n",
      "Gradient: 1.4333528e-07 Loss: 1.6087548881197715e-07\n",
      "Gradient: 8.9730383e-07 Loss: 1.3610273678447507e-07\n",
      "Gradient: 1.20851e-06 Loss: 1.6129559791503803e-07\n",
      "Gradient: 1.983153e-06 Loss: 1.4970387051486493e-07\n",
      "Gradient: 1.0337781e-06 Loss: 1.4873891463669982e-07\n",
      "Gradient: 9.861049e-07 Loss: 1.4578707450141337e-07\n",
      "Gradient: 3.7621862e-06 Loss: 1.2935891315161523e-07\n"
     ]
    },
    {
     "name": "stdout",
     "output_type": "stream",
     "text": [
      "Gradient: 2.3397401e-06 Loss: 1.44436034569632e-07\n",
      "Gradient: 1.2205147e-06 Loss: 1.638841527077754e-07\n",
      "Gradient: 1.3071533e-06 Loss: 1.593541867350723e-07\n",
      "Gradient: 3.230074e-06 Loss: 1.3795333586585912e-07\n",
      "Gradient: 3.613597e-07 Loss: 1.3962223637994006e-07\n",
      "Gradient: 9.3566814e-07 Loss: 1.2304651922552997e-07\n",
      "Gradient: 1.7373907e-06 Loss: 1.3589838611475596e-07\n",
      "Gradient: 1.1680374e-06 Loss: 1.4852319149364727e-07\n",
      "Gradient: 1.259467e-06 Loss: 1.2949515072098923e-07\n",
      "Gradient: 2.4573442e-06 Loss: 1.4372073830296965e-07\n",
      "Gradient: 1.1909572e-06 Loss: 1.339342669363456e-07\n",
      "Gradient: 1.9011848e-06 Loss: 1.883503912836204e-07\n",
      "Gradient: 1.3455649e-06 Loss: 1.1388443349839387e-07\n",
      "Gradient: 6.452087e-07 Loss: 1.2677039435970982e-07\n",
      "Gradient: 1.1499035e-06 Loss: 1.1907284450292839e-07\n",
      "Gradient: 1.6998438e-06 Loss: 1.391568086243448e-07\n",
      "Gradient: 2.32054e-06 Loss: 1.32106413038476e-07\n",
      "Gradient: 1.4928827e-06 Loss: 1.4272168300522025e-07\n",
      "Gradient: 1.5922503e-06 Loss: 1.3896378211105306e-07\n",
      "Gradient: 6.778199e-07 Loss: 1.4174532812679292e-07\n",
      "Gradient: 8.544471e-07 Loss: 1.534164591513824e-07\n",
      "Gradient: 3.102215e-06 Loss: 1.5426795343387312e-07\n",
      "Gradient: 6.731557e-07 Loss: 1.2924537197515445e-07\n",
      "Gradient: 2.5777445e-06 Loss: 1.7974461314906874e-07\n",
      "Gradient: 1.5665818e-06 Loss: 1.0781045342393251e-07\n",
      "Gradient: 2.1797513e-07 Loss: 1.6205628661225546e-07\n",
      "Gradient: 1.8798512e-06 Loss: 1.5615261001282003e-07\n",
      "Gradient: 7.135203e-07 Loss: 1.26656813866551e-07\n",
      "Gradient: 2.2734716e-06 Loss: 1.6025109346173848e-07\n",
      "Gradient: 1.686089e-06 Loss: 1.2874584172095637e-07\n",
      "Gradient: 6.734081e-07 Loss: 1.352512729368982e-07\n",
      "Gradient: 3.1414538e-06 Loss: 1.6321429399113186e-07\n",
      "Gradient: 1.8910797e-06 Loss: 1.49885624741349e-07\n",
      "Gradient: 4.315689e-07 Loss: 1.4922709562862716e-07\n",
      "Gradient: 2.8685563e-06 Loss: 1.355918395044379e-07\n",
      "Gradient: 9.945657e-07 Loss: 1.6055764196683715e-07\n",
      "Gradient: 5.9277095e-06 Loss: 1.9223321648572285e-07\n",
      "Gradient: 9.5126387e-07 Loss: 1.3880479912131705e-07\n",
      "Gradient: 1.9502925e-06 Loss: 1.6731287028430112e-07\n",
      "Gradient: 1.3593033e-06 Loss: 1.6857305572178422e-07\n",
      "Gradient: 2.4936446e-06 Loss: 1.2370501328481017e-07\n",
      "Gradient: 5.3528635e-07 Loss: 1.512593347759624e-07\n",
      "Gradient: 6.4291254e-07 Loss: 1.4565083456356357e-07\n",
      "Gradient: 5.298881e-07 Loss: 1.2795110559219818e-07\n",
      "Gradient: 7.068353e-07 Loss: 1.3768086783253846e-07\n",
      "Gradient: 6.8884236e-07 Loss: 1.673014404938537e-07\n",
      "Gradient: 1.7534057e-06 Loss: 1.6861842719132862e-07\n",
      "Gradient: 1.1642412e-06 Loss: 1.1475863933204285e-07\n",
      "Gradient: 6.384849e-07 Loss: 1.5021484500721272e-07\n",
      "Gradient: 1.1933605e-06 Loss: 1.4801228379231664e-07\n",
      "Gradient: 1.1514107e-06 Loss: 1.6137508869936332e-07\n",
      "Gradient: 5.4224313e-07 Loss: 1.3816903816632474e-07\n",
      "Gradient: 3.8117088e-07 Loss: 1.5979700407342534e-07\n",
      "Gradient: 6.568983e-07 Loss: 1.4598005175040876e-07\n",
      "Gradient: 6.2336767e-07 Loss: 1.1948159013286385e-07\n",
      "Gradient: 9.12871e-07 Loss: 1.3969038548111712e-07\n",
      "Gradient: 8.7930243e-07 Loss: 1.335596157521953e-07\n",
      "Gradient: 1.0899128e-06 Loss: 1.5231516338568934e-07\n",
      "Gradient: 7.7979325e-07 Loss: 1.4969256933265267e-07\n",
      "Gradient: 1.8555195e-06 Loss: 1.5640233191523597e-07\n",
      "Gradient: 1.9150248e-06 Loss: 1.098653986749317e-07\n",
      "Gradient: 7.7522947e-07 Loss: 1.244770326517634e-07\n",
      "Gradient: 1.6028584e-06 Loss: 1.4905677119259054e-07\n",
      "Gradient: 3.5895033e-07 Loss: 1.6996950762404596e-07\n",
      "Gradient: 1.0824795e-06 Loss: 1.55516786530067e-07\n",
      "Gradient: 2.8024007e-07 Loss: 1.4822802600159926e-07\n",
      "Gradient: 1.3958772e-06 Loss: 1.5380246433475502e-07\n",
      "Gradient: 1.2794256e-06 Loss: 1.4536698316192088e-07\n",
      "Gradient: 1.0227996e-06 Loss: 1.3920216825151027e-07\n",
      "Gradient: 9.514569e-07 Loss: 1.378624960561107e-07\n",
      "Gradient: 7.8348216e-07 Loss: 1.4671803446238604e-07\n",
      "Gradient: 1.0666536e-06 Loss: 1.4048510147783114e-07\n",
      "Gradient: 1.9249112e-06 Loss: 1.7068476007390624e-07\n",
      "Gradient: 2.4935966e-07 Loss: 1.300401309004921e-07\n",
      "Gradient: 1.0972426e-06 Loss: 1.7073013793833525e-07\n",
      "Gradient: 1.0797879e-06 Loss: 1.2482899668005604e-07\n",
      "Gradient: 3.7040581e-07 Loss: 1.374991974500972e-07\n",
      "Gradient: 1.0283123e-06 Loss: 1.5265582078427543e-07\n",
      "Gradient: 1.8010691e-06 Loss: 1.4289197380890073e-07\n",
      "Gradient: 1.0884359e-06 Loss: 1.25998359597664e-07\n",
      "Gradient: 6.7531073e-07 Loss: 1.0744713137000872e-07\n",
      "Gradient: 2.763243e-07 Loss: 1.6195406686847492e-07\n",
      "Gradient: 8.5960534e-07 Loss: 1.3265136331597204e-07\n",
      "Gradient: 6.881815e-07 Loss: 1.5993321322108993e-07\n",
      "Gradient: 1.1798707e-06 Loss: 1.5759440993671585e-07\n",
      "Gradient: 9.200096e-07 Loss: 1.4106410522648124e-07\n",
      "Gradient: 1.9053797e-06 Loss: 1.4923844560144062e-07\n",
      "Gradient: 2.842055e-07 Loss: 1.482053069897423e-07\n",
      "Gradient: 2.334934e-06 Loss: 1.4024665375700352e-07\n",
      "Gradient: 3.9482128e-07 Loss: 1.1127320647119631e-07\n",
      "Gradient: 6.8063207e-07 Loss: 1.0699304198169557e-07\n",
      "Gradient: 1.729969e-06 Loss: 1.6710846016583975e-07\n",
      "Gradient: 1.3064792e-06 Loss: 1.3316229209673718e-07\n",
      "Gradient: 1.4081088e-06 Loss: 1.441294818012769e-07\n",
      "Gradient: 1.0671338e-06 Loss: 1.4939739685360108e-07\n",
      "Gradient: 5.604927e-07 Loss: 1.1832357718806937e-07\n",
      "Gradient: 7.0517524e-07 Loss: 1.2671362317936049e-07\n",
      "Gradient: 5.643792e-07 Loss: 1.399855236172698e-07\n",
      "Gradient: 8.948595e-07 Loss: 1.4392516144804783e-07\n",
      "Gradient: 2.4359256e-06 Loss: 1.2043526851357455e-07\n",
      "Gradient: 6.5986757e-07 Loss: 1.21877141149677e-07\n",
      "Gradient: 2.991263e-07 Loss: 1.3249241774815347e-07\n",
      "Gradient: 1.0624713e-06 Loss: 1.2610052853763895e-07\n",
      "Gradient: 1.5147423e-06 Loss: 1.5398414158577603e-07\n",
      "Gradient: 1.0971944e-06 Loss: 1.5836644161974316e-07\n",
      "Gradient: 2.3340691e-07 Loss: 1.510549558029576e-07\n",
      "Gradient: 6.282222e-07 Loss: 1.1701793880547485e-07\n",
      "Gradient: 2.9233047e-06 Loss: 1.6771018470270368e-07\n",
      "Gradient: 1.757485e-06 Loss: 1.559368821328159e-07\n",
      "Gradient: 7.256463e-07 Loss: 1.6320297646643667e-07\n",
      "Gradient: 7.535414e-07 Loss: 1.4390244208091947e-07\n",
      "Gradient: 2.1258656e-06 Loss: 1.72013028532092e-07\n",
      "Gradient: 1.6581303e-07 Loss: 1.1956107073274325e-07\n",
      "Gradient: 3.7659615e-06 Loss: 1.689136325921936e-07\n",
      "Gradient: 6.011435e-07 Loss: 1.334233867093341e-07\n",
      "Gradient: 1.7033387e-06 Loss: 1.3436570801180399e-07\n",
      "Gradient: 1.877963e-06 Loss: 1.427670881071208e-07\n",
      "Gradient: 1.8738494e-06 Loss: 1.64531273820027e-07\n",
      "Gradient: 1.3987095e-06 Loss: 1.25941600022846e-07\n",
      "Gradient: 2.4393015e-07 Loss: 1.519177956765816e-07\n",
      "Gradient: 7.5954557e-07 Loss: 1.348425553734008e-07\n",
      "Gradient: 1.3095475e-06 Loss: 1.496244323107021e-07\n",
      "Gradient: 4.902219e-07 Loss: 1.4207454507679055e-07\n",
      "Gradient: 7.871107e-07 Loss: 1.384869285914192e-07\n",
      "Gradient: 1.0117312e-06 Loss: 1.0599393718280226e-07\n",
      "Gradient: 1.3710796e-06 Loss: 1.533142897377123e-07\n",
      "Gradient: 1.1779507e-06 Loss: 1.3782845205885982e-07\n",
      "Gradient: 2.0088707e-07 Loss: 1.544609197878799e-07\n",
      "Gradient: 2.2766412e-06 Loss: 2.1303235537099378e-07\n",
      "Gradient: 1.22451e-06 Loss: 1.5964937697769224e-07\n",
      "Gradient: 1.0362226e-06 Loss: 1.413025548420895e-07\n",
      "Gradient: 1.9236566e-06 Loss: 1.5155450749186155e-07\n",
      "Gradient: 7.93498e-07 Loss: 1.4302823151031892e-07\n",
      "Gradient: 9.139394e-07 Loss: 1.5435878566449902e-07\n",
      "Gradient: 6.831001e-07 Loss: 1.4708132525242946e-07\n",
      "Gradient: 1.1837683e-06 Loss: 1.5028296473929004e-07\n",
      "Gradient: 4.907976e-07 Loss: 1.3292382874396936e-07\n",
      "Gradient: 7.6898345e-07 Loss: 1.2814410155215228e-07\n",
      "Gradient: 1.4927139e-06 Loss: 1.546653104848398e-07\n",
      "Gradient: 4.871806e-07 Loss: 1.4544651539457238e-07\n",
      "Gradient: 2.2461888e-06 Loss: 1.3242430748997928e-07\n",
      "Gradient: 1.3200299e-06 Loss: 1.3046020086449062e-07\n",
      "Gradient: 6.9645347e-07 Loss: 1.5710623936608197e-07\n",
      "Gradient: 8.9322896e-07 Loss: 1.3183394050505134e-07\n",
      "Gradient: 2.3552712e-07 Loss: 1.3333256632108714e-07\n",
      "Gradient: 1.8127815e-07 Loss: 1.6782368182551483e-07\n",
      "Gradient: 6.4592126e-07 Loss: 1.43289355255168e-07\n",
      "Gradient: 5.0490394e-07 Loss: 1.61840602193782e-07\n",
      "Gradient: 1.1493459e-07 Loss: 1.1690438384744558e-07\n",
      "Gradient: 9.990238e-07 Loss: 1.318112000584885e-07\n",
      "Gradient: 4.169479e-07 Loss: 1.460595659826443e-07\n",
      "Gradient: 6.8470695e-07 Loss: 1.2783756252095674e-07\n",
      "Gradient: 1.5245804e-06 Loss: 1.3713591660765207e-07\n",
      "Gradient: 4.5883257e-07 Loss: 1.1995840859905608e-07\n",
      "Gradient: 5.328109e-07 Loss: 1.1911826902633038e-07\n",
      "Gradient: 8.156303e-07 Loss: 1.3900916210711026e-07\n",
      "Gradient: 1.8027861e-06 Loss: 1.377149056717523e-07\n"
     ]
    },
    {
     "name": "stdout",
     "output_type": "stream",
     "text": [
      "Gradient: 2.209861e-06 Loss: 1.3823713539788212e-07\n",
      "Gradient: 1.2558513e-06 Loss: 1.3962224869601415e-07\n",
      "Gradient: 7.0072963e-07 Loss: 1.3916814580738902e-07\n",
      "Gradient: 1.5663005e-06 Loss: 1.430623119820969e-07\n",
      "Gradient: 6.356917e-07 Loss: 1.3210641919651304e-07\n",
      "Gradient: 6.1259107e-07 Loss: 1.3738569109023048e-07\n",
      "Gradient: 1.7944662e-06 Loss: 1.2879125842838828e-07\n",
      "Gradient: 2.127084e-06 Loss: 1.2907510154036573e-07\n",
      "Gradient: 2.9408338e-07 Loss: 1.3270811294319174e-07\n",
      "Gradient: 1.8379e-06 Loss: 1.5569846946542992e-07\n",
      "Gradient: 6.926048e-07 Loss: 1.1926587741110478e-07\n",
      "Gradient: 2.1843352e-06 Loss: 1.3008550183712942e-07\n",
      "Gradient: 1.7429311e-06 Loss: 1.5464261598670722e-07\n",
      "Gradient: 1.1974507e-06 Loss: 1.5547135016428607e-07\n",
      "Gradient: 1.6442532e-06 Loss: 1.489546562538635e-07\n",
      "Gradient: 9.300444e-08 Loss: 1.220928670164767e-07\n",
      "Gradient: 7.498194e-07 Loss: 1.4073485251249926e-07\n",
      "Gradient: 2.2370988e-07 Loss: 1.406667485307859e-07\n",
      "Gradient: 5.0172275e-07 Loss: 1.8558022674142194e-07\n",
      "Gradient: 9.430287e-07 Loss: 1.269520609525898e-07\n",
      "Gradient: 5.3584677e-07 Loss: 1.4637747606608778e-07\n",
      "Gradient: 1.2000751e-06 Loss: 1.415977313475499e-07\n",
      "Gradient: 6.008303e-07 Loss: 1.4559409677872281e-07\n",
      "Gradient: 1.2821997e-06 Loss: 1.6427017328624062e-07\n",
      "Gradient: 9.0557455e-07 Loss: 1.3030126429688002e-07\n",
      "Gradient: 7.882186e-07 Loss: 1.4224485530197248e-07\n",
      "Gradient: 1.3357959e-06 Loss: 1.6070523400912862e-07\n",
      "Gradient: 1.6519509e-06 Loss: 1.493633725146992e-07\n",
      "Gradient: 9.276369e-07 Loss: 1.3324173977480314e-07\n",
      "Gradient: 8.239953e-07 Loss: 1.470245621248978e-07\n",
      "Gradient: 1.5836887e-06 Loss: 1.316181529394574e-07\n",
      "Gradient: 7.779363e-07 Loss: 1.5201999564358933e-07\n",
      "Gradient: 1.0679922e-06 Loss: 1.425627658591111e-07\n",
      "Gradient: 9.574632e-07 Loss: 1.3799877199479245e-07\n",
      "Gradient: 1.0027964e-06 Loss: 1.1890255227816245e-07\n",
      "Gradient: 4.349534e-07 Loss: 1.4955635473749378e-07\n",
      "Gradient: 6.4854225e-07 Loss: 1.2887073902826766e-07\n",
      "Gradient: 1.109318e-06 Loss: 1.330600881033206e-07\n",
      "Gradient: 7.1240567e-07 Loss: 1.4928389759916172e-07\n",
      "Gradient: 1.130888e-06 Loss: 1.3034665187205973e-07\n",
      "Gradient: 4.3178994e-07 Loss: 1.4033749996163654e-07\n",
      "Gradient: 8.303923e-07 Loss: 9.642314987938032e-08\n",
      "Gradient: 9.228054e-07 Loss: 1.6528060697851288e-07\n",
      "Gradient: 2.1583999e-06 Loss: 1.527352518830109e-07\n",
      "Gradient: 9.3443987e-07 Loss: 1.267022791277365e-07\n",
      "Gradient: 6.90197e-07 Loss: 1.4537838050425004e-07\n",
      "Gradient: 9.070172e-07 Loss: 1.3501284333491032e-07\n",
      "Gradient: 9.738117e-07 Loss: 1.1120505642262894e-07\n",
      "Gradient: 8.6345267e-07 Loss: 1.6115936366153013e-07\n",
      "Gradient: 3.8479078e-07 Loss: 1.3286708574848187e-07\n",
      "Gradient: 4.91982e-07 Loss: 1.2403423852447303e-07\n",
      "Gradient: 4.023181e-07 Loss: 1.4124577797739828e-07\n",
      "Gradient: 2.482986e-07 Loss: 1.2984709816995139e-07\n",
      "Gradient: 1.3176477e-06 Loss: 1.3872532160045617e-07\n",
      "Gradient: 4.288978e-07 Loss: 1.814362754259946e-07\n",
      "Gradient: 1.3885293e-06 Loss: 1.7476057649901123e-07\n",
      "Gradient: 1.4095847e-06 Loss: 1.435959233594038e-07\n",
      "Gradient: 1.7958416e-06 Loss: 1.3341202489414173e-07\n",
      "Gradient: 2.7370737e-07 Loss: 1.5728789494554956e-07\n",
      "Gradient: 1.1347369e-06 Loss: 1.2931350094428731e-07\n",
      "Gradient: 1.6985521e-06 Loss: 1.8031231595235415e-07\n",
      "Gradient: 5.710963e-07 Loss: 1.413365832074002e-07\n",
      "Gradient: 1.2452477e-06 Loss: 1.5186103657545876e-07\n",
      "Gradient: 1.3552442e-06 Loss: 1.528260341387977e-07\n",
      "Gradient: 7.707304e-07 Loss: 1.6383870757863405e-07\n",
      "Gradient: 6.4142586e-07 Loss: 1.6303263876693564e-07\n",
      "Gradient: 1.3946272e-06 Loss: 1.1439531183062476e-07\n",
      "Gradient: 7.17204e-07 Loss: 1.492384688125033e-07\n",
      "Gradient: 8.4386545e-07 Loss: 1.355918686366901e-07\n",
      "Gradient: 3.8435113e-07 Loss: 1.4105272943728172e-07\n",
      "Gradient: 1.9631734e-06 Loss: 1.5434741780969338e-07\n",
      "Gradient: 5.5206107e-07 Loss: 1.2731531834712465e-07\n",
      "Gradient: 1.1103735e-06 Loss: 1.445722996133251e-07\n",
      "Gradient: 7.010245e-07 Loss: 1.470359300981272e-07\n",
      "Gradient: 4.11935e-06 Loss: 1.8458104425652285e-07\n",
      "Gradient: 6.1844935e-07 Loss: 1.132032323880594e-07\n",
      "Gradient: 4.917878e-07 Loss: 1.5279201595793286e-07\n",
      "Gradient: 1.3672458e-06 Loss: 1.2839389711416517e-07\n",
      "Gradient: 4.7424376e-07 Loss: 1.1718824832011402e-07\n",
      "Gradient: 1.1262164e-06 Loss: 1.308348259954073e-07\n",
      "Gradient: 6.1470627e-07 Loss: 1.4726298426618694e-07\n",
      "Gradient: 2.0743446e-06 Loss: 1.9449255101259647e-07\n",
      "Gradient: 8.9219736e-07 Loss: 1.3613681749310065e-07\n",
      "Gradient: 7.5618124e-07 Loss: 1.3664769535163638e-07\n",
      "Gradient: 1.1425539e-06 Loss: 1.621243796989802e-07\n",
      "Gradient: 2.9729244e-06 Loss: 1.3561454797657765e-07\n",
      "Gradient: 2.45649e-06 Loss: 1.529963536010352e-07\n",
      "Gradient: 5.021016e-07 Loss: 1.678805091387403e-07\n",
      "Gradient: 2.436521e-07 Loss: 1.5298504199752945e-07\n",
      "Gradient: 8.4800024e-07 Loss: 1.4034887906670217e-07\n",
      "Gradient: 5.1306773e-07 Loss: 1.403147929105823e-07\n",
      "Gradient: 8.537565e-07 Loss: 1.344111135873997e-07\n",
      "Gradient: 3.0843853e-07 Loss: 1.509301166417269e-07\n",
      "Gradient: 8.5244744e-07 Loss: 1.2677036049050608e-07\n",
      "Gradient: 1.2143615e-06 Loss: 1.4091650986832369e-07\n",
      "Gradient: 1.327165e-06 Loss: 1.1048983381556354e-07\n",
      "Gradient: 9.0325193e-07 Loss: 1.7090046355860977e-07\n",
      "Gradient: 1.3113136e-06 Loss: 1.281441479742777e-07\n",
      "Gradient: 4.1175065e-07 Loss: 1.1561012911442958e-07\n",
      "Gradient: 1.4613398e-07 Loss: 1.1650706402595764e-07\n",
      "Gradient: 5.2912617e-07 Loss: 1.503624325494002e-07\n",
      "Gradient: 1.3663357e-06 Loss: 1.4819396199072798e-07\n",
      "Gradient: 2.9171972e-07 Loss: 1.5374572418143846e-07\n",
      "Gradient: 4.4825973e-07 Loss: 1.4587788352097656e-07\n",
      "Gradient: 3.486942e-07 Loss: 1.4306228403408266e-07\n",
      "Gradient: 1.0857045e-06 Loss: 1.368861077821748e-07\n",
      "Gradient: 9.918926e-07 Loss: 1.3463817817675288e-07\n",
      "Gradient: 2.2450004e-07 Loss: 1.4559403555362375e-07\n",
      "Gradient: 7.3916334e-07 Loss: 1.0936585669677848e-07\n",
      "Gradient: 2.6446963e-07 Loss: 1.2330765789177652e-07\n",
      "Gradient: 4.0157312e-07 Loss: 1.5695867100854836e-07\n",
      "Gradient: 8.4881015e-07 Loss: 1.4343692669172015e-07\n",
      "Gradient: 2.0515056e-06 Loss: 1.2821219167828227e-07\n",
      "Gradient: 5.3822225e-07 Loss: 1.494201233261568e-07\n",
      "Gradient: 1.5897533e-07 Loss: 1.2192255608075205e-07\n",
      "Gradient: 1.1418773e-06 Loss: 1.0356434856362285e-07\n",
      "Gradient: 5.037341e-07 Loss: 1.705030963231972e-07\n",
      "Gradient: 8.467644e-07 Loss: 1.241477789903911e-07\n",
      "Gradient: 1.1162517e-06 Loss: 1.4420894274280726e-07\n",
      "Gradient: 1.305532e-07 Loss: 1.269066046916123e-07\n",
      "Gradient: 3.6575474e-07 Loss: 1.5954720685347942e-07\n",
      "Gradient: 5.9885343e-07 Loss: 1.323675102563963e-07\n",
      "Gradient: 3.6380123e-07 Loss: 1.0196352349112203e-07\n",
      "Gradient: 7.815039e-07 Loss: 1.8869103186602841e-07\n",
      "Gradient: 5.49806e-07 Loss: 1.1085313028994884e-07\n",
      "Gradient: 9.437926e-07 Loss: 1.672219996843675e-07\n",
      "Gradient: 5.8790437e-07 Loss: 1.7068474752098459e-07\n",
      "Gradient: 9.948265e-07 Loss: 1.462411674424402e-07\n",
      "Gradient: 1.3662896e-06 Loss: 1.7252399449792696e-07\n",
      "Gradient: 5.556305e-07 Loss: 1.4946552605958157e-07\n",
      "Gradient: 5.438108e-07 Loss: 1.343997200346318e-07\n",
      "Gradient: 4.4856955e-07 Loss: 1.3044883312810877e-07\n",
      "Gradient: 1.5522235e-06 Loss: 1.5669754039511947e-07\n",
      "Gradient: 3.8430568e-07 Loss: 1.422902350611821e-07\n",
      "Gradient: 9.657957e-07 Loss: 1.7127513416426154e-07\n",
      "Gradient: 1.3119544e-06 Loss: 1.839452939596716e-07\n",
      "Gradient: 6.964543e-07 Loss: 1.510095349506931e-07\n",
      "Gradient: 1.6191663e-07 Loss: 1.4008775591397202e-07\n",
      "Gradient: 9.3590626e-07 Loss: 1.5229248973014364e-07\n",
      "Gradient: 1.3902229e-06 Loss: 1.3290110866629827e-07\n",
      "Gradient: 9.732913e-07 Loss: 1.3300331147547695e-07\n",
      "Gradient: 9.0799176e-07 Loss: 1.3948604712747207e-07\n",
      "Gradient: 5.419921e-07 Loss: 1.2329628565529068e-07\n",
      "Gradient: 2.2029766e-07 Loss: 1.0335997705131679e-07\n",
      "Gradient: 9.867563e-07 Loss: 1.1947021979115865e-07\n",
      "Gradient: 2.2924094e-06 Loss: 1.4720625216568805e-07\n",
      "Gradient: 6.3860597e-07 Loss: 1.3226532615817633e-07\n",
      "Gradient: 3.208454e-07 Loss: 1.3116409244654885e-07\n",
      "Gradient: 1.0967459e-06 Loss: 1.8580729109392752e-07\n",
      "Gradient: 1.0613478e-06 Loss: 1.5284878429611126e-07\n",
      "Gradient: 1.7815984e-06 Loss: 1.3308277004853153e-07\n",
      "Gradient: 1.4079845e-06 Loss: 1.5108893739087155e-07\n",
      "Gradient: 1.0023608e-06 Loss: 1.490681242444225e-07\n",
      "Gradient: 1.861133e-06 Loss: 1.8806660809408034e-07\n",
      "Gradient: 3.0853005e-07 Loss: 1.4797823126855293e-07\n",
      "Gradient: 6.525431e-07 Loss: 1.395427465430051e-07\n",
      "Gradient: 2.7223714e-06 Loss: 1.3587566437915182e-07\n"
     ]
    },
    {
     "name": "stdout",
     "output_type": "stream",
     "text": [
      "Gradient: 2.6163605e-07 Loss: 1.3387751446695498e-07\n",
      "Gradient: 7.6107193e-07 Loss: 1.2968813791758294e-07\n",
      "Gradient: 2.546616e-06 Loss: 1.4818260941259116e-07\n",
      "Gradient: 3.5303933e-07 Loss: 1.3871395054820823e-07\n",
      "Gradient: 5.0466286e-07 Loss: 1.3487659818641381e-07\n",
      "Gradient: 1.2575872e-06 Loss: 1.449696479009314e-07\n",
      "Gradient: 1.4309952e-06 Loss: 1.5800315272448037e-07\n",
      "Gradient: 9.661878e-07 Loss: 1.494655277175146e-07\n",
      "Gradient: 1.4949567e-06 Loss: 1.1479269564536783e-07\n",
      "Gradient: 2.388067e-07 Loss: 1.2197929765515407e-07\n",
      "Gradient: 5.6553966e-07 Loss: 1.5347317846211203e-07\n",
      "Gradient: 1.2127632e-06 Loss: 1.2839390256165947e-07\n",
      "Gradient: 1.5419921e-06 Loss: 1.6277150460079308e-07\n",
      "Gradient: 3.9052367e-07 Loss: 1.300514902879968e-07\n",
      "Gradient: 6.1841234e-07 Loss: 1.4042835232430663e-07\n",
      "Gradient: 1.9185742e-07 Loss: 1.4786470667142264e-07\n",
      "Gradient: 6.5054525e-07 Loss: 1.3136847911709993e-07\n",
      "Gradient: 8.3221994e-07 Loss: 1.5675428386430212e-07\n",
      "Gradient: 1.2563839e-06 Loss: 1.315841567854174e-07\n",
      "Gradient: 8.606527e-07 Loss: 1.4411812993368281e-07\n",
      "Gradient: 1.473162e-07 Loss: 1.6053494154751508e-07\n",
      "Gradient: 7.621634e-07 Loss: 1.7166113034742617e-07\n",
      "Gradient: 8.133522e-07 Loss: 1.366590656933416e-07\n",
      "Gradient: 1.2124574e-06 Loss: 1.501466710370399e-07\n",
      "Gradient: 9.465099e-07 Loss: 1.6465616946940524e-07\n",
      "Gradient: 4.764308e-08 Loss: 1.2212691498092453e-07\n",
      "Gradient: 3.736428e-07 Loss: 1.397812190144047e-07\n",
      "Gradient: 2.5899135e-07 Loss: 1.3653415654365138e-07\n",
      "Gradient: 9.838768e-07 Loss: 1.104784449997472e-07\n",
      "Gradient: 5.099709e-07 Loss: 1.2866635330510688e-07\n",
      "Gradient: 2.1033925e-07 Loss: 1.2361418792276405e-07\n",
      "Gradient: 2.0241741e-06 Loss: 1.3934979084713935e-07\n",
      "Gradient: 1.1244086e-06 Loss: 1.6026245125052204e-07\n",
      "Gradient: 7.7129465e-07 Loss: 1.3265133726273842e-07\n",
      "Gradient: 5.070374e-07 Loss: 1.484891460753109e-07\n",
      "Gradient: 8.554747e-07 Loss: 1.2594159954915084e-07\n",
      "Gradient: 1.4496434e-06 Loss: 1.7415883064586523e-07\n",
      "Gradient: 8.492551e-07 Loss: 1.3392292359526435e-07\n",
      "Gradient: 3.6276143e-07 Loss: 1.2736075992355229e-07\n",
      "Gradient: 1.2608994e-06 Loss: 1.5525568291726207e-07\n",
      "Gradient: 2.6686945e-07 Loss: 1.4391379631698935e-07\n",
      "Gradient: 2.0223824e-06 Loss: 1.6379335174102986e-07\n",
      "Gradient: 5.1999876e-07 Loss: 1.5808266198291677e-07\n",
      "Gradient: 3.2595233e-07 Loss: 1.2115051883180665e-07\n",
      "Gradient: 6.372308e-07 Loss: 1.565840454039365e-07\n",
      "Gradient: 4.4193243e-07 Loss: 1.4613900371311198e-07\n",
      "Gradient: 9.3833603e-07 Loss: 1.3320763703935274e-07\n",
      "Gradient: 2.449304e-06 Loss: 1.5803723059093499e-07\n",
      "Gradient: 4.1027616e-07 Loss: 1.3707909687354914e-07\n",
      "Gradient: 1.600845e-06 Loss: 1.3031249371427596e-07\n",
      "Gradient: 2.6139168e-07 Loss: 1.007033129477956e-07\n",
      "Gradient: 1.1605148e-06 Loss: 1.4214265983506872e-07\n",
      "Gradient: 1.1685422e-06 Loss: 1.4965850094010119e-07\n",
      "Gradient: 5.417348e-07 Loss: 1.3420675060160647e-07\n",
      "Gradient: 8.4450335e-07 Loss: 1.384642452251228e-07\n",
      "Gradient: 1.0130734e-06 Loss: 1.426762670083311e-07\n",
      "Gradient: 1.5013438e-06 Loss: 1.4545780923450973e-07\n",
      "Gradient: 4.7152346e-07 Loss: 1.3014232488709846e-07\n",
      "Gradient: 1.0667991e-06 Loss: 1.079240012321255e-07\n",
      "Gradient: 5.8174504e-07 Loss: 1.7877961700681528e-07\n",
      "Gradient: 3.040153e-07 Loss: 1.3410458710912583e-07\n",
      "Gradient: 1.1553582e-06 Loss: 1.4343693095497655e-07\n",
      "Gradient: 7.2684725e-07 Loss: 1.526444248630317e-07\n",
      "Gradient: 2.837587e-07 Loss: 1.6547357333251967e-07\n",
      "Gradient: 8.801774e-07 Loss: 1.60035409635384e-07\n",
      "Gradient: 1.0669465e-06 Loss: 1.4348237939998398e-07\n",
      "Gradient: 1.7777645e-06 Loss: 1.7157026424759654e-07\n",
      "Gradient: 1.0460444e-06 Loss: 1.294838170906587e-07\n",
      "Gradient: 7.7921413e-07 Loss: 1.5526698244154128e-07\n",
      "Gradient: 6.0645317e-07 Loss: 1.9387945731826525e-07\n",
      "Gradient: 1.1473579e-06 Loss: 1.388502006705039e-07\n",
      "Gradient: 6.4579376e-07 Loss: 1.331395585187541e-07\n",
      "Gradient: 2.714382e-06 Loss: 1.820493020924611e-07\n",
      "Gradient: 7.524397e-07 Loss: 1.2275133206192854e-07\n",
      "Gradient: 2.8755215e-07 Loss: 1.1205655970532765e-07\n",
      "Gradient: 6.971877e-07 Loss: 1.3620496256786888e-07\n",
      "Gradient: 1.249853e-06 Loss: 1.7775781960457e-07\n",
      "Gradient: 7.9031133e-07 Loss: 1.6390687278544648e-07\n",
      "Gradient: 1.7058313e-06 Loss: 1.497379910138837e-07\n",
      "Gradient: 7.724476e-07 Loss: 1.4225621403814632e-07\n",
      "Gradient: 1.431842e-07 Loss: 1.3091433762231948e-07\n",
      "Gradient: 7.335815e-07 Loss: 1.323788917299377e-07\n",
      "Gradient: 1.6695376e-06 Loss: 1.5255364237039732e-07\n",
      "Gradient: 7.3571965e-07 Loss: 1.26668182076628e-07\n",
      "Gradient: 8.7551166e-07 Loss: 1.347517231427749e-07\n",
      "Gradient: 3.1472814e-07 Loss: 1.266795611816936e-07\n",
      "Gradient: 4.494896e-07 Loss: 1.522470592855522e-07\n",
      "Gradient: 2.0968344e-07 Loss: 1.1051251706343616e-07\n",
      "Gradient: 1.2600602e-06 Loss: 1.339342659889553e-07\n",
      "Gradient: 2.842942e-07 Loss: 1.3933841150522615e-07\n",
      "Gradient: 5.229988e-07 Loss: 1.3976984879112326e-07\n",
      "Gradient: 1.307525e-06 Loss: 1.3056234564601256e-07\n",
      "Gradient: 4.6742306e-07 Loss: 1.1282859600688274e-07\n",
      "Gradient: 4.4179905e-07 Loss: 1.3939518931730768e-07\n",
      "Gradient: 9.3579706e-07 Loss: 1.2438617270997082e-07\n",
      "Gradient: 3.8722007e-07 Loss: 1.3953144595291178e-07\n",
      "Gradient: 1.4990153e-06 Loss: 1.7426103748145276e-07\n",
      "Gradient: 4.4044435e-07 Loss: 1.442203481379541e-07\n",
      "Gradient: 1.3983837e-06 Loss: 1.5320074003473868e-07\n",
      "Gradient: 3.6674749e-07 Loss: 1.3190204934214004e-07\n",
      "Gradient: 4.4633953e-07 Loss: 1.18652822796624e-07\n",
      "Gradient: 1.0929607e-06 Loss: 1.412344246887187e-07\n",
      "Gradient: 5.6431924e-07 Loss: 1.3728346980694066e-07\n",
      "Gradient: 1.378079e-06 Loss: 1.2890481807896018e-07\n",
      "Gradient: 1.4032653e-06 Loss: 1.6500812828705119e-07\n",
      "Gradient: 3.062231e-07 Loss: 1.302785622196249e-07\n",
      "Gradient: 4.162617e-07 Loss: 1.1614375357756519e-07\n",
      "Gradient: 5.552025e-07 Loss: 1.3721535528551005e-07\n",
      "Gradient: 4.0207567e-07 Loss: 1.6318024667801486e-07\n",
      "Gradient: 6.0806144e-07 Loss: 1.2840526342946153e-07\n",
      "Gradient: 9.898054e-07 Loss: 1.294383608296812e-07\n",
      "Gradient: 5.872894e-07 Loss: 1.1437264788582979e-07\n",
      "Gradient: 4.233333e-07 Loss: 1.1378225318973515e-07\n",
      "Gradient: 4.3704745e-07 Loss: 1.345360149211198e-07\n",
      "Gradient: 1.157593e-06 Loss: 1.5182701271025205e-07\n",
      "Gradient: 5.083488e-07 Loss: 1.368520881802245e-07\n",
      "Gradient: 3.0945128e-07 Loss: 1.1175001191077172e-07\n",
      "Gradient: 3.431142e-07 Loss: 1.525422812657477e-07\n",
      "Gradient: 3.4226895e-07 Loss: 1.3108461208351703e-07\n",
      "Gradient: 5.6510294e-07 Loss: 1.4219945398963318e-07\n",
      "Gradient: 4.5401413e-07 Loss: 1.3410457787207026e-07\n",
      "Gradient: 4.406752e-07 Loss: 1.4512855320466163e-07\n",
      "Gradient: 6.362476e-07 Loss: 1.5718574341387164e-07\n",
      "Gradient: 1.5994719e-07 Loss: 1.205033702452359e-07\n",
      "Gradient: 7.538176e-07 Loss: 1.448106881222581e-07\n",
      "Gradient: 1.1604297e-06 Loss: 1.4912489187205817e-07\n",
      "Gradient: 1.0054143e-06 Loss: 1.5065762160778224e-07\n",
      "Gradient: 7.277415e-07 Loss: 1.5334836405145326e-07\n",
      "Gradient: 6.395654e-07 Loss: 1.1336220377226407e-07\n",
      "Gradient: 4.7981547e-07 Loss: 1.5611845374981688e-07\n",
      "Gradient: 6.3835284e-07 Loss: 1.0701571895310735e-07\n",
      "Gradient: 8.1550667e-07 Loss: 1.6274882833992402e-07\n",
      "Gradient: 6.5098794e-07 Loss: 1.6665434164527443e-07\n",
      "Gradient: 6.026199e-07 Loss: 1.6505349123008273e-07\n",
      "Gradient: 8.2231156e-07 Loss: 1.356258801858227e-07\n",
      "Gradient: 4.3653478e-07 Loss: 1.381009553824697e-07\n",
      "Gradient: 1.1528173e-06 Loss: 1.4393648181491396e-07\n",
      "Gradient: 1.1077882e-06 Loss: 1.4847780912911427e-07\n",
      "Gradient: 1.8939669e-06 Loss: 1.3973583795253338e-07\n",
      "Gradient: 9.99617e-07 Loss: 1.5179292679097973e-07\n",
      "Gradient: 4.1423755e-07 Loss: 1.8228777989293122e-07\n",
      "Gradient: 1.5600276e-07 Loss: 1.3696558127662682e-07\n",
      "Gradient: 7.139229e-07 Loss: 1.6147727327127844e-07\n",
      "Gradient: 5.4860266e-07 Loss: 1.758050328722523e-07\n",
      "Gradient: 7.245493e-07 Loss: 1.2996062963566147e-07\n",
      "Gradient: 3.6710364e-07 Loss: 1.4496966969090863e-07\n",
      "Gradient: 5.449946e-07 Loss: 1.8412699631653595e-07\n",
      "Gradient: 1.1963452e-06 Loss: 1.3579623541204456e-07\n",
      "Gradient: 4.3341888e-07 Loss: 1.185733523811905e-07\n",
      "Gradient: 9.688281e-07 Loss: 1.2278538434884468e-07\n",
      "Gradient: 5.434391e-07 Loss: 1.460822507700262e-07\n",
      "Gradient: 7.7531985e-07 Loss: 1.3677254860529803e-07\n",
      "Gradient: 6.3337393e-07 Loss: 1.3182254766282615e-07\n",
      "Gradient: 4.0688406e-07 Loss: 1.563001589488522e-07\n",
      "Gradient: 7.7584514e-07 Loss: 1.5432470282424522e-07\n",
      "Gradient: 1.2068236e-07 Loss: 1.2467001105539074e-07\n",
      "Gradient: 5.8062176e-07 Loss: 9.932957543886308e-08\n"
     ]
    },
    {
     "name": "stdout",
     "output_type": "stream",
     "text": [
      "Gradient: 1.2359701e-06 Loss: 1.5115717009924385e-07\n",
      "Gradient: 9.812577e-07 Loss: 1.4001960929969451e-07\n",
      "Gradient: 1.8731689e-06 Loss: 1.6184059935161105e-07\n",
      "Gradient: 8.0716866e-08 Loss: 1.0886631602128697e-07\n",
      "Gradient: 8.1561745e-07 Loss: 1.8949703222877664e-07\n",
      "Gradient: 7.1816027e-07 Loss: 1.5708355931565167e-07\n",
      "Gradient: 6.1330195e-07 Loss: 1.3991744083341472e-07\n",
      "Gradient: 5.760322e-07 Loss: 1.5575524183001715e-07\n",
      "Gradient: 2.8513944e-07 Loss: 1.3063048195742037e-07\n",
      "Gradient: 5.854816e-07 Loss: 1.323107483131025e-07\n",
      "Gradient: 1.0628895e-06 Loss: 1.7527146762101135e-07\n",
      "Gradient: 8.11041e-07 Loss: 1.306191388531867e-07\n",
      "Gradient: 1.0959608e-06 Loss: 1.2066234565584939e-07\n",
      "Gradient: 2.0978518e-06 Loss: 1.6303267595200546e-07\n",
      "Gradient: 3.9451237e-07 Loss: 1.4689967334409933e-07\n",
      "Gradient: 3.1447317e-07 Loss: 1.5673161139299432e-07\n",
      "Gradient: 1.13393014e-07 Loss: 1.3760137183756644e-07\n",
      "Gradient: 1.0497533e-06 Loss: 1.304147843939063e-07\n",
      "Gradient: 7.134538e-07 Loss: 1.3509230711861164e-07\n",
      "Gradient: 5.151337e-07 Loss: 1.293362278905382e-07\n",
      "Gradient: 5.349112e-07 Loss: 1.5326887610929893e-07\n",
      "Gradient: 2.591674e-07 Loss: 1.1957241573175754e-07\n",
      "Gradient: 1.6251058e-06 Loss: 1.3697695398680782e-07\n",
      "Gradient: 8.519053e-07 Loss: 1.2502196777101442e-07\n",
      "Gradient: 7.162213e-07 Loss: 1.3768086356928204e-07\n",
      "Gradient: 4.489085e-07 Loss: 1.4023530259995216e-07\n",
      "Gradient: 6.254238e-07 Loss: 1.581053761393984e-07\n",
      "Gradient: 1.3371125e-06 Loss: 1.1852790985737253e-07\n",
      "Gradient: 1.1204314e-07 Loss: 1.1961781799148714e-07\n",
      "Gradient: 2.5955808e-07 Loss: 1.171428065068388e-07\n",
      "Gradient: 4.934817e-07 Loss: 1.2171820505576154e-07\n",
      "Gradient: 4.468111e-07 Loss: 1.5140686713266404e-07\n",
      "Gradient: 1.0996561e-06 Loss: 1.4087111566141175e-07\n",
      "Gradient: 6.100862e-07 Loss: 1.707074417822696e-07\n",
      "Gradient: 1.563763e-07 Loss: 1.2397748321291148e-07\n",
      "Gradient: 7.162356e-07 Loss: 1.195497086807033e-07\n",
      "Gradient: 1.3629142e-07 Loss: 1.394179136582352e-07\n",
      "Gradient: 3.7254495e-07 Loss: 1.5626613721527369e-07\n",
      "Gradient: 4.5584653e-07 Loss: 1.2388665358760893e-07\n",
      "Gradient: 4.4793637e-07 Loss: 1.331508949912556e-07\n",
      "Gradient: 1.1871798e-06 Loss: 1.7218327267679948e-07\n",
      "Gradient: 2.9528425e-07 Loss: 1.2862095945346635e-07\n",
      "Gradient: 1.8838527e-07 Loss: 1.2570311582749128e-07\n",
      "Gradient: 1.1845731e-06 Loss: 1.580485999852499e-07\n",
      "Gradient: 7.9913286e-07 Loss: 1.3711318729292544e-07\n",
      "Gradient: 1.6614933e-06 Loss: 1.5316665316807606e-07\n",
      "Gradient: 1.7156151e-06 Loss: 1.1625729333294051e-07\n",
      "Gradient: 3.7735043e-07 Loss: 1.1838032397311812e-07\n",
      "Gradient: 3.4221011e-07 Loss: 1.4984016350657232e-07\n",
      "Gradient: 2.6347237e-07 Loss: 1.3333256395261137e-07\n",
      "Gradient: 6.8800387e-07 Loss: 1.3486523518698352e-07\n",
      "Gradient: 5.137449e-07 Loss: 1.3620494930440447e-07\n",
      "Gradient: 9.4916993e-07 Loss: 1.4829614087830122e-07\n",
      "Gradient: 6.758181e-07 Loss: 1.3018771814662006e-07\n",
      "Gradient: 5.081038e-07 Loss: 1.3779439811401062e-07\n",
      "Gradient: 2.6924369e-07 Loss: 1.627261096833384e-07\n",
      "Gradient: 2.1042688e-07 Loss: 1.960479314296511e-07\n",
      "Gradient: 3.2090807e-07 Loss: 1.3484252245158738e-07\n",
      "Gradient: 1.5197096e-06 Loss: 1.2660006471302646e-07\n",
      "Gradient: 6.125549e-07 Loss: 1.5918390777377075e-07\n",
      "Gradient: 4.490481e-07 Loss: 1.3340067184230975e-07\n",
      "Gradient: 6.180155e-07 Loss: 1.742950563728603e-07\n",
      "Gradient: 1.3137313e-06 Loss: 1.6979921610982273e-07\n",
      "Gradient: 5.693506e-07 Loss: 1.413139031569699e-07\n",
      "Gradient: 3.7713517e-07 Loss: 1.5500590961892157e-07\n",
      "Gradient: 1.0602944e-06 Loss: 1.653713802340917e-07\n",
      "Gradient: 4.515115e-07 Loss: 1.5415441604697358e-07\n",
      "Gradient: 4.865776e-07 Loss: 1.2805329655899791e-07\n",
      "Gradient: 2.2898976e-07 Loss: 1.3382074447084353e-07\n",
      "Gradient: 6.419758e-07 Loss: 1.3802147075618146e-07\n",
      "Gradient: 1.1035867e-06 Loss: 1.2757646648727434e-07\n",
      "Gradient: 9.153026e-07 Loss: 1.5103226947606647e-07\n",
      "Gradient: 3.6573758e-07 Loss: 1.345246777380756e-07\n",
      "Gradient: 4.302429e-07 Loss: 1.0558521784294802e-07\n",
      "Gradient: 2.8608088e-07 Loss: 1.208099360402078e-07\n",
      "Gradient: 1.0533429e-06 Loss: 1.3530801510341916e-07\n",
      "Gradient: 6.0637467e-07 Loss: 1.6644998529121343e-07\n",
      "Gradient: 7.4096636e-07 Loss: 1.5872975704193473e-07\n",
      "Gradient: 9.2193324e-07 Loss: 1.5941096620508688e-07\n",
      "Gradient: 5.192777e-07 Loss: 1.426990100602173e-07\n",
      "Gradient: 5.322442e-07 Loss: 1.1568961516180328e-07\n",
      "Gradient: 9.870772e-07 Loss: 1.3439976764099508e-07\n",
      "Gradient: 2.81237e-06 Loss: 1.61783780801746e-07\n",
      "Gradient: 8.112249e-07 Loss: 1.4117763385002037e-07\n",
      "Gradient: 2.9071452e-07 Loss: 1.307780678416748e-07\n",
      "Gradient: 7.0159524e-07 Loss: 1.410754573309229e-07\n",
      "Gradient: 1.2015701e-06 Loss: 1.5053270156310342e-07\n",
      "Gradient: 3.7939088e-07 Loss: 1.6976508163679682e-07\n",
      "Gradient: 1.0482624e-06 Loss: 1.5303043359911802e-07\n",
      "Gradient: 1.5584293e-06 Loss: 1.5739008508338277e-07\n",
      "Gradient: 6.210025e-07 Loss: 1.5699270647928642e-07\n",
      "Gradient: 1.2940939e-06 Loss: 1.5144101202698343e-07\n",
      "Gradient: 5.8697873e-07 Loss: 1.3820311200637055e-07\n",
      "Gradient: 2.5337334e-07 Loss: 1.5679973373039501e-07\n",
      "Gradient: 7.1813247e-07 Loss: 1.2395475816144122e-07\n",
      "Gradient: 3.9075348e-07 Loss: 1.675512488456358e-07\n",
      "Gradient: 5.348487e-07 Loss: 1.3523993753021083e-07\n",
      "Gradient: 3.577105e-07 Loss: 1.2239937253373985e-07\n",
      "Gradient: 7.7043285e-07 Loss: 1.517815746865381e-07\n",
      "Gradient: 7.348675e-07 Loss: 1.3354827146372373e-07\n",
      "Gradient: 1.7311548e-07 Loss: 1.6023975722608458e-07\n",
      "Gradient: 1.0306342e-06 Loss: 1.8111835089484885e-07\n",
      "Gradient: 8.676898e-07 Loss: 1.6988996852281463e-07\n",
      "Gradient: 1.2337844e-06 Loss: 1.1029681606563221e-07\n",
      "Gradient: 2.2854215e-07 Loss: 1.5011265617204116e-07\n",
      "Gradient: 1.06593866e-07 Loss: 1.551080755983018e-07\n",
      "Gradient: 7.261981e-07 Loss: 1.491362676612577e-07\n",
      "Gradient: 8.303517e-07 Loss: 1.62816949966782e-07\n",
      "Gradient: 4.5242587e-07 Loss: 1.1656378665255336e-07\n",
      "Gradient: 6.628459e-07 Loss: 1.1220413540513618e-07\n",
      "Gradient: 3.964064e-07 Loss: 1.9273278274075285e-07\n",
      "Gradient: 3.5364016e-07 Loss: 1.272245166698364e-07\n",
      "Gradient: 3.78977e-07 Loss: 1.5375708007544138e-07\n",
      "Gradient: 4.8321925e-07 Loss: 1.095248030935636e-07\n",
      "Gradient: 1.7961467e-07 Loss: 1.2314870877124424e-07\n",
      "Gradient: 3.334568e-07 Loss: 1.0736769458693136e-07\n",
      "Gradient: 1.1467146e-06 Loss: 1.3573942444130202e-07\n",
      "Gradient: 6.837982e-07 Loss: 1.319247665776402e-07\n",
      "Gradient: 5.6790316e-07 Loss: 1.3410454566079958e-07\n",
      "Gradient: 7.784182e-07 Loss: 1.3819172295370663e-07\n",
      "Gradient: 7.7526875e-07 Loss: 1.4285789688983642e-07\n",
      "Gradient: 9.522819e-07 Loss: 1.234552331178899e-07\n",
      "Gradient: 9.554336e-07 Loss: 1.7119564574841206e-07\n",
      "Gradient: 5.9867625e-07 Loss: 1.1886853030773637e-07\n",
      "Gradient: 7.3949974e-07 Loss: 1.6474701993729469e-07\n",
      "Gradient: 2.428776e-06 Loss: 2.0155420135855214e-07\n",
      "Gradient: 7.053579e-07 Loss: 1.1365737672501078e-07\n",
      "Gradient: 3.0739534e-07 Loss: 1.0634588510545958e-07\n",
      "Gradient: 4.3341254e-07 Loss: 1.3111865063327362e-07\n",
      "Gradient: 8.4810677e-07 Loss: 1.6358899112371243e-07\n",
      "Gradient: 1.7996601e-07 Loss: 1.3706778266472003e-07\n",
      "Gradient: 3.1647876e-06 Loss: 1.3048291075771582e-07\n",
      "Gradient: 2.415249e-07 Loss: 9.989723371480372e-08\n",
      "Gradient: 5.890937e-07 Loss: 1.7926780297254177e-07\n",
      "Gradient: 2.0433235e-07 Loss: 1.5483561384144194e-07\n",
      "Gradient: 8.637959e-07 Loss: 1.4284657865459848e-07\n",
      "Gradient: 1.757245e-07 Loss: 1.3259461132027657e-07\n",
      "Gradient: 7.6086025e-07 Loss: 1.314479168475676e-07\n",
      "Gradient: 8.3273045e-07 Loss: 1.6319158930855336e-07\n",
      "Gradient: 7.4007596e-07 Loss: 1.3805549722671155e-07\n",
      "Gradient: 5.6358374e-07 Loss: 1.5273525140931574e-07\n",
      "Gradient: 5.6490893e-07 Loss: 1.3413860434260034e-07\n",
      "Gradient: 4.1395342e-07 Loss: 1.3718131673575346e-07\n",
      "Gradient: 3.75497e-07 Loss: 1.4420894274280726e-07\n",
      "Gradient: 5.1142615e-07 Loss: 1.8022145980012284e-07\n",
      "Gradient: 7.295141e-08 Loss: 1.4471989058980247e-07\n",
      "Gradient: 1.6328529e-06 Loss: 1.4333479280518684e-07\n",
      "Gradient: 1.0387126e-06 Loss: 1.4892058620337896e-07\n",
      "Gradient: 4.6879418e-07 Loss: 1.2548745142263822e-07\n",
      "Gradient: 5.925988e-07 Loss: 1.3337797876526263e-07\n",
      "Gradient: 2.1040066e-07 Loss: 1.4713810661722467e-07\n",
      "Gradient: 5.820232e-07 Loss: 1.5161129027774222e-07\n",
      "Gradient: 6.751542e-07 Loss: 1.262935361031244e-07\n",
      "Gradient: 2.3584785e-07 Loss: 1.3571673633805404e-07\n",
      "Gradient: 3.992933e-07 Loss: 1.1492893084626606e-07\n",
      "Gradient: 4.5350683e-07 Loss: 1.2950652532595087e-07\n",
      "Gradient: 4.2446436e-07 Loss: 1.2833712830229161e-07\n"
     ]
    },
    {
     "name": "stdout",
     "output_type": "stream",
     "text": [
      "Gradient: 1.4442925e-06 Loss: 1.7545304681713484e-07\n",
      "Gradient: 7.141968e-07 Loss: 1.4471987412889576e-07\n",
      "Gradient: 4.029057e-07 Loss: 1.4235838345181642e-07\n",
      "Gradient: 1.0511718e-06 Loss: 1.4909082182157363e-07\n",
      "Gradient: 1.459526e-06 Loss: 1.4940870703602135e-07\n",
      "Gradient: 5.6081683e-07 Loss: 1.673809431205579e-07\n",
      "Gradient: 2.9530756e-07 Loss: 1.4325530746835588e-07\n",
      "Gradient: 9.875822e-07 Loss: 1.620335586001905e-07\n",
      "Gradient: 4.564755e-07 Loss: 1.1481542306531386e-07\n",
      "Gradient: 1.410989e-06 Loss: 1.555167829773533e-07\n",
      "Gradient: 8.1360565e-07 Loss: 1.4629796680765138e-07\n",
      "Gradient: 3.697241e-07 Loss: 1.4476527780971083e-07\n",
      "Gradient: 1.0046963e-06 Loss: 1.3504687312130652e-07\n",
      "Gradient: 7.0227173e-07 Loss: 1.3326442314109954e-07\n",
      "Gradient: 4.7666538e-07 Loss: 1.1928857948835987e-07\n",
      "Gradient: 1.4469271e-06 Loss: 1.4439062283599925e-07\n",
      "Gradient: 2.2798106e-07 Loss: 1.3685200859943809e-07\n",
      "Gradient: 6.211577e-07 Loss: 1.3813498895842712e-07\n",
      "Gradient: 4.46015e-07 Loss: 1.1754020524297934e-07\n",
      "Gradient: 5.0026006e-07 Loss: 1.1719959000326223e-07\n",
      "Gradient: 7.1984323e-07 Loss: 1.2132082597797003e-07\n",
      "Gradient: 2.445358e-07 Loss: 1.1788077927121777e-07\n",
      "Gradient: 3.830341e-07 Loss: 1.3411591955521848e-07\n",
      "Gradient: 7.6040016e-07 Loss: 1.4929521417646658e-07\n",
      "Gradient: 3.138207e-07 Loss: 1.5141827513313426e-07\n",
      "Gradient: 7.1564233e-07 Loss: 1.3511501440651348e-07\n",
      "Gradient: 7.4215427e-07 Loss: 1.3432029319915272e-07\n",
      "Gradient: 8.405665e-07 Loss: 1.3175446866853235e-07\n",
      "Gradient: 6.2851024e-07 Loss: 9.91819923967796e-08\n",
      "Gradient: 5.768941e-07 Loss: 1.3313952251792216e-07\n",
      "Gradient: 7.0781084e-07 Loss: 1.4341424664128984e-07\n",
      "Gradient: 1.8770395e-07 Loss: 1.292908142621248e-07\n",
      "Gradient: 7.2613796e-07 Loss: 1.534391425176788e-07\n",
      "Gradient: 1.0504948e-06 Loss: 1.3170901382864031e-07\n",
      "Gradient: 1.3365132e-06 Loss: 1.688228316254481e-07\n",
      "Gradient: 5.908221e-07 Loss: 1.2001519801666898e-07\n",
      "Gradient: 1.1053447e-06 Loss: 1.3326443308869785e-07\n",
      "Gradient: 4.1262632e-07 Loss: 1.3278759070090018e-07\n",
      "Gradient: 5.4101463e-07 Loss: 1.3397970756538296e-07\n",
      "Gradient: 8.064487e-07 Loss: 1.435731661558748e-07\n",
      "Gradient: 3.0250274e-07 Loss: 1.4133660310259682e-07\n",
      "Gradient: 3.2713712e-07 Loss: 1.3394564935727733e-07\n",
      "Gradient: 4.307614e-07 Loss: 1.3647741165338326e-07\n",
      "Gradient: 4.856639e-07 Loss: 1.7570285659000244e-07\n",
      "Gradient: 4.5518846e-07 Loss: 1.1687035623708653e-07\n",
      "Gradient: 6.7117344e-07 Loss: 1.3812362832747265e-07\n",
      "Gradient: 8.182493e-07 Loss: 1.578555962093257e-07\n",
      "Gradient: 8.5914223e-07 Loss: 1.4264222443216567e-07\n",
      "Gradient: 2.4622e-07 Loss: 1.3882756988436995e-07\n",
      "Gradient: 7.0630057e-07 Loss: 1.371131863455351e-07\n",
      "Gradient: 2.9735764e-07 Loss: 1.1815327383146723e-07\n",
      "Gradient: 3.529533e-07 Loss: 1.8075503807798062e-07\n",
      "Gradient: 3.2261585e-07 Loss: 1.414841660126361e-07\n",
      "Gradient: 1.5879563e-06 Loss: 1.4177935672895122e-07\n",
      "Gradient: 6.0282827e-07 Loss: 1.5389327359116579e-07\n",
      "Gradient: 1.439079e-07 Loss: 1.656779659242602e-07\n",
      "Gradient: 8.181665e-08 Loss: 1.5836644730408505e-07\n"
     ]
    },
    {
     "name": "stderr",
     "output_type": "stream",
     "text": [
      "Clipping input data to the valid range for imshow with RGB data ([0..1] for floats or [0..255] for integers).\n"
     ]
    },
    {
     "name": "stdout",
     "output_type": "stream",
     "text": [
      "Gradient: 8.266645e-07 Loss: 1.7237637877087765e-07\n"
     ]
    },
    {
     "data": {
      "image/png": "[encoded data removed]",
      "text/plain": [
       "<Figure size 432x288 with 1 Axes>"
      ]
     },
     "metadata": {
      "needs_background": "light"
     },
     "output_type": "display_data"
    },
    {
     "name": "stdout",
     "output_type": "stream",
     "text": [
      "Noise max val: tensor(0.1255, device='cuda:2', grad_fn=<MaxBackward1>)\n"
     ]
    }
   ],
   "source": [
    "#Trigger generating stage\n",
    "for param in poi_warm_up_model.parameters():\n",
    "    param.requires_grad = False\n",
    "\n",
    "batch_pert = torch.autograd.Variable(noise.cuda(), requires_grad=True)\n",
    "batch_opt = torch.optim.RAdam(params=[batch_pert],lr=generating_lr_tri)\n",
    "for minmin in tqdm.notebook.tqdm(range(gen_round)):\n",
    "    loss_list = []\n",
    "    for images, labels in trigger_gen_loaders:\n",
    "        images, labels = images.cuda(), labels.cuda()\n",
    "        new_images = torch.clone(images)\n",
    "        clamp_batch_pert = torch.clamp(batch_pert,-l_inf_r*2,l_inf_r*2)\n",
    "        new_images = torch.clamp(apply_noise_patch(clamp_batch_pert,new_images.clone(),mode=patch_mode),-1,1)\n",
    "        per_logits = poi_warm_up_model.forward(new_images)\n",
    "        loss = criterion(per_logits, labels)\n",
    "        loss_regu = torch.mean(loss)\n",
    "        batch_opt.zero_grad()\n",
    "        loss_list.append(float(loss_regu.data))\n",
    "        loss_regu.backward(retain_graph = True)\n",
    "        batch_opt.step()\n",
    "    ave_loss = np.average(np.array(loss_list))\n",
    "    ave_grad = np.sum(abs(batch_pert.grad).detach().cpu().numpy())\n",
    "    print('Gradient:',ave_grad,'Loss:', ave_loss)\n",
    "    if ave_grad == 0:\n",
    "        break\n",
    "\n",
    "noise = torch.clamp(batch_pert,-l_inf_r*2,l_inf_r*2)\n",
    "best_noise = noise.clone().detach().cpu()\n",
    "plt.imshow(np.transpose(noise[0].detach().cpu(),(1,2,0)))\n",
    "plt.show()\n",
    "print('Noise max val:',noise.max())"
   ]
  },
  {
   "cell_type": "code",
   "execution_count": 14,
   "id": "4065f896",
   "metadata": {},
   "outputs": [],
   "source": [
    "#Save the trigger\n",
    "import time\n",
    "save_name = './checkpoint/best_noise'+'_'+ time.strftime(\"%m-%d-%H_%M_%S\",time.localtime(time.time())) \n",
    "np.save(save_name, best_noise)"
   ]
  },
  {
   "cell_type": "markdown",
   "id": "b12b8499",
   "metadata": {},
   "source": [
    "# Testing  attack effect"
   ]
  },
  {
   "cell_type": "code",
   "execution_count": 15,
   "id": "9902b993",
   "metadata": {},
   "outputs": [],
   "source": [
    "#Using this block if you only want to test the attack result.\n",
    "# import imageio\n",
    "# import cv2 as cv\n",
    "# best_noise = torch.zeros((1, 3, noise_size, noise_size), device=device)\n",
    "# noise_npy = np.load('./checkpoint/resnet18_trigger.npy')\n",
    "# best_noise = torch.from_numpy(noise_npy).cuda()"
   ]
  },
  {
   "cell_type": "code",
   "execution_count": 16,
   "id": "1ab66953",
   "metadata": {},
   "outputs": [],
   "source": [
    "#Poisoning amount use for the target class\n",
    "poison_amount = 25\n",
    "\n",
    "#Model uses for testing\n",
    "noise_testing_model = ResNet18().cuda()    \n",
    "\n",
    "#Training parameters\n",
    "training_epochs = 200\n",
    "training_lr = 0.1\n",
    "test_batch_size = 150\n",
    "\n",
    "#The multiple of noise amplification during testing\n",
    "multi_test = 3\n",
    "\n",
    "#random seed for testing stage\n",
    "random_seed = 65"
   ]
  },
  {
   "cell_type": "code",
   "execution_count": 17,
   "id": "71e2fd55",
   "metadata": {},
   "outputs": [],
   "source": [
    "import torchvision.models as models\n",
    "np.random.seed(random_seed)\n",
    "random.seed(random_seed)\n",
    "torch.manual_seed(random_seed)\n",
    "model = noise_testing_model\n",
    "\n",
    "optimizer = torch.optim.SGD(params=model.parameters(), lr=training_lr, momentum=0.9, weight_decay=5e-4)\n",
    "criterion = nn.CrossEntropyLoss()\n",
    "scheduler = torch.optim.lr_scheduler.CosineAnnealingLR(optimizer, T_max=training_epochs)"
   ]
  },
  {
   "cell_type": "code",
   "execution_count": 18,
   "id": "a4075516",
   "metadata": {},
   "outputs": [],
   "source": [
    "transform_tensor = transforms.Compose([\n",
    "    transforms.ToTensor(),\n",
    "    transforms.Normalize((0.5, 0.5, 0.5), (0.5, 0.5, 0.5)),\n",
    "])\n",
    "poi_ori_train = torchvision.datasets.CIFAR10(root=dataset_path, train=True, download=False, transform=transform_tensor)\n",
    "poi_ori_test = torchvision.datasets.CIFAR10(root=dataset_path, train=False, download=False, transform=transform_tensor)\n",
    "transform_after_train = transforms.Compose([\n",
    "    transforms.RandomCrop(32, padding=4),  \n",
    "    transforms.RandomHorizontalFlip(),\n",
    "])"
   ]
  },
  {
   "cell_type": "code",
   "execution_count": 19,
   "id": "205f61b5",
   "metadata": {},
   "outputs": [
    {
     "name": "stdout",
     "output_type": "stream",
     "text": [
      "Traing dataset size is: 50000  Poison numbers is: 25\n"
     ]
    }
   ],
   "source": [
    "#Poison traing\n",
    "random_poison_idx = random.sample(train_target_list, poison_amount)\n",
    "poison_train_target = poison_image(poi_ori_train,random_poison_idx,best_noise.cpu(),transform_after_train)\n",
    "print('Traing dataset size is:',len(poison_train_target),\" Poison numbers is:\",len(random_poison_idx))\n",
    "clean_train_loader = DataLoader(poison_train_target, batch_size=test_batch_size, shuffle=True, num_workers=2)"
   ]
  },
  {
   "cell_type": "code",
   "execution_count": 20,
   "id": "0b27b061",
   "metadata": {},
   "outputs": [
    {
     "name": "stdout",
     "output_type": "stream",
     "text": [
      "Poison test dataset size is: 9000\n"
     ]
    }
   ],
   "source": [
    "#Attack success rate testing\n",
    "test_non_target = list(np.where(np.array(test_label)!=lab)[0])\n",
    "test_non_target_change_image_label = poison_image_label(poi_ori_test,test_non_target,best_noise.cpu()*multi_test,lab,None)\n",
    "asr_loaders = torch.utils.data.DataLoader(test_non_target_change_image_label, batch_size=test_batch_size, shuffle=True, num_workers=2)\n",
    "print('Poison test dataset size is:',len(test_non_target_change_image_label))"
   ]
  },
  {
   "cell_type": "code",
   "execution_count": 21,
   "id": "3f60a531",
   "metadata": {},
   "outputs": [],
   "source": [
    "#Clean acc test dataset\n",
    "clean_test_loader = torch.utils.data.DataLoader(ori_test, batch_size=test_batch_size, shuffle=False, num_workers=2)"
   ]
  },
  {
   "cell_type": "code",
   "execution_count": 22,
   "id": "e49ab88e",
   "metadata": {},
   "outputs": [],
   "source": [
    "#Target clean test dataset\n",
    "test_target = list(np.where(np.array(test_label)==lab)[0])\n",
    "target_test_set = Subset(ori_test,test_target)\n",
    "target_test_loader = torch.utils.data.DataLoader(target_test_set, batch_size=test_batch_size, shuffle=True, num_workers=2)"
   ]
  },
  {
   "cell_type": "code",
   "execution_count": 23,
   "id": "6760be1a",
   "metadata": {},
   "outputs": [],
   "source": [
    "from util import AverageMeter\n",
    "train_ACC = []\n",
    "test_ACC = []\n",
    "clean_ACC = []\n",
    "target_ACC = []"
   ]
  },
  {
   "cell_type": "code",
   "execution_count": 24,
   "id": "722d3cd3",
   "metadata": {
    "scrolled": true
   },
   "outputs": [
    {
     "data": {
      "application/vnd.jupyter.widget-view+json": {
       "model_id": "53acecbc4c3f4a5c8ad9fc1da10c9321",
       "version_major": 2,
       "version_minor": 0
      },
      "text/plain": [
       "  0%|          | 0/200 [00:00<?, ?it/s]"
      ]
     },
     "metadata": {},
     "output_type": "display_data"
    },
    {
     "data": {
      "application/vnd.jupyter.widget-view+json": {
       "model_id": "99e6e2943f0c466ca69a8fa9d598c895",
       "version_major": 2,
       "version_minor": 0
      },
      "text/plain": [
       "  0%|          | 0/334 [00:00<?, ?it/s]"
      ]
     },
     "metadata": {},
     "output_type": "display_data"
    },
    {
     "name": "stdout",
     "output_type": "stream",
     "text": [
      "Train_loss: tensor(1.7364, device='cuda:2', grad_fn=<NllLossBackward0>)\n",
      "\n",
      "Attack success rate 0.11\n",
      "Test_loss: tensor(3.3612, device='cuda:2')\n",
      "\n",
      "Test clean Accuracy 44.55\n",
      "Test_loss: tensor(1.4679, device='cuda:2')\n",
      "\n",
      "Target test clean Accuracy 6.80\n",
      "Test_loss: tensor(2.0644, device='cuda:2')\n"
     ]
    },
    {
     "data": {
      "application/vnd.jupyter.widget-view+json": {
       "model_id": "5573d0cb53064bd9b289e3fd32bd8bfe",
       "version_major": 2,
       "version_minor": 0
      },
      "text/plain": [
       "  0%|          | 0/334 [00:00<?, ?it/s]"
      ]
     },
     "metadata": {},
     "output_type": "display_data"
    },
    {
     "name": "stdout",
     "output_type": "stream",
     "text": [
      "Train_loss: tensor(1.1617, device='cuda:2', grad_fn=<NllLossBackward0>)\n",
      "\n",
      "Attack success rate 0.11\n",
      "Test_loss: tensor(5.7308, device='cuda:2')\n",
      "\n",
      "Test clean Accuracy 55.09\n",
      "Test_loss: tensor(1.4080, device='cuda:2')\n",
      "\n",
      "Target test clean Accuracy 17.30\n",
      "Test_loss: tensor(2.7777, device='cuda:2')\n"
     ]
    },
    {
     "data": {
      "application/vnd.jupyter.widget-view+json": {
       "model_id": "51d469d1eaea43abaecef83b2185ee4c",
       "version_major": 2,
       "version_minor": 0
      },
      "text/plain": [
       "  0%|          | 0/334 [00:00<?, ?it/s]"
      ]
     },
     "metadata": {},
     "output_type": "display_data"
    },
    {
     "name": "stdout",
     "output_type": "stream",
     "text": [
      "Train_loss: tensor(1.0322, device='cuda:2', grad_fn=<NllLossBackward0>)\n",
      "\n",
      "Attack success rate 0.00\n",
      "Test_loss: tensor(7.3072, device='cuda:2')\n",
      "\n",
      "Test clean Accuracy 63.23\n",
      "Test_loss: tensor(1.2769, device='cuda:2')\n",
      "\n",
      "Target test clean Accuracy 42.70\n",
      "Test_loss: tensor(1.4344, device='cuda:2')\n"
     ]
    },
    {
     "data": {
      "application/vnd.jupyter.widget-view+json": {
       "model_id": "454dfb3e5f764e7c85ffb322d6f3ab94",
       "version_major": 2,
       "version_minor": 0
      },
      "text/plain": [
       "  0%|          | 0/334 [00:00<?, ?it/s]"
      ]
     },
     "metadata": {},
     "output_type": "display_data"
    },
    {
     "name": "stdout",
     "output_type": "stream",
     "text": [
      "Train_loss: tensor(0.9586, device='cuda:2', grad_fn=<NllLossBackward0>)\n",
      "\n",
      "Attack success rate 1.68\n",
      "Test_loss: tensor(4.2194, device='cuda:2')\n",
      "\n",
      "Test clean Accuracy 65.93\n",
      "Test_loss: tensor(0.9144, device='cuda:2')\n",
      "\n",
      "Target test clean Accuracy 62.70\n",
      "Test_loss: tensor(0.9063, device='cuda:2')\n"
     ]
    },
    {
     "data": {
      "application/vnd.jupyter.widget-view+json": {
       "model_id": "0ff91acf0c1b4e03aeed9da1e37cbe8f",
       "version_major": 2,
       "version_minor": 0
      },
      "text/plain": [
       "  0%|          | 0/334 [00:00<?, ?it/s]"
      ]
     },
     "metadata": {},
     "output_type": "display_data"
    },
    {
     "name": "stdout",
     "output_type": "stream",
     "text": [
      "Train_loss: tensor(0.6797, device='cuda:2', grad_fn=<NllLossBackward0>)\n",
      "\n",
      "Attack success rate 0.16\n",
      "Test_loss: tensor(5.9248, device='cuda:2')\n",
      "\n",
      "Test clean Accuracy 62.27\n",
      "Test_loss: tensor(1.0445, device='cuda:2')\n",
      "\n",
      "Target test clean Accuracy 73.30\n",
      "Test_loss: tensor(0.6505, device='cuda:2')\n"
     ]
    },
    {
     "data": {
      "application/vnd.jupyter.widget-view+json": {
       "model_id": "f8ba7745f3e44f77bfcc6a086738f572",
       "version_major": 2,
       "version_minor": 0
      },
      "text/plain": [
       "  0%|          | 0/334 [00:00<?, ?it/s]"
      ]
     },
     "metadata": {},
     "output_type": "display_data"
    },
    {
     "name": "stdout",
     "output_type": "stream",
     "text": [
      "Train_loss: tensor(0.3980, device='cuda:2', grad_fn=<NllLossBackward0>)\n",
      "\n",
      "Attack success rate 0.01\n",
      "Test_loss: tensor(7.8975, device='cuda:2')\n",
      "\n",
      "Test clean Accuracy 73.86\n",
      "Test_loss: tensor(0.8141, device='cuda:2')\n",
      "\n",
      "Target test clean Accuracy 59.10\n",
      "Test_loss: tensor(1.4899, device='cuda:2')\n"
     ]
    },
    {
     "data": {
      "application/vnd.jupyter.widget-view+json": {
       "model_id": "29fd5f5d77de466bb7a7bbbb8eccbe48",
       "version_major": 2,
       "version_minor": 0
      },
      "text/plain": [
       "  0%|          | 0/334 [00:00<?, ?it/s]"
      ]
     },
     "metadata": {},
     "output_type": "display_data"
    },
    {
     "name": "stdout",
     "output_type": "stream",
     "text": [
      "Train_loss: tensor(0.5339, device='cuda:2', grad_fn=<NllLossBackward0>)\n",
      "\n",
      "Attack success rate 0.07\n",
      "Test_loss: tensor(4.7972, device='cuda:2')\n",
      "\n",
      "Test clean Accuracy 71.54\n",
      "Test_loss: tensor(0.8579, device='cuda:2')\n",
      "\n",
      "Target test clean Accuracy 58.50\n",
      "Test_loss: tensor(1.0858, device='cuda:2')\n"
     ]
    },
    {
     "data": {
      "application/vnd.jupyter.widget-view+json": {
       "model_id": "a96a6de7786a48129b0c9e84e59fec87",
       "version_major": 2,
       "version_minor": 0
      },
      "text/plain": [
       "  0%|          | 0/334 [00:00<?, ?it/s]"
      ]
     },
     "metadata": {},
     "output_type": "display_data"
    },
    {
     "name": "stdout",
     "output_type": "stream",
     "text": [
      "Train_loss: tensor(0.5986, device='cuda:2', grad_fn=<NllLossBackward0>)\n",
      "\n",
      "Attack success rate 0.00\n",
      "Test_loss: tensor(7.2700, device='cuda:2')\n",
      "\n",
      "Test clean Accuracy 78.05\n",
      "Test_loss: tensor(0.6389, device='cuda:2')\n",
      "\n",
      "Target test clean Accuracy 60.50\n",
      "Test_loss: tensor(1.3858, device='cuda:2')\n"
     ]
    },
    {
     "data": {
      "application/vnd.jupyter.widget-view+json": {
       "model_id": "80160cec8fa249dba8bfd27f424a69f3",
       "version_major": 2,
       "version_minor": 0
      },
      "text/plain": [
       "  0%|          | 0/334 [00:00<?, ?it/s]"
      ]
     },
     "metadata": {},
     "output_type": "display_data"
    },
    {
     "name": "stdout",
     "output_type": "stream",
     "text": [
      "Train_loss: tensor(0.4944, device='cuda:2', grad_fn=<NllLossBackward0>)\n",
      "\n",
      "Attack success rate 5.31\n",
      "Test_loss: tensor(3.3477, device='cuda:2')\n",
      "\n",
      "Test clean Accuracy 78.16\n",
      "Test_loss: tensor(0.6524, device='cuda:2')\n",
      "\n",
      "Target test clean Accuracy 81.40\n",
      "Test_loss: tensor(0.5526, device='cuda:2')\n"
     ]
    },
    {
     "data": {
      "application/vnd.jupyter.widget-view+json": {
       "model_id": "a099322255f14444b2da29421287792b",
       "version_major": 2,
       "version_minor": 0
      },
      "text/plain": [
       "  0%|          | 0/334 [00:00<?, ?it/s]"
      ]
     },
     "metadata": {},
     "output_type": "display_data"
    },
    {
     "name": "stdout",
     "output_type": "stream",
     "text": [
      "Train_loss: tensor(0.6483, device='cuda:2', grad_fn=<NllLossBackward0>)\n",
      "\n",
      "Attack success rate 0.62\n",
      "Test_loss: tensor(6.1355, device='cuda:2')\n",
      "\n",
      "Test clean Accuracy 79.05\n",
      "Test_loss: tensor(0.6775, device='cuda:2')\n",
      "\n",
      "Target test clean Accuracy 84.20\n",
      "Test_loss: tensor(0.6025, device='cuda:2')\n"
     ]
    },
    {
     "data": {
      "application/vnd.jupyter.widget-view+json": {
       "model_id": "67bedbeee37142c29aabae9106ef23b9",
       "version_major": 2,
       "version_minor": 0
      },
      "text/plain": [
       "  0%|          | 0/334 [00:00<?, ?it/s]"
      ]
     },
     "metadata": {},
     "output_type": "display_data"
    },
    {
     "name": "stdout",
     "output_type": "stream",
     "text": [
      "Train_loss: tensor(0.6828, device='cuda:2', grad_fn=<NllLossBackward0>)\n",
      "\n",
      "Attack success rate 15.96\n",
      "Test_loss: tensor(2.4104, device='cuda:2')\n",
      "\n",
      "Test clean Accuracy 77.56\n",
      "Test_loss: tensor(0.7147, device='cuda:2')\n",
      "\n",
      "Target test clean Accuracy 67.60\n",
      "Test_loss: tensor(0.7974, device='cuda:2')\n"
     ]
    },
    {
     "data": {
      "application/vnd.jupyter.widget-view+json": {
       "model_id": "d25c977ddf514b5596cf59edf49509f7",
       "version_major": 2,
       "version_minor": 0
      },
      "text/plain": [
       "  0%|          | 0/334 [00:00<?, ?it/s]"
      ]
     },
     "metadata": {},
     "output_type": "display_data"
    },
    {
     "name": "stdout",
     "output_type": "stream",
     "text": [
      "Train_loss: tensor(0.5316, device='cuda:2', grad_fn=<NllLossBackward0>)\n",
      "\n",
      "Attack success rate 0.11\n",
      "Test_loss: tensor(7.9061, device='cuda:2')\n",
      "\n",
      "Test clean Accuracy 79.40\n",
      "Test_loss: tensor(0.7816, device='cuda:2')\n",
      "\n",
      "Target test clean Accuracy 70.30\n",
      "Test_loss: tensor(0.9162, device='cuda:2')\n"
     ]
    },
    {
     "data": {
      "application/vnd.jupyter.widget-view+json": {
       "model_id": "802ef0a277e347feac6a7e578ccc42d6",
       "version_major": 2,
       "version_minor": 0
      },
      "text/plain": [
       "  0%|          | 0/334 [00:00<?, ?it/s]"
      ]
     },
     "metadata": {},
     "output_type": "display_data"
    },
    {
     "name": "stdout",
     "output_type": "stream",
     "text": [
      "Train_loss: tensor(0.4670, device='cuda:2', grad_fn=<NllLossBackward0>)\n",
      "\n",
      "Attack success rate 0.00\n",
      "Test_loss: tensor(6.5759, device='cuda:2')\n",
      "\n",
      "Test clean Accuracy 80.52\n",
      "Test_loss: tensor(0.6618, device='cuda:2')\n",
      "\n",
      "Target test clean Accuracy 53.40\n",
      "Test_loss: tensor(1.6315, device='cuda:2')\n"
     ]
    },
    {
     "data": {
      "application/vnd.jupyter.widget-view+json": {
       "model_id": "f149ff9b1ff1471592c35c3c73cf33d5",
       "version_major": 2,
       "version_minor": 0
      },
      "text/plain": [
       "  0%|          | 0/334 [00:00<?, ?it/s]"
      ]
     },
     "metadata": {},
     "output_type": "display_data"
    },
    {
     "name": "stdout",
     "output_type": "stream",
     "text": [
      "Train_loss: tensor(0.6761, device='cuda:2', grad_fn=<NllLossBackward0>)\n",
      "\n",
      "Attack success rate 0.97\n",
      "Test_loss: tensor(4.5380, device='cuda:2')\n",
      "\n",
      "Test clean Accuracy 82.46\n",
      "Test_loss: tensor(0.4282, device='cuda:2')\n",
      "\n",
      "Target test clean Accuracy 63.70\n",
      "Test_loss: tensor(1.2425, device='cuda:2')\n"
     ]
    },
    {
     "data": {
      "application/vnd.jupyter.widget-view+json": {
       "model_id": "960cb601e653448a9aabaa8eb7e1e624",
       "version_major": 2,
       "version_minor": 0
      },
      "text/plain": [
       "  0%|          | 0/334 [00:00<?, ?it/s]"
      ]
     },
     "metadata": {},
     "output_type": "display_data"
    },
    {
     "name": "stdout",
     "output_type": "stream",
     "text": [
      "Train_loss: tensor(0.7652, device='cuda:2', grad_fn=<NllLossBackward0>)\n",
      "\n",
      "Attack success rate 0.00\n",
      "Test_loss: tensor(10.0775, device='cuda:2')\n",
      "\n",
      "Test clean Accuracy 83.81\n",
      "Test_loss: tensor(0.3348, device='cuda:2')\n",
      "\n",
      "Target test clean Accuracy 78.50\n",
      "Test_loss: tensor(0.5866, device='cuda:2')\n"
     ]
    },
    {
     "data": {
      "application/vnd.jupyter.widget-view+json": {
       "model_id": "c9139a14fe494806a684f436e0389323",
       "version_major": 2,
       "version_minor": 0
      },
      "text/plain": [
       "  0%|          | 0/334 [00:00<?, ?it/s]"
      ]
     },
     "metadata": {},
     "output_type": "display_data"
    },
    {
     "name": "stdout",
     "output_type": "stream",
     "text": [
      "Train_loss: tensor(0.4618, device='cuda:2', grad_fn=<NllLossBackward0>)\n",
      "\n",
      "Attack success rate 26.47\n",
      "Test_loss: tensor(1.9873, device='cuda:2')\n",
      "\n",
      "Test clean Accuracy 84.67\n",
      "Test_loss: tensor(0.4578, device='cuda:2')\n",
      "\n",
      "Target test clean Accuracy 83.30\n",
      "Test_loss: tensor(0.4939, device='cuda:2')\n"
     ]
    },
    {
     "data": {
      "application/vnd.jupyter.widget-view+json": {
       "model_id": "5375d5de7c554bddb0a4926ebe357502",
       "version_major": 2,
       "version_minor": 0
      },
      "text/plain": [
       "  0%|          | 0/334 [00:00<?, ?it/s]"
      ]
     },
     "metadata": {},
     "output_type": "display_data"
    },
    {
     "name": "stdout",
     "output_type": "stream",
     "text": [
      "Train_loss: tensor(0.3844, device='cuda:2', grad_fn=<NllLossBackward0>)\n",
      "\n",
      "Attack success rate 0.07\n",
      "Test_loss: tensor(4.9996, device='cuda:2')\n",
      "\n",
      "Test clean Accuracy 83.46\n",
      "Test_loss: tensor(0.4303, device='cuda:2')\n",
      "\n",
      "Target test clean Accuracy 66.90\n",
      "Test_loss: tensor(0.9403, device='cuda:2')\n"
     ]
    },
    {
     "data": {
      "application/vnd.jupyter.widget-view+json": {
       "model_id": "9398f687619a499db4b68ec048c6ea9a",
       "version_major": 2,
       "version_minor": 0
      },
      "text/plain": [
       "  0%|          | 0/334 [00:00<?, ?it/s]"
      ]
     },
     "metadata": {},
     "output_type": "display_data"
    },
    {
     "name": "stdout",
     "output_type": "stream",
     "text": [
      "Train_loss: tensor(0.4600, device='cuda:2', grad_fn=<NllLossBackward0>)\n",
      "\n",
      "Attack success rate 0.26\n",
      "Test_loss: tensor(6.4714, device='cuda:2')\n",
      "\n",
      "Test clean Accuracy 82.43\n",
      "Test_loss: tensor(0.4901, device='cuda:2')\n",
      "\n",
      "Target test clean Accuracy 70.60\n",
      "Test_loss: tensor(1.0569, device='cuda:2')\n"
     ]
    },
    {
     "data": {
      "application/vnd.jupyter.widget-view+json": {
       "model_id": "c12819aaafc349588bce7195a6466768",
       "version_major": 2,
       "version_minor": 0
      },
      "text/plain": [
       "  0%|          | 0/334 [00:00<?, ?it/s]"
      ]
     },
     "metadata": {},
     "output_type": "display_data"
    },
    {
     "name": "stdout",
     "output_type": "stream",
     "text": [
      "Train_loss: tensor(0.5222, device='cuda:2', grad_fn=<NllLossBackward0>)\n",
      "\n",
      "Attack success rate 15.02\n",
      "Test_loss: tensor(2.6657, device='cuda:2')\n",
      "\n",
      "Test clean Accuracy 84.13\n",
      "Test_loss: tensor(0.4373, device='cuda:2')\n",
      "\n",
      "Target test clean Accuracy 73.70\n",
      "Test_loss: tensor(0.6620, device='cuda:2')\n"
     ]
    },
    {
     "data": {
      "application/vnd.jupyter.widget-view+json": {
       "model_id": "e646780d4c604eaea4bed2a0e9e62de2",
       "version_major": 2,
       "version_minor": 0
      },
      "text/plain": [
       "  0%|          | 0/334 [00:00<?, ?it/s]"
      ]
     },
     "metadata": {},
     "output_type": "display_data"
    },
    {
     "name": "stdout",
     "output_type": "stream",
     "text": [
      "Train_loss: tensor(0.6596, device='cuda:2', grad_fn=<NllLossBackward0>)\n",
      "\n",
      "Attack success rate 24.72\n",
      "Test_loss: tensor(2.1667, device='cuda:2')\n",
      "\n",
      "Test clean Accuracy 82.01\n",
      "Test_loss: tensor(0.5597, device='cuda:2')\n",
      "\n",
      "Target test clean Accuracy 78.70\n",
      "Test_loss: tensor(0.5776, device='cuda:2')\n"
     ]
    },
    {
     "data": {
      "application/vnd.jupyter.widget-view+json": {
       "model_id": "86838a54cde64484a88e0ba4ce76b019",
       "version_major": 2,
       "version_minor": 0
      },
      "text/plain": [
       "  0%|          | 0/334 [00:00<?, ?it/s]"
      ]
     },
     "metadata": {},
     "output_type": "display_data"
    },
    {
     "name": "stdout",
     "output_type": "stream",
     "text": [
      "Train_loss: tensor(0.6125, device='cuda:2', grad_fn=<NllLossBackward0>)\n",
      "\n",
      "Attack success rate 1.54\n",
      "Test_loss: tensor(4.2872, device='cuda:2')\n",
      "\n",
      "Test clean Accuracy 84.45\n",
      "Test_loss: tensor(0.4050, device='cuda:2')\n",
      "\n",
      "Target test clean Accuracy 64.60\n",
      "Test_loss: tensor(0.9511, device='cuda:2')\n"
     ]
    },
    {
     "data": {
      "application/vnd.jupyter.widget-view+json": {
       "model_id": "178e76401f80405a826d3b982c7fdf44",
       "version_major": 2,
       "version_minor": 0
      },
      "text/plain": [
       "  0%|          | 0/334 [00:00<?, ?it/s]"
      ]
     },
     "metadata": {},
     "output_type": "display_data"
    },
    {
     "name": "stdout",
     "output_type": "stream",
     "text": [
      "Train_loss: tensor(0.2904, device='cuda:2', grad_fn=<NllLossBackward0>)\n",
      "\n",
      "Attack success rate 7.01\n",
      "Test_loss: tensor(2.9048, device='cuda:2')\n",
      "\n",
      "Test clean Accuracy 84.54\n",
      "Test_loss: tensor(0.5643, device='cuda:2')\n",
      "\n",
      "Target test clean Accuracy 75.50\n",
      "Test_loss: tensor(0.7974, device='cuda:2')\n"
     ]
    },
    {
     "data": {
      "application/vnd.jupyter.widget-view+json": {
       "model_id": "cd8733f036294d24b65db9e2cecacdf6",
       "version_major": 2,
       "version_minor": 0
      },
      "text/plain": [
       "  0%|          | 0/334 [00:00<?, ?it/s]"
      ]
     },
     "metadata": {},
     "output_type": "display_data"
    },
    {
     "name": "stdout",
     "output_type": "stream",
     "text": [
      "Train_loss: tensor(0.3712, device='cuda:2', grad_fn=<NllLossBackward0>)\n",
      "\n",
      "Attack success rate 0.09\n",
      "Test_loss: tensor(5.1379, device='cuda:2')\n",
      "\n",
      "Test clean Accuracy 83.37\n",
      "Test_loss: tensor(0.4419, device='cuda:2')\n",
      "\n",
      "Target test clean Accuracy 66.20\n",
      "Test_loss: tensor(0.8499, device='cuda:2')\n"
     ]
    },
    {
     "data": {
      "application/vnd.jupyter.widget-view+json": {
       "model_id": "34b6f60b966c41d481cb1ca7e1f9af97",
       "version_major": 2,
       "version_minor": 0
      },
      "text/plain": [
       "  0%|          | 0/334 [00:00<?, ?it/s]"
      ]
     },
     "metadata": {},
     "output_type": "display_data"
    },
    {
     "name": "stdout",
     "output_type": "stream",
     "text": [
      "Train_loss: tensor(0.3379, device='cuda:2', grad_fn=<NllLossBackward0>)\n",
      "\n",
      "Attack success rate 5.69\n",
      "Test_loss: tensor(2.1919, device='cuda:2')\n",
      "\n",
      "Test clean Accuracy 82.76\n",
      "Test_loss: tensor(0.3571, device='cuda:2')\n",
      "\n",
      "Target test clean Accuracy 85.70\n",
      "Test_loss: tensor(0.3284, device='cuda:2')\n"
     ]
    },
    {
     "data": {
      "application/vnd.jupyter.widget-view+json": {
       "model_id": "b83058a5c58249ebb4cae1fbac38a86d",
       "version_major": 2,
       "version_minor": 0
      },
      "text/plain": [
       "  0%|          | 0/334 [00:00<?, ?it/s]"
      ]
     },
     "metadata": {},
     "output_type": "display_data"
    },
    {
     "name": "stdout",
     "output_type": "stream",
     "text": [
      "Train_loss: tensor(0.1908, device='cuda:2', grad_fn=<NllLossBackward0>)\n",
      "\n",
      "Attack success rate 19.92\n",
      "Test_loss: tensor(3.1981, device='cuda:2')\n",
      "\n",
      "Test clean Accuracy 81.48\n",
      "Test_loss: tensor(0.5390, device='cuda:2')\n",
      "\n",
      "Target test clean Accuracy 79.20\n",
      "Test_loss: tensor(0.5430, device='cuda:2')\n"
     ]
    },
    {
     "data": {
      "application/vnd.jupyter.widget-view+json": {
       "model_id": "ef2e5d2e7f3d4dfb89492bff30ede7d0",
       "version_major": 2,
       "version_minor": 0
      },
      "text/plain": [
       "  0%|          | 0/334 [00:00<?, ?it/s]"
      ]
     },
     "metadata": {},
     "output_type": "display_data"
    },
    {
     "name": "stdout",
     "output_type": "stream",
     "text": [
      "Train_loss: tensor(0.4357, device='cuda:2', grad_fn=<NllLossBackward0>)\n",
      "\n",
      "Attack success rate 0.50\n",
      "Test_loss: tensor(4.9280, device='cuda:2')\n",
      "\n",
      "Test clean Accuracy 84.11\n",
      "Test_loss: tensor(0.4235, device='cuda:2')\n",
      "\n",
      "Target test clean Accuracy 79.40\n",
      "Test_loss: tensor(0.4669, device='cuda:2')\n"
     ]
    },
    {
     "data": {
      "application/vnd.jupyter.widget-view+json": {
       "model_id": "166b78e2ac38457da3a98b7847691750",
       "version_major": 2,
       "version_minor": 0
      },
      "text/plain": [
       "  0%|          | 0/334 [00:00<?, ?it/s]"
      ]
     },
     "metadata": {},
     "output_type": "display_data"
    },
    {
     "name": "stdout",
     "output_type": "stream",
     "text": [
      "Train_loss: tensor(0.3214, device='cuda:2', grad_fn=<NllLossBackward0>)\n",
      "\n",
      "Attack success rate 50.79\n",
      "Test_loss: tensor(1.4695, device='cuda:2')\n",
      "\n",
      "Test clean Accuracy 85.71\n",
      "Test_loss: tensor(0.3441, device='cuda:2')\n",
      "\n",
      "Target test clean Accuracy 82.80\n",
      "Test_loss: tensor(0.8197, device='cuda:2')\n"
     ]
    },
    {
     "data": {
      "application/vnd.jupyter.widget-view+json": {
       "model_id": "7080ef9923834ee49be0f6e3866510f6",
       "version_major": 2,
       "version_minor": 0
      },
      "text/plain": [
       "  0%|          | 0/334 [00:00<?, ?it/s]"
      ]
     },
     "metadata": {},
     "output_type": "display_data"
    },
    {
     "name": "stdout",
     "output_type": "stream",
     "text": [
      "Train_loss: tensor(0.5000, device='cuda:2', grad_fn=<NllLossBackward0>)\n",
      "\n",
      "Attack success rate 1.27\n",
      "Test_loss: tensor(5.1673, device='cuda:2')\n",
      "\n",
      "Test clean Accuracy 84.76\n",
      "Test_loss: tensor(0.3802, device='cuda:2')\n",
      "\n",
      "Target test clean Accuracy 80.90\n",
      "Test_loss: tensor(0.6340, device='cuda:2')\n"
     ]
    },
    {
     "data": {
      "application/vnd.jupyter.widget-view+json": {
       "model_id": "bb9598f0c4f64f09a3bff124211b38b2",
       "version_major": 2,
       "version_minor": 0
      },
      "text/plain": [
       "  0%|          | 0/334 [00:00<?, ?it/s]"
      ]
     },
     "metadata": {},
     "output_type": "display_data"
    },
    {
     "name": "stdout",
     "output_type": "stream",
     "text": [
      "Train_loss: tensor(0.4056, device='cuda:2', grad_fn=<NllLossBackward0>)\n",
      "\n",
      "Attack success rate 0.10\n",
      "Test_loss: tensor(5.0589, device='cuda:2')\n",
      "\n",
      "Test clean Accuracy 81.84\n",
      "Test_loss: tensor(0.4535, device='cuda:2')\n",
      "\n",
      "Target test clean Accuracy 81.80\n",
      "Test_loss: tensor(0.3718, device='cuda:2')\n"
     ]
    },
    {
     "data": {
      "application/vnd.jupyter.widget-view+json": {
       "model_id": "f99fdb9ee7554ae4b9d2ad65d136ebde",
       "version_major": 2,
       "version_minor": 0
      },
      "text/plain": [
       "  0%|          | 0/334 [00:00<?, ?it/s]"
      ]
     },
     "metadata": {},
     "output_type": "display_data"
    },
    {
     "name": "stdout",
     "output_type": "stream",
     "text": [
      "Train_loss: tensor(0.2863, device='cuda:2', grad_fn=<NllLossBackward0>)\n",
      "\n",
      "Attack success rate 0.46\n",
      "Test_loss: tensor(7.0489, device='cuda:2')\n",
      "\n",
      "Test clean Accuracy 85.68\n",
      "Test_loss: tensor(0.3082, device='cuda:2')\n",
      "\n",
      "Target test clean Accuracy 79.60\n",
      "Test_loss: tensor(0.7239, device='cuda:2')\n"
     ]
    },
    {
     "data": {
      "application/vnd.jupyter.widget-view+json": {
       "model_id": "e187e628f70b4add95ca9f43d065086b",
       "version_major": 2,
       "version_minor": 0
      },
      "text/plain": [
       "  0%|          | 0/334 [00:00<?, ?it/s]"
      ]
     },
     "metadata": {},
     "output_type": "display_data"
    },
    {
     "name": "stdout",
     "output_type": "stream",
     "text": [
      "Train_loss: tensor(0.5519, device='cuda:2', grad_fn=<NllLossBackward0>)\n",
      "\n",
      "Attack success rate 8.91\n",
      "Test_loss: tensor(4.5762, device='cuda:2')\n",
      "\n",
      "Test clean Accuracy 81.85\n",
      "Test_loss: tensor(0.5539, device='cuda:2')\n",
      "\n",
      "Target test clean Accuracy 64.90\n",
      "Test_loss: tensor(1.0239, device='cuda:2')\n"
     ]
    },
    {
     "data": {
      "application/vnd.jupyter.widget-view+json": {
       "model_id": "801f89f7e1da4d6da7d664f0783f7b1e",
       "version_major": 2,
       "version_minor": 0
      },
      "text/plain": [
       "  0%|          | 0/334 [00:00<?, ?it/s]"
      ]
     },
     "metadata": {},
     "output_type": "display_data"
    },
    {
     "name": "stdout",
     "output_type": "stream",
     "text": [
      "Train_loss: tensor(0.3382, device='cuda:2', grad_fn=<NllLossBackward0>)\n",
      "\n",
      "Attack success rate 69.67\n",
      "Test_loss: tensor(0.9614, device='cuda:2')\n",
      "\n",
      "Test clean Accuracy 82.26\n",
      "Test_loss: tensor(0.3355, device='cuda:2')\n",
      "\n",
      "Target test clean Accuracy 90.70\n",
      "Test_loss: tensor(0.2807, device='cuda:2')\n"
     ]
    },
    {
     "data": {
      "application/vnd.jupyter.widget-view+json": {
       "model_id": "102b02464b084510800e32f98aefb16c",
       "version_major": 2,
       "version_minor": 0
      },
      "text/plain": [
       "  0%|          | 0/334 [00:00<?, ?it/s]"
      ]
     },
     "metadata": {},
     "output_type": "display_data"
    },
    {
     "name": "stdout",
     "output_type": "stream",
     "text": [
      "Train_loss: tensor(0.3410, device='cuda:2', grad_fn=<NllLossBackward0>)\n",
      "\n",
      "Attack success rate 4.17\n",
      "Test_loss: tensor(3.6732, device='cuda:2')\n",
      "\n",
      "Test clean Accuracy 82.08\n",
      "Test_loss: tensor(0.5835, device='cuda:2')\n",
      "\n",
      "Target test clean Accuracy 89.70\n",
      "Test_loss: tensor(0.3811, device='cuda:2')\n"
     ]
    },
    {
     "data": {
      "application/vnd.jupyter.widget-view+json": {
       "model_id": "5ea582094f394ffabcf914858b8a7167",
       "version_major": 2,
       "version_minor": 0
      },
      "text/plain": [
       "  0%|          | 0/334 [00:00<?, ?it/s]"
      ]
     },
     "metadata": {},
     "output_type": "display_data"
    },
    {
     "name": "stdout",
     "output_type": "stream",
     "text": [
      "Train_loss: tensor(0.3656, device='cuda:2', grad_fn=<NllLossBackward0>)\n",
      "\n",
      "Attack success rate 26.60\n",
      "Test_loss: tensor(2.2442, device='cuda:2')\n",
      "\n",
      "Test clean Accuracy 83.76\n",
      "Test_loss: tensor(0.5188, device='cuda:2')\n",
      "\n",
      "Target test clean Accuracy 75.20\n",
      "Test_loss: tensor(0.7670, device='cuda:2')\n"
     ]
    },
    {
     "data": {
      "application/vnd.jupyter.widget-view+json": {
       "model_id": "96f6d9b304d947bd9bda21e986cbc3ac",
       "version_major": 2,
       "version_minor": 0
      },
      "text/plain": [
       "  0%|          | 0/334 [00:00<?, ?it/s]"
      ]
     },
     "metadata": {},
     "output_type": "display_data"
    },
    {
     "name": "stdout",
     "output_type": "stream",
     "text": [
      "Train_loss: tensor(0.2554, device='cuda:2', grad_fn=<NllLossBackward0>)\n",
      "\n",
      "Attack success rate 73.60\n",
      "Test_loss: tensor(0.8654, device='cuda:2')\n",
      "\n",
      "Test clean Accuracy 86.90\n",
      "Test_loss: tensor(0.4210, device='cuda:2')\n",
      "\n",
      "Target test clean Accuracy 82.20\n",
      "Test_loss: tensor(0.2609, device='cuda:2')\n"
     ]
    },
    {
     "data": {
      "application/vnd.jupyter.widget-view+json": {
       "model_id": "f916eada7f1d48a3b62f8dcef7750aed",
       "version_major": 2,
       "version_minor": 0
      },
      "text/plain": [
       "  0%|          | 0/334 [00:00<?, ?it/s]"
      ]
     },
     "metadata": {},
     "output_type": "display_data"
    },
    {
     "name": "stdout",
     "output_type": "stream",
     "text": [
      "Train_loss: tensor(0.1734, device='cuda:2', grad_fn=<NllLossBackward0>)\n",
      "\n",
      "Attack success rate 62.67\n",
      "Test_loss: tensor(1.1449, device='cuda:2')\n",
      "\n",
      "Test clean Accuracy 86.27\n",
      "Test_loss: tensor(0.4251, device='cuda:2')\n",
      "\n",
      "Target test clean Accuracy 80.40\n",
      "Test_loss: tensor(0.7210, device='cuda:2')\n"
     ]
    },
    {
     "data": {
      "application/vnd.jupyter.widget-view+json": {
       "model_id": "b44b6d56a9bc4691864f158b2331cebe",
       "version_major": 2,
       "version_minor": 0
      },
      "text/plain": [
       "  0%|          | 0/334 [00:00<?, ?it/s]"
      ]
     },
     "metadata": {},
     "output_type": "display_data"
    },
    {
     "name": "stdout",
     "output_type": "stream",
     "text": [
      "Train_loss: tensor(0.4504, device='cuda:2', grad_fn=<NllLossBackward0>)\n",
      "\n",
      "Attack success rate 30.83\n",
      "Test_loss: tensor(2.2735, device='cuda:2')\n",
      "\n",
      "Test clean Accuracy 83.22\n",
      "Test_loss: tensor(0.4530, device='cuda:2')\n",
      "\n",
      "Target test clean Accuracy 91.30\n",
      "Test_loss: tensor(0.3499, device='cuda:2')\n"
     ]
    },
    {
     "data": {
      "application/vnd.jupyter.widget-view+json": {
       "model_id": "85c91c5ce611446faa1aa3a41bba11bd",
       "version_major": 2,
       "version_minor": 0
      },
      "text/plain": [
       "  0%|          | 0/334 [00:00<?, ?it/s]"
      ]
     },
     "metadata": {},
     "output_type": "display_data"
    },
    {
     "name": "stdout",
     "output_type": "stream",
     "text": [
      "Train_loss: tensor(0.4347, device='cuda:2', grad_fn=<NllLossBackward0>)\n",
      "\n",
      "Attack success rate 83.38\n",
      "Test_loss: tensor(0.6255, device='cuda:2')\n",
      "\n",
      "Test clean Accuracy 85.62\n",
      "Test_loss: tensor(0.3865, device='cuda:2')\n",
      "\n",
      "Target test clean Accuracy 88.30\n",
      "Test_loss: tensor(0.4115, device='cuda:2')\n"
     ]
    },
    {
     "data": {
      "application/vnd.jupyter.widget-view+json": {
       "model_id": "f8e13c7a715c4fcfa97e3e0dc3ffb99e",
       "version_major": 2,
       "version_minor": 0
      },
      "text/plain": [
       "  0%|          | 0/334 [00:00<?, ?it/s]"
      ]
     },
     "metadata": {},
     "output_type": "display_data"
    },
    {
     "name": "stdout",
     "output_type": "stream",
     "text": [
      "Train_loss: tensor(0.1380, device='cuda:2', grad_fn=<NllLossBackward0>)\n",
      "\n",
      "Attack success rate 16.31\n",
      "Test_loss: tensor(2.4588, device='cuda:2')\n",
      "\n",
      "Test clean Accuracy 85.48\n",
      "Test_loss: tensor(0.3583, device='cuda:2')\n",
      "\n",
      "Target test clean Accuracy 86.30\n",
      "Test_loss: tensor(0.4102, device='cuda:2')\n"
     ]
    },
    {
     "data": {
      "application/vnd.jupyter.widget-view+json": {
       "model_id": "76f8dbfa855c4015a05add22a534d6e5",
       "version_major": 2,
       "version_minor": 0
      },
      "text/plain": [
       "  0%|          | 0/334 [00:00<?, ?it/s]"
      ]
     },
     "metadata": {},
     "output_type": "display_data"
    },
    {
     "name": "stdout",
     "output_type": "stream",
     "text": [
      "Train_loss: tensor(0.4675, device='cuda:2', grad_fn=<NllLossBackward0>)\n",
      "\n",
      "Attack success rate 83.96\n",
      "Test_loss: tensor(0.5147, device='cuda:2')\n",
      "\n",
      "Test clean Accuracy 84.16\n",
      "Test_loss: tensor(0.4147, device='cuda:2')\n",
      "\n",
      "Target test clean Accuracy 86.80\n",
      "Test_loss: tensor(0.2912, device='cuda:2')\n"
     ]
    },
    {
     "data": {
      "application/vnd.jupyter.widget-view+json": {
       "model_id": "ff4da9e7c1714ce2843cdebcd28de995",
       "version_major": 2,
       "version_minor": 0
      },
      "text/plain": [
       "  0%|          | 0/334 [00:00<?, ?it/s]"
      ]
     },
     "metadata": {},
     "output_type": "display_data"
    },
    {
     "name": "stdout",
     "output_type": "stream",
     "text": [
      "Train_loss: tensor(0.4586, device='cuda:2', grad_fn=<NllLossBackward0>)\n",
      "\n",
      "Attack success rate 3.72\n",
      "Test_loss: tensor(4.2453, device='cuda:2')\n",
      "\n",
      "Test clean Accuracy 83.25\n",
      "Test_loss: tensor(0.5324, device='cuda:2')\n",
      "\n",
      "Target test clean Accuracy 89.00\n",
      "Test_loss: tensor(0.2066, device='cuda:2')\n"
     ]
    },
    {
     "data": {
      "application/vnd.jupyter.widget-view+json": {
       "model_id": "175c13a5bb634d578f01ad199e16451e",
       "version_major": 2,
       "version_minor": 0
      },
      "text/plain": [
       "  0%|          | 0/334 [00:00<?, ?it/s]"
      ]
     },
     "metadata": {},
     "output_type": "display_data"
    },
    {
     "name": "stdout",
     "output_type": "stream",
     "text": [
      "Train_loss: tensor(0.5293, device='cuda:2', grad_fn=<NllLossBackward0>)\n",
      "\n",
      "Attack success rate 74.56\n",
      "Test_loss: tensor(0.6159, device='cuda:2')\n",
      "\n",
      "Test clean Accuracy 84.52\n",
      "Test_loss: tensor(0.3020, device='cuda:2')\n",
      "\n",
      "Target test clean Accuracy 88.90\n",
      "Test_loss: tensor(0.1885, device='cuda:2')\n"
     ]
    },
    {
     "data": {
      "application/vnd.jupyter.widget-view+json": {
       "model_id": "793a8fcbb3e6431890a1e23e65d4296b",
       "version_major": 2,
       "version_minor": 0
      },
      "text/plain": [
       "  0%|          | 0/334 [00:00<?, ?it/s]"
      ]
     },
     "metadata": {},
     "output_type": "display_data"
    },
    {
     "name": "stdout",
     "output_type": "stream",
     "text": [
      "Train_loss: tensor(0.1863, device='cuda:2', grad_fn=<NllLossBackward0>)\n",
      "\n",
      "Attack success rate 27.10\n",
      "Test_loss: tensor(1.9540, device='cuda:2')\n",
      "\n",
      "Test clean Accuracy 82.82\n",
      "Test_loss: tensor(0.4731, device='cuda:2')\n",
      "\n",
      "Target test clean Accuracy 90.70\n",
      "Test_loss: tensor(0.2668, device='cuda:2')\n"
     ]
    },
    {
     "data": {
      "application/vnd.jupyter.widget-view+json": {
       "model_id": "b096888c739241babc1112486f16dcd5",
       "version_major": 2,
       "version_minor": 0
      },
      "text/plain": [
       "  0%|          | 0/334 [00:00<?, ?it/s]"
      ]
     },
     "metadata": {},
     "output_type": "display_data"
    },
    {
     "name": "stdout",
     "output_type": "stream",
     "text": [
      "Train_loss: tensor(0.5255, device='cuda:2', grad_fn=<NllLossBackward0>)\n",
      "\n",
      "Attack success rate 5.61\n",
      "Test_loss: tensor(3.2685, device='cuda:2')\n",
      "\n",
      "Test clean Accuracy 84.33\n",
      "Test_loss: tensor(0.4498, device='cuda:2')\n",
      "\n",
      "Target test clean Accuracy 82.20\n",
      "Test_loss: tensor(0.3833, device='cuda:2')\n"
     ]
    },
    {
     "data": {
      "application/vnd.jupyter.widget-view+json": {
       "model_id": "8f64505704a84bfdb906201162f89295",
       "version_major": 2,
       "version_minor": 0
      },
      "text/plain": [
       "  0%|          | 0/334 [00:00<?, ?it/s]"
      ]
     },
     "metadata": {},
     "output_type": "display_data"
    },
    {
     "name": "stdout",
     "output_type": "stream",
     "text": [
      "Train_loss: tensor(0.4727, device='cuda:2', grad_fn=<NllLossBackward0>)\n",
      "\n",
      "Attack success rate 3.96\n",
      "Test_loss: tensor(5.3697, device='cuda:2')\n",
      "\n",
      "Test clean Accuracy 83.89\n",
      "Test_loss: tensor(0.4256, device='cuda:2')\n",
      "\n",
      "Target test clean Accuracy 92.80\n",
      "Test_loss: tensor(0.3248, device='cuda:2')\n"
     ]
    },
    {
     "data": {
      "application/vnd.jupyter.widget-view+json": {
       "model_id": "b07d2ab6eacb42a092dc7c824cef0baa",
       "version_major": 2,
       "version_minor": 0
      },
      "text/plain": [
       "  0%|          | 0/334 [00:00<?, ?it/s]"
      ]
     },
     "metadata": {},
     "output_type": "display_data"
    },
    {
     "name": "stdout",
     "output_type": "stream",
     "text": [
      "Train_loss: tensor(0.2704, device='cuda:2', grad_fn=<NllLossBackward0>)\n",
      "\n",
      "Attack success rate 7.74\n",
      "Test_loss: tensor(3.9309, device='cuda:2')\n",
      "\n",
      "Test clean Accuracy 85.90\n",
      "Test_loss: tensor(0.4239, device='cuda:2')\n",
      "\n",
      "Target test clean Accuracy 84.70\n",
      "Test_loss: tensor(0.4613, device='cuda:2')\n"
     ]
    },
    {
     "data": {
      "application/vnd.jupyter.widget-view+json": {
       "model_id": "2db29e0326f846599366e3823d505cd4",
       "version_major": 2,
       "version_minor": 0
      },
      "text/plain": [
       "  0%|          | 0/334 [00:00<?, ?it/s]"
      ]
     },
     "metadata": {},
     "output_type": "display_data"
    },
    {
     "name": "stdout",
     "output_type": "stream",
     "text": [
      "Train_loss: tensor(0.3143, device='cuda:2', grad_fn=<NllLossBackward0>)\n",
      "\n",
      "Attack success rate 0.73\n",
      "Test_loss: tensor(3.9163, device='cuda:2')\n",
      "\n",
      "Test clean Accuracy 85.75\n",
      "Test_loss: tensor(0.4426, device='cuda:2')\n",
      "\n",
      "Target test clean Accuracy 73.00\n",
      "Test_loss: tensor(0.7947, device='cuda:2')\n"
     ]
    },
    {
     "data": {
      "application/vnd.jupyter.widget-view+json": {
       "model_id": "0c8436ddb067456b8d9b19d34625903c",
       "version_major": 2,
       "version_minor": 0
      },
      "text/plain": [
       "  0%|          | 0/334 [00:00<?, ?it/s]"
      ]
     },
     "metadata": {},
     "output_type": "display_data"
    },
    {
     "name": "stdout",
     "output_type": "stream",
     "text": [
      "Train_loss: tensor(0.4613, device='cuda:2', grad_fn=<NllLossBackward0>)\n",
      "\n",
      "Attack success rate 6.60\n",
      "Test_loss: tensor(3.7871, device='cuda:2')\n",
      "\n",
      "Test clean Accuracy 85.62\n",
      "Test_loss: tensor(0.3602, device='cuda:2')\n",
      "\n",
      "Target test clean Accuracy 78.80\n",
      "Test_loss: tensor(0.6738, device='cuda:2')\n"
     ]
    },
    {
     "data": {
      "application/vnd.jupyter.widget-view+json": {
       "model_id": "a22a09ff98404b3aa572a7701fc5234f",
       "version_major": 2,
       "version_minor": 0
      },
      "text/plain": [
       "  0%|          | 0/334 [00:00<?, ?it/s]"
      ]
     },
     "metadata": {},
     "output_type": "display_data"
    },
    {
     "name": "stdout",
     "output_type": "stream",
     "text": [
      "Train_loss: tensor(0.1754, device='cuda:2', grad_fn=<NllLossBackward0>)\n",
      "\n",
      "Attack success rate 8.83\n",
      "Test_loss: tensor(3.5429, device='cuda:2')\n",
      "\n",
      "Test clean Accuracy 87.03\n",
      "Test_loss: tensor(0.2458, device='cuda:2')\n",
      "\n",
      "Target test clean Accuracy 74.40\n",
      "Test_loss: tensor(0.7991, device='cuda:2')\n"
     ]
    },
    {
     "data": {
      "application/vnd.jupyter.widget-view+json": {
       "model_id": "2072fbf43ecb4c55b89d2024c3ffffa5",
       "version_major": 2,
       "version_minor": 0
      },
      "text/plain": [
       "  0%|          | 0/334 [00:00<?, ?it/s]"
      ]
     },
     "metadata": {},
     "output_type": "display_data"
    },
    {
     "name": "stdout",
     "output_type": "stream",
     "text": [
      "Train_loss: tensor(0.2610, device='cuda:2', grad_fn=<NllLossBackward0>)\n",
      "\n",
      "Attack success rate 78.20\n",
      "Test_loss: tensor(0.6589, device='cuda:2')\n",
      "\n",
      "Test clean Accuracy 84.33\n",
      "Test_loss: tensor(0.4084, device='cuda:2')\n",
      "\n",
      "Target test clean Accuracy 85.90\n",
      "Test_loss: tensor(0.3479, device='cuda:2')\n"
     ]
    },
    {
     "data": {
      "application/vnd.jupyter.widget-view+json": {
       "model_id": "64475dab10ff475f9fecced7d9e022c7",
       "version_major": 2,
       "version_minor": 0
      },
      "text/plain": [
       "  0%|          | 0/334 [00:00<?, ?it/s]"
      ]
     },
     "metadata": {},
     "output_type": "display_data"
    },
    {
     "name": "stdout",
     "output_type": "stream",
     "text": [
      "Train_loss: tensor(0.5999, device='cuda:2', grad_fn=<NllLossBackward0>)\n",
      "\n",
      "Attack success rate 1.86\n",
      "Test_loss: tensor(5.1058, device='cuda:2')\n",
      "\n",
      "Test clean Accuracy 86.33\n",
      "Test_loss: tensor(0.3753, device='cuda:2')\n",
      "\n",
      "Target test clean Accuracy 85.70\n",
      "Test_loss: tensor(0.3567, device='cuda:2')\n"
     ]
    },
    {
     "data": {
      "application/vnd.jupyter.widget-view+json": {
       "model_id": "984fb2a17195477bae0c287379711b79",
       "version_major": 2,
       "version_minor": 0
      },
      "text/plain": [
       "  0%|          | 0/334 [00:00<?, ?it/s]"
      ]
     },
     "metadata": {},
     "output_type": "display_data"
    },
    {
     "name": "stdout",
     "output_type": "stream",
     "text": [
      "Train_loss: tensor(0.3297, device='cuda:2', grad_fn=<NllLossBackward0>)\n",
      "\n",
      "Attack success rate 28.86\n",
      "Test_loss: tensor(1.5992, device='cuda:2')\n",
      "\n",
      "Test clean Accuracy 87.24\n",
      "Test_loss: tensor(0.3218, device='cuda:2')\n",
      "\n",
      "Target test clean Accuracy 84.60\n",
      "Test_loss: tensor(0.4471, device='cuda:2')\n"
     ]
    },
    {
     "data": {
      "application/vnd.jupyter.widget-view+json": {
       "model_id": "a357a4ea6241411db6f2c2736d13eec8",
       "version_major": 2,
       "version_minor": 0
      },
      "text/plain": [
       "  0%|          | 0/334 [00:00<?, ?it/s]"
      ]
     },
     "metadata": {},
     "output_type": "display_data"
    },
    {
     "name": "stdout",
     "output_type": "stream",
     "text": [
      "Train_loss: tensor(0.2368, device='cuda:2', grad_fn=<NllLossBackward0>)\n",
      "\n",
      "Attack success rate 1.03\n",
      "Test_loss: tensor(4.4947, device='cuda:2')\n",
      "\n",
      "Test clean Accuracy 85.99\n",
      "Test_loss: tensor(0.4120, device='cuda:2')\n",
      "\n",
      "Target test clean Accuracy 83.90\n",
      "Test_loss: tensor(0.5930, device='cuda:2')\n"
     ]
    },
    {
     "data": {
      "application/vnd.jupyter.widget-view+json": {
       "model_id": "1d8dde7ba50b458b929e4003487ce4e5",
       "version_major": 2,
       "version_minor": 0
      },
      "text/plain": [
       "  0%|          | 0/334 [00:00<?, ?it/s]"
      ]
     },
     "metadata": {},
     "output_type": "display_data"
    },
    {
     "name": "stdout",
     "output_type": "stream",
     "text": [
      "Train_loss: tensor(0.3606, device='cuda:2', grad_fn=<NllLossBackward0>)\n",
      "\n",
      "Attack success rate 2.93\n",
      "Test_loss: tensor(4.4491, device='cuda:2')\n",
      "\n",
      "Test clean Accuracy 82.78\n",
      "Test_loss: tensor(0.3356, device='cuda:2')\n",
      "\n",
      "Target test clean Accuracy 84.00\n",
      "Test_loss: tensor(0.4827, device='cuda:2')\n"
     ]
    },
    {
     "data": {
      "application/vnd.jupyter.widget-view+json": {
       "model_id": "bb3681ada90246d08523315b78036884",
       "version_major": 2,
       "version_minor": 0
      },
      "text/plain": [
       "  0%|          | 0/334 [00:00<?, ?it/s]"
      ]
     },
     "metadata": {},
     "output_type": "display_data"
    },
    {
     "name": "stdout",
     "output_type": "stream",
     "text": [
      "Train_loss: tensor(0.4330, device='cuda:2', grad_fn=<NllLossBackward0>)\n",
      "\n",
      "Attack success rate 6.53\n",
      "Test_loss: tensor(4.0208, device='cuda:2')\n",
      "\n",
      "Test clean Accuracy 81.45\n",
      "Test_loss: tensor(0.4476, device='cuda:2')\n",
      "\n",
      "Target test clean Accuracy 77.50\n",
      "Test_loss: tensor(0.6890, device='cuda:2')\n"
     ]
    },
    {
     "data": {
      "application/vnd.jupyter.widget-view+json": {
       "model_id": "f08547ca8a4248bebb85f4b4d49ed26a",
       "version_major": 2,
       "version_minor": 0
      },
      "text/plain": [
       "  0%|          | 0/334 [00:00<?, ?it/s]"
      ]
     },
     "metadata": {},
     "output_type": "display_data"
    },
    {
     "name": "stdout",
     "output_type": "stream",
     "text": [
      "Train_loss: tensor(0.3179, device='cuda:2', grad_fn=<NllLossBackward0>)\n",
      "\n",
      "Attack success rate 8.84\n",
      "Test_loss: tensor(2.7184, device='cuda:2')\n",
      "\n",
      "Test clean Accuracy 83.20\n",
      "Test_loss: tensor(0.4602, device='cuda:2')\n",
      "\n",
      "Target test clean Accuracy 64.70\n",
      "Test_loss: tensor(1.2433, device='cuda:2')\n"
     ]
    },
    {
     "data": {
      "application/vnd.jupyter.widget-view+json": {
       "model_id": "c1e2dad0c4d841b697d259c16e9813e4",
       "version_major": 2,
       "version_minor": 0
      },
      "text/plain": [
       "  0%|          | 0/334 [00:00<?, ?it/s]"
      ]
     },
     "metadata": {},
     "output_type": "display_data"
    },
    {
     "name": "stdout",
     "output_type": "stream",
     "text": [
      "Train_loss: tensor(0.4370, device='cuda:2', grad_fn=<NllLossBackward0>)\n",
      "\n",
      "Attack success rate 95.84\n",
      "Test_loss: tensor(0.1901, device='cuda:2')\n",
      "\n",
      "Test clean Accuracy 85.56\n",
      "Test_loss: tensor(0.3493, device='cuda:2')\n",
      "\n",
      "Target test clean Accuracy 82.70\n",
      "Test_loss: tensor(0.4858, device='cuda:2')\n"
     ]
    },
    {
     "data": {
      "application/vnd.jupyter.widget-view+json": {
       "model_id": "1c17aae80c5e402b97915500c8b6bd9c",
       "version_major": 2,
       "version_minor": 0
      },
      "text/plain": [
       "  0%|          | 0/334 [00:00<?, ?it/s]"
      ]
     },
     "metadata": {},
     "output_type": "display_data"
    },
    {
     "name": "stdout",
     "output_type": "stream",
     "text": [
      "Train_loss: tensor(0.7866, device='cuda:2', grad_fn=<NllLossBackward0>)\n",
      "\n",
      "Attack success rate 92.22\n",
      "Test_loss: tensor(0.4666, device='cuda:2')\n",
      "\n",
      "Test clean Accuracy 86.20\n",
      "Test_loss: tensor(0.2582, device='cuda:2')\n",
      "\n",
      "Target test clean Accuracy 92.30\n",
      "Test_loss: tensor(0.1926, device='cuda:2')\n"
     ]
    },
    {
     "data": {
      "application/vnd.jupyter.widget-view+json": {
       "model_id": "d3e640aa42484e68bf3905ccc8c7ce2c",
       "version_major": 2,
       "version_minor": 0
      },
      "text/plain": [
       "  0%|          | 0/334 [00:00<?, ?it/s]"
      ]
     },
     "metadata": {},
     "output_type": "display_data"
    },
    {
     "name": "stdout",
     "output_type": "stream",
     "text": [
      "Train_loss: tensor(0.4546, device='cuda:2', grad_fn=<NllLossBackward0>)\n",
      "\n",
      "Attack success rate 73.82\n",
      "Test_loss: tensor(0.7143, device='cuda:2')\n",
      "\n",
      "Test clean Accuracy 86.94\n",
      "Test_loss: tensor(0.3620, device='cuda:2')\n",
      "\n",
      "Target test clean Accuracy 87.00\n",
      "Test_loss: tensor(0.4541, device='cuda:2')\n"
     ]
    },
    {
     "data": {
      "application/vnd.jupyter.widget-view+json": {
       "model_id": "9ed0f15a4dd943ecbf9d4aa8638a8798",
       "version_major": 2,
       "version_minor": 0
      },
      "text/plain": [
       "  0%|          | 0/334 [00:00<?, ?it/s]"
      ]
     },
     "metadata": {},
     "output_type": "display_data"
    },
    {
     "name": "stdout",
     "output_type": "stream",
     "text": [
      "Train_loss: tensor(0.1973, device='cuda:2', grad_fn=<NllLossBackward0>)\n",
      "\n",
      "Attack success rate 95.36\n",
      "Test_loss: tensor(0.2905, device='cuda:2')\n",
      "\n",
      "Test clean Accuracy 85.80\n",
      "Test_loss: tensor(0.3339, device='cuda:2')\n",
      "\n",
      "Target test clean Accuracy 86.60\n",
      "Test_loss: tensor(0.4152, device='cuda:2')\n"
     ]
    },
    {
     "data": {
      "application/vnd.jupyter.widget-view+json": {
       "model_id": "a3c22915f6764aaaa4263399ba3ef862",
       "version_major": 2,
       "version_minor": 0
      },
      "text/plain": [
       "  0%|          | 0/334 [00:00<?, ?it/s]"
      ]
     },
     "metadata": {},
     "output_type": "display_data"
    },
    {
     "name": "stdout",
     "output_type": "stream",
     "text": [
      "Train_loss: tensor(0.1344, device='cuda:2', grad_fn=<NllLossBackward0>)\n",
      "\n",
      "Attack success rate 19.44\n",
      "Test_loss: tensor(2.2937, device='cuda:2')\n",
      "\n",
      "Test clean Accuracy 86.71\n",
      "Test_loss: tensor(0.2422, device='cuda:2')\n",
      "\n",
      "Target test clean Accuracy 68.20\n",
      "Test_loss: tensor(0.9734, device='cuda:2')\n"
     ]
    },
    {
     "data": {
      "application/vnd.jupyter.widget-view+json": {
       "model_id": "4657600d3dd348eea2af549c019f83c9",
       "version_major": 2,
       "version_minor": 0
      },
      "text/plain": [
       "  0%|          | 0/334 [00:00<?, ?it/s]"
      ]
     },
     "metadata": {},
     "output_type": "display_data"
    },
    {
     "name": "stdout",
     "output_type": "stream",
     "text": [
      "Train_loss: tensor(0.2090, device='cuda:2', grad_fn=<NllLossBackward0>)\n",
      "\n",
      "Attack success rate 92.70\n",
      "Test_loss: tensor(0.2858, device='cuda:2')\n",
      "\n",
      "Test clean Accuracy 86.41\n",
      "Test_loss: tensor(0.2459, device='cuda:2')\n",
      "\n",
      "Target test clean Accuracy 92.00\n",
      "Test_loss: tensor(0.1752, device='cuda:2')\n"
     ]
    },
    {
     "data": {
      "application/vnd.jupyter.widget-view+json": {
       "model_id": "d665efb2ed454244944af7d188062807",
       "version_major": 2,
       "version_minor": 0
      },
      "text/plain": [
       "  0%|          | 0/334 [00:00<?, ?it/s]"
      ]
     },
     "metadata": {},
     "output_type": "display_data"
    },
    {
     "name": "stdout",
     "output_type": "stream",
     "text": [
      "Train_loss: tensor(0.2782, device='cuda:2', grad_fn=<NllLossBackward0>)\n",
      "\n",
      "Attack success rate 3.24\n",
      "Test_loss: tensor(3.4587, device='cuda:2')\n",
      "\n",
      "Test clean Accuracy 84.90\n",
      "Test_loss: tensor(0.3357, device='cuda:2')\n",
      "\n",
      "Target test clean Accuracy 92.60\n",
      "Test_loss: tensor(0.1617, device='cuda:2')\n"
     ]
    },
    {
     "data": {
      "application/vnd.jupyter.widget-view+json": {
       "model_id": "686dc5baa0d041d7a6c44c0460d8d721",
       "version_major": 2,
       "version_minor": 0
      },
      "text/plain": [
       "  0%|          | 0/334 [00:00<?, ?it/s]"
      ]
     },
     "metadata": {},
     "output_type": "display_data"
    },
    {
     "name": "stdout",
     "output_type": "stream",
     "text": [
      "Train_loss: tensor(0.2489, device='cuda:2', grad_fn=<NllLossBackward0>)\n",
      "\n",
      "Attack success rate 18.19\n",
      "Test_loss: tensor(2.5553, device='cuda:2')\n",
      "\n",
      "Test clean Accuracy 86.14\n",
      "Test_loss: tensor(0.5169, device='cuda:2')\n",
      "\n",
      "Target test clean Accuracy 83.30\n",
      "Test_loss: tensor(0.3894, device='cuda:2')\n"
     ]
    },
    {
     "data": {
      "application/vnd.jupyter.widget-view+json": {
       "model_id": "d5a833f8be194bcab23367db33040125",
       "version_major": 2,
       "version_minor": 0
      },
      "text/plain": [
       "  0%|          | 0/334 [00:00<?, ?it/s]"
      ]
     },
     "metadata": {},
     "output_type": "display_data"
    },
    {
     "name": "stdout",
     "output_type": "stream",
     "text": [
      "Train_loss: tensor(0.2523, device='cuda:2', grad_fn=<NllLossBackward0>)\n",
      "\n",
      "Attack success rate 33.56\n",
      "Test_loss: tensor(2.3644, device='cuda:2')\n",
      "\n",
      "Test clean Accuracy 89.09\n",
      "Test_loss: tensor(0.2578, device='cuda:2')\n",
      "\n",
      "Target test clean Accuracy 88.50\n",
      "Test_loss: tensor(0.4694, device='cuda:2')\n"
     ]
    },
    {
     "data": {
      "application/vnd.jupyter.widget-view+json": {
       "model_id": "1de6a932db6241fda5d504a66471bd08",
       "version_major": 2,
       "version_minor": 0
      },
      "text/plain": [
       "  0%|          | 0/334 [00:00<?, ?it/s]"
      ]
     },
     "metadata": {},
     "output_type": "display_data"
    },
    {
     "name": "stdout",
     "output_type": "stream",
     "text": [
      "Train_loss: tensor(0.5653, device='cuda:2', grad_fn=<NllLossBackward0>)\n",
      "\n",
      "Attack success rate 2.13\n",
      "Test_loss: tensor(3.0529, device='cuda:2')\n",
      "\n",
      "Test clean Accuracy 87.37\n",
      "Test_loss: tensor(0.3384, device='cuda:2')\n",
      "\n",
      "Target test clean Accuracy 80.00\n",
      "Test_loss: tensor(0.7060, device='cuda:2')\n"
     ]
    },
    {
     "data": {
      "application/vnd.jupyter.widget-view+json": {
       "model_id": "a686473ffad949ae8161634f7549bbdf",
       "version_major": 2,
       "version_minor": 0
      },
      "text/plain": [
       "  0%|          | 0/334 [00:00<?, ?it/s]"
      ]
     },
     "metadata": {},
     "output_type": "display_data"
    },
    {
     "name": "stdout",
     "output_type": "stream",
     "text": [
      "Train_loss: tensor(0.1865, device='cuda:2', grad_fn=<NllLossBackward0>)\n",
      "\n",
      "Attack success rate 99.57\n",
      "Test_loss: tensor(0.0276, device='cuda:2')\n",
      "\n",
      "Test clean Accuracy 87.20\n",
      "Test_loss: tensor(0.3476, device='cuda:2')\n",
      "\n",
      "Target test clean Accuracy 86.20\n",
      "Test_loss: tensor(0.2756, device='cuda:2')\n"
     ]
    },
    {
     "data": {
      "application/vnd.jupyter.widget-view+json": {
       "model_id": "04e97f76c539460b90ede6163bca1279",
       "version_major": 2,
       "version_minor": 0
      },
      "text/plain": [
       "  0%|          | 0/334 [00:00<?, ?it/s]"
      ]
     },
     "metadata": {},
     "output_type": "display_data"
    },
    {
     "name": "stdout",
     "output_type": "stream",
     "text": [
      "Train_loss: tensor(0.3612, device='cuda:2', grad_fn=<NllLossBackward0>)\n",
      "\n",
      "Attack success rate 3.26\n",
      "Test_loss: tensor(3.5895, device='cuda:2')\n",
      "\n",
      "Test clean Accuracy 87.91\n",
      "Test_loss: tensor(0.3462, device='cuda:2')\n",
      "\n",
      "Target test clean Accuracy 85.20\n",
      "Test_loss: tensor(0.4000, device='cuda:2')\n"
     ]
    },
    {
     "data": {
      "application/vnd.jupyter.widget-view+json": {
       "model_id": "f5533947bb59442e80ce7236b52f1fe5",
       "version_major": 2,
       "version_minor": 0
      },
      "text/plain": [
       "  0%|          | 0/334 [00:00<?, ?it/s]"
      ]
     },
     "metadata": {},
     "output_type": "display_data"
    },
    {
     "name": "stdout",
     "output_type": "stream",
     "text": [
      "Train_loss: tensor(0.2152, device='cuda:2', grad_fn=<NllLossBackward0>)\n",
      "\n",
      "Attack success rate 6.23\n",
      "Test_loss: tensor(3.3412, device='cuda:2')\n",
      "\n",
      "Test clean Accuracy 86.74\n",
      "Test_loss: tensor(0.3287, device='cuda:2')\n",
      "\n",
      "Target test clean Accuracy 78.50\n",
      "Test_loss: tensor(0.5447, device='cuda:2')\n"
     ]
    },
    {
     "data": {
      "application/vnd.jupyter.widget-view+json": {
       "model_id": "7f036ed4142d414898805582dfa98151",
       "version_major": 2,
       "version_minor": 0
      },
      "text/plain": [
       "  0%|          | 0/334 [00:00<?, ?it/s]"
      ]
     },
     "metadata": {},
     "output_type": "display_data"
    },
    {
     "name": "stdout",
     "output_type": "stream",
     "text": [
      "Train_loss: tensor(0.3507, device='cuda:2', grad_fn=<NllLossBackward0>)\n",
      "\n",
      "Attack success rate 62.72\n",
      "Test_loss: tensor(1.0977, device='cuda:2')\n",
      "\n",
      "Test clean Accuracy 88.83\n",
      "Test_loss: tensor(0.3271, device='cuda:2')\n",
      "\n",
      "Target test clean Accuracy 83.20\n",
      "Test_loss: tensor(0.5834, device='cuda:2')\n"
     ]
    },
    {
     "data": {
      "application/vnd.jupyter.widget-view+json": {
       "model_id": "f7032b791ae04da6803ba904e3e5f901",
       "version_major": 2,
       "version_minor": 0
      },
      "text/plain": [
       "  0%|          | 0/334 [00:00<?, ?it/s]"
      ]
     },
     "metadata": {},
     "output_type": "display_data"
    },
    {
     "name": "stdout",
     "output_type": "stream",
     "text": [
      "Train_loss: tensor(0.4216, device='cuda:2', grad_fn=<NllLossBackward0>)\n",
      "\n",
      "Attack success rate 72.66\n",
      "Test_loss: tensor(0.9404, device='cuda:2')\n",
      "\n",
      "Test clean Accuracy 84.67\n",
      "Test_loss: tensor(0.4543, device='cuda:2')\n",
      "\n",
      "Target test clean Accuracy 84.80\n",
      "Test_loss: tensor(0.3788, device='cuda:2')\n"
     ]
    },
    {
     "data": {
      "application/vnd.jupyter.widget-view+json": {
       "model_id": "271a1a9089f24c9db73dac77c1cd709c",
       "version_major": 2,
       "version_minor": 0
      },
      "text/plain": [
       "  0%|          | 0/334 [00:00<?, ?it/s]"
      ]
     },
     "metadata": {},
     "output_type": "display_data"
    },
    {
     "name": "stdout",
     "output_type": "stream",
     "text": [
      "Train_loss: tensor(0.2381, device='cuda:2', grad_fn=<NllLossBackward0>)\n",
      "\n",
      "Attack success rate 15.00\n",
      "Test_loss: tensor(3.0951, device='cuda:2')\n",
      "\n",
      "Test clean Accuracy 83.38\n",
      "Test_loss: tensor(0.5786, device='cuda:2')\n",
      "\n",
      "Target test clean Accuracy 63.70\n",
      "Test_loss: tensor(1.4699, device='cuda:2')\n"
     ]
    },
    {
     "data": {
      "application/vnd.jupyter.widget-view+json": {
       "model_id": "b921bb867c1c4493b4165a446b5785c9",
       "version_major": 2,
       "version_minor": 0
      },
      "text/plain": [
       "  0%|          | 0/334 [00:00<?, ?it/s]"
      ]
     },
     "metadata": {},
     "output_type": "display_data"
    },
    {
     "name": "stdout",
     "output_type": "stream",
     "text": [
      "Train_loss: tensor(0.1897, device='cuda:2', grad_fn=<NllLossBackward0>)\n",
      "\n",
      "Attack success rate 11.27\n",
      "Test_loss: tensor(2.8092, device='cuda:2')\n",
      "\n",
      "Test clean Accuracy 88.17\n",
      "Test_loss: tensor(0.3227, device='cuda:2')\n",
      "\n",
      "Target test clean Accuracy 80.10\n",
      "Test_loss: tensor(0.4936, device='cuda:2')\n"
     ]
    },
    {
     "data": {
      "application/vnd.jupyter.widget-view+json": {
       "model_id": "e6a20ce9e7bd46e8bd16597690e97496",
       "version_major": 2,
       "version_minor": 0
      },
      "text/plain": [
       "  0%|          | 0/334 [00:00<?, ?it/s]"
      ]
     },
     "metadata": {},
     "output_type": "display_data"
    },
    {
     "name": "stdout",
     "output_type": "stream",
     "text": [
      "Train_loss: tensor(0.2950, device='cuda:2', grad_fn=<NllLossBackward0>)\n",
      "\n",
      "Attack success rate 1.49\n",
      "Test_loss: tensor(2.8881, device='cuda:2')\n",
      "\n",
      "Test clean Accuracy 87.69\n",
      "Test_loss: tensor(0.2614, device='cuda:2')\n",
      "\n",
      "Target test clean Accuracy 77.20\n",
      "Test_loss: tensor(0.6362, device='cuda:2')\n"
     ]
    },
    {
     "data": {
      "application/vnd.jupyter.widget-view+json": {
       "model_id": "de74eb59d83744fe965cde9634e0a1e0",
       "version_major": 2,
       "version_minor": 0
      },
      "text/plain": [
       "  0%|          | 0/334 [00:00<?, ?it/s]"
      ]
     },
     "metadata": {},
     "output_type": "display_data"
    },
    {
     "name": "stdout",
     "output_type": "stream",
     "text": [
      "Train_loss: tensor(0.1888, device='cuda:2', grad_fn=<NllLossBackward0>)\n",
      "\n",
      "Attack success rate 0.44\n",
      "Test_loss: tensor(4.4929, device='cuda:2')\n",
      "\n",
      "Test clean Accuracy 87.16\n",
      "Test_loss: tensor(0.2707, device='cuda:2')\n",
      "\n",
      "Target test clean Accuracy 86.60\n",
      "Test_loss: tensor(0.3843, device='cuda:2')\n"
     ]
    },
    {
     "data": {
      "application/vnd.jupyter.widget-view+json": {
       "model_id": "5b6c31a3b6db418bbc43d7971c95653e",
       "version_major": 2,
       "version_minor": 0
      },
      "text/plain": [
       "  0%|          | 0/334 [00:00<?, ?it/s]"
      ]
     },
     "metadata": {},
     "output_type": "display_data"
    },
    {
     "name": "stdout",
     "output_type": "stream",
     "text": [
      "Train_loss: tensor(0.2898, device='cuda:2', grad_fn=<NllLossBackward0>)\n",
      "\n",
      "Attack success rate 3.41\n",
      "Test_loss: tensor(4.3872, device='cuda:2')\n",
      "\n",
      "Test clean Accuracy 85.86\n",
      "Test_loss: tensor(0.2489, device='cuda:2')\n",
      "\n",
      "Target test clean Accuracy 89.60\n",
      "Test_loss: tensor(0.2304, device='cuda:2')\n"
     ]
    },
    {
     "data": {
      "application/vnd.jupyter.widget-view+json": {
       "model_id": "7ecf25ed1f40481ea1a76de579f35164",
       "version_major": 2,
       "version_minor": 0
      },
      "text/plain": [
       "  0%|          | 0/334 [00:00<?, ?it/s]"
      ]
     },
     "metadata": {},
     "output_type": "display_data"
    },
    {
     "name": "stdout",
     "output_type": "stream",
     "text": [
      "Train_loss: tensor(0.3399, device='cuda:2', grad_fn=<NllLossBackward0>)\n",
      "\n",
      "Attack success rate 2.52\n",
      "Test_loss: tensor(3.6513, device='cuda:2')\n",
      "\n",
      "Test clean Accuracy 79.77\n",
      "Test_loss: tensor(0.7270, device='cuda:2')\n",
      "\n",
      "Target test clean Accuracy 74.40\n",
      "Test_loss: tensor(0.9087, device='cuda:2')\n"
     ]
    },
    {
     "data": {
      "application/vnd.jupyter.widget-view+json": {
       "model_id": "157da884055542d18a53afa7506444b6",
       "version_major": 2,
       "version_minor": 0
      },
      "text/plain": [
       "  0%|          | 0/334 [00:00<?, ?it/s]"
      ]
     },
     "metadata": {},
     "output_type": "display_data"
    },
    {
     "name": "stdout",
     "output_type": "stream",
     "text": [
      "Train_loss: tensor(0.2929, device='cuda:2', grad_fn=<NllLossBackward0>)\n",
      "\n",
      "Attack success rate 7.57\n",
      "Test_loss: tensor(2.1457, device='cuda:2')\n",
      "\n",
      "Test clean Accuracy 88.79\n",
      "Test_loss: tensor(0.2554, device='cuda:2')\n",
      "\n",
      "Target test clean Accuracy 84.20\n",
      "Test_loss: tensor(0.5630, device='cuda:2')\n"
     ]
    },
    {
     "data": {
      "application/vnd.jupyter.widget-view+json": {
       "model_id": "025c54438012466f954a0f39d1b4fc4f",
       "version_major": 2,
       "version_minor": 0
      },
      "text/plain": [
       "  0%|          | 0/334 [00:00<?, ?it/s]"
      ]
     },
     "metadata": {},
     "output_type": "display_data"
    },
    {
     "name": "stdout",
     "output_type": "stream",
     "text": [
      "Train_loss: tensor(0.4189, device='cuda:2', grad_fn=<NllLossBackward0>)\n",
      "\n",
      "Attack success rate 18.69\n",
      "Test_loss: tensor(2.4936, device='cuda:2')\n",
      "\n",
      "Test clean Accuracy 85.16\n",
      "Test_loss: tensor(0.2757, device='cuda:2')\n",
      "\n",
      "Target test clean Accuracy 88.90\n",
      "Test_loss: tensor(0.2760, device='cuda:2')\n"
     ]
    },
    {
     "data": {
      "application/vnd.jupyter.widget-view+json": {
       "model_id": "ef4b4658ad5a4474ab3291ef740014a9",
       "version_major": 2,
       "version_minor": 0
      },
      "text/plain": [
       "  0%|          | 0/334 [00:00<?, ?it/s]"
      ]
     },
     "metadata": {},
     "output_type": "display_data"
    },
    {
     "name": "stdout",
     "output_type": "stream",
     "text": [
      "Train_loss: tensor(0.2597, device='cuda:2', grad_fn=<NllLossBackward0>)\n",
      "\n",
      "Attack success rate 46.80\n",
      "Test_loss: tensor(2.5386, device='cuda:2')\n",
      "\n",
      "Test clean Accuracy 87.07\n",
      "Test_loss: tensor(0.2503, device='cuda:2')\n",
      "\n",
      "Target test clean Accuracy 91.70\n",
      "Test_loss: tensor(0.3130, device='cuda:2')\n"
     ]
    },
    {
     "data": {
      "application/vnd.jupyter.widget-view+json": {
       "model_id": "4d4694168fbb4994b9421cf02b3cf1f8",
       "version_major": 2,
       "version_minor": 0
      },
      "text/plain": [
       "  0%|          | 0/334 [00:00<?, ?it/s]"
      ]
     },
     "metadata": {},
     "output_type": "display_data"
    },
    {
     "name": "stdout",
     "output_type": "stream",
     "text": [
      "Train_loss: tensor(0.1706, device='cuda:2', grad_fn=<NllLossBackward0>)\n",
      "\n",
      "Attack success rate 61.37\n",
      "Test_loss: tensor(1.3167, device='cuda:2')\n",
      "\n",
      "Test clean Accuracy 84.94\n",
      "Test_loss: tensor(0.3312, device='cuda:2')\n",
      "\n",
      "Target test clean Accuracy 87.10\n",
      "Test_loss: tensor(0.3955, device='cuda:2')\n"
     ]
    },
    {
     "data": {
      "application/vnd.jupyter.widget-view+json": {
       "model_id": "fe3eab2b947c423290d9e51d3fc7ac64",
       "version_major": 2,
       "version_minor": 0
      },
      "text/plain": [
       "  0%|          | 0/334 [00:00<?, ?it/s]"
      ]
     },
     "metadata": {},
     "output_type": "display_data"
    },
    {
     "name": "stdout",
     "output_type": "stream",
     "text": [
      "Train_loss: tensor(0.1431, device='cuda:2', grad_fn=<NllLossBackward0>)\n",
      "\n",
      "Attack success rate 99.43\n",
      "Test_loss: tensor(0.0437, device='cuda:2')\n",
      "\n",
      "Test clean Accuracy 84.79\n",
      "Test_loss: tensor(0.3533, device='cuda:2')\n",
      "\n",
      "Target test clean Accuracy 87.80\n",
      "Test_loss: tensor(0.3712, device='cuda:2')\n"
     ]
    },
    {
     "data": {
      "application/vnd.jupyter.widget-view+json": {
       "model_id": "4883004f40084a3bac3f46f13d6de08a",
       "version_major": 2,
       "version_minor": 0
      },
      "text/plain": [
       "  0%|          | 0/334 [00:00<?, ?it/s]"
      ]
     },
     "metadata": {},
     "output_type": "display_data"
    },
    {
     "name": "stdout",
     "output_type": "stream",
     "text": [
      "Train_loss: tensor(0.3385, device='cuda:2', grad_fn=<NllLossBackward0>)\n",
      "\n",
      "Attack success rate 43.76\n",
      "Test_loss: tensor(1.7483, device='cuda:2')\n",
      "\n",
      "Test clean Accuracy 89.58\n",
      "Test_loss: tensor(0.2075, device='cuda:2')\n",
      "\n",
      "Target test clean Accuracy 86.90\n",
      "Test_loss: tensor(0.3347, device='cuda:2')\n"
     ]
    },
    {
     "data": {
      "application/vnd.jupyter.widget-view+json": {
       "model_id": "aee1f6a2390141329e411ba3bf201ed8",
       "version_major": 2,
       "version_minor": 0
      },
      "text/plain": [
       "  0%|          | 0/334 [00:00<?, ?it/s]"
      ]
     },
     "metadata": {},
     "output_type": "display_data"
    },
    {
     "name": "stdout",
     "output_type": "stream",
     "text": [
      "Train_loss: tensor(0.1831, device='cuda:2', grad_fn=<NllLossBackward0>)\n",
      "\n",
      "Attack success rate 69.04\n",
      "Test_loss: tensor(1.0676, device='cuda:2')\n",
      "\n",
      "Test clean Accuracy 86.84\n",
      "Test_loss: tensor(0.3725, device='cuda:2')\n",
      "\n",
      "Target test clean Accuracy 86.50\n",
      "Test_loss: tensor(0.1873, device='cuda:2')\n"
     ]
    },
    {
     "data": {
      "application/vnd.jupyter.widget-view+json": {
       "model_id": "649c2de8199748c4aee0172a240980e7",
       "version_major": 2,
       "version_minor": 0
      },
      "text/plain": [
       "  0%|          | 0/334 [00:00<?, ?it/s]"
      ]
     },
     "metadata": {},
     "output_type": "display_data"
    },
    {
     "name": "stdout",
     "output_type": "stream",
     "text": [
      "Train_loss: tensor(0.3872, device='cuda:2', grad_fn=<NllLossBackward0>)\n",
      "\n",
      "Attack success rate 58.34\n",
      "Test_loss: tensor(1.4250, device='cuda:2')\n",
      "\n",
      "Test clean Accuracy 88.16\n",
      "Test_loss: tensor(0.2560, device='cuda:2')\n",
      "\n",
      "Target test clean Accuracy 82.40\n",
      "Test_loss: tensor(0.5362, device='cuda:2')\n"
     ]
    },
    {
     "data": {
      "application/vnd.jupyter.widget-view+json": {
       "model_id": "7b658ffd83f24835922b51efe2baa07f",
       "version_major": 2,
       "version_minor": 0
      },
      "text/plain": [
       "  0%|          | 0/334 [00:00<?, ?it/s]"
      ]
     },
     "metadata": {},
     "output_type": "display_data"
    },
    {
     "name": "stdout",
     "output_type": "stream",
     "text": [
      "Train_loss: tensor(0.3820, device='cuda:2', grad_fn=<NllLossBackward0>)\n",
      "\n",
      "Attack success rate 76.61\n",
      "Test_loss: tensor(0.6215, device='cuda:2')\n",
      "\n",
      "Test clean Accuracy 85.79\n",
      "Test_loss: tensor(0.4456, device='cuda:2')\n",
      "\n",
      "Target test clean Accuracy 83.60\n",
      "Test_loss: tensor(0.5788, device='cuda:2')\n"
     ]
    },
    {
     "data": {
      "application/vnd.jupyter.widget-view+json": {
       "model_id": "1504973f896545198684cca91bd3054f",
       "version_major": 2,
       "version_minor": 0
      },
      "text/plain": [
       "  0%|          | 0/334 [00:00<?, ?it/s]"
      ]
     },
     "metadata": {},
     "output_type": "display_data"
    },
    {
     "name": "stdout",
     "output_type": "stream",
     "text": [
      "Train_loss: tensor(0.2240, device='cuda:2', grad_fn=<NllLossBackward0>)\n",
      "\n",
      "Attack success rate 13.53\n",
      "Test_loss: tensor(2.7973, device='cuda:2')\n",
      "\n",
      "Test clean Accuracy 88.60\n",
      "Test_loss: tensor(0.2647, device='cuda:2')\n",
      "\n",
      "Target test clean Accuracy 83.80\n",
      "Test_loss: tensor(0.6265, device='cuda:2')\n"
     ]
    },
    {
     "data": {
      "application/vnd.jupyter.widget-view+json": {
       "model_id": "1048eac879364e1f8ac9483dedfdd17d",
       "version_major": 2,
       "version_minor": 0
      },
      "text/plain": [
       "  0%|          | 0/334 [00:00<?, ?it/s]"
      ]
     },
     "metadata": {},
     "output_type": "display_data"
    },
    {
     "name": "stdout",
     "output_type": "stream",
     "text": [
      "Train_loss: tensor(0.2402, device='cuda:2', grad_fn=<NllLossBackward0>)\n",
      "\n",
      "Attack success rate 0.00\n",
      "Test_loss: tensor(9.8301, device='cuda:2')\n",
      "\n",
      "Test clean Accuracy 89.33\n",
      "Test_loss: tensor(0.3205, device='cuda:2')\n",
      "\n",
      "Target test clean Accuracy 78.30\n",
      "Test_loss: tensor(0.6390, device='cuda:2')\n"
     ]
    },
    {
     "data": {
      "application/vnd.jupyter.widget-view+json": {
       "model_id": "9c5323e16b3e471ea9c7c428b52efba9",
       "version_major": 2,
       "version_minor": 0
      },
      "text/plain": [
       "  0%|          | 0/334 [00:00<?, ?it/s]"
      ]
     },
     "metadata": {},
     "output_type": "display_data"
    },
    {
     "name": "stdout",
     "output_type": "stream",
     "text": [
      "Train_loss: tensor(0.3524, device='cuda:2', grad_fn=<NllLossBackward0>)\n",
      "\n",
      "Attack success rate 79.68\n",
      "Test_loss: tensor(0.6328, device='cuda:2')\n",
      "\n",
      "Test clean Accuracy 88.52\n",
      "Test_loss: tensor(0.1739, device='cuda:2')\n",
      "\n",
      "Target test clean Accuracy 83.10\n",
      "Test_loss: tensor(0.4809, device='cuda:2')\n"
     ]
    },
    {
     "data": {
      "application/vnd.jupyter.widget-view+json": {
       "model_id": "d10cfdc2dd544280905e1aa6bf9bcd54",
       "version_major": 2,
       "version_minor": 0
      },
      "text/plain": [
       "  0%|          | 0/334 [00:00<?, ?it/s]"
      ]
     },
     "metadata": {},
     "output_type": "display_data"
    },
    {
     "name": "stdout",
     "output_type": "stream",
     "text": [
      "Train_loss: tensor(0.3211, device='cuda:2', grad_fn=<NllLossBackward0>)\n",
      "\n",
      "Attack success rate 16.29\n",
      "Test_loss: tensor(4.1818, device='cuda:2')\n",
      "\n",
      "Test clean Accuracy 87.91\n",
      "Test_loss: tensor(0.2456, device='cuda:2')\n",
      "\n",
      "Target test clean Accuracy 78.60\n",
      "Test_loss: tensor(0.6467, device='cuda:2')\n"
     ]
    },
    {
     "data": {
      "application/vnd.jupyter.widget-view+json": {
       "model_id": "a9548b420cb44a179fc819ad020a2903",
       "version_major": 2,
       "version_minor": 0
      },
      "text/plain": [
       "  0%|          | 0/334 [00:00<?, ?it/s]"
      ]
     },
     "metadata": {},
     "output_type": "display_data"
    },
    {
     "name": "stdout",
     "output_type": "stream",
     "text": [
      "Train_loss: tensor(0.2187, device='cuda:2', grad_fn=<NllLossBackward0>)\n",
      "\n",
      "Attack success rate 96.46\n",
      "Test_loss: tensor(0.2189, device='cuda:2')\n",
      "\n",
      "Test clean Accuracy 88.21\n",
      "Test_loss: tensor(0.3109, device='cuda:2')\n",
      "\n",
      "Target test clean Accuracy 92.50\n",
      "Test_loss: tensor(0.1888, device='cuda:2')\n"
     ]
    },
    {
     "data": {
      "application/vnd.jupyter.widget-view+json": {
       "model_id": "62ec57e508ba4c3f989c1b3ab0a250f8",
       "version_major": 2,
       "version_minor": 0
      },
      "text/plain": [
       "  0%|          | 0/334 [00:00<?, ?it/s]"
      ]
     },
     "metadata": {},
     "output_type": "display_data"
    },
    {
     "name": "stdout",
     "output_type": "stream",
     "text": [
      "Train_loss: tensor(0.1478, device='cuda:2', grad_fn=<NllLossBackward0>)\n",
      "\n",
      "Attack success rate 0.84\n",
      "Test_loss: tensor(5.3836, device='cuda:2')\n",
      "\n",
      "Test clean Accuracy 86.98\n",
      "Test_loss: tensor(0.3757, device='cuda:2')\n",
      "\n",
      "Target test clean Accuracy 84.80\n",
      "Test_loss: tensor(0.3754, device='cuda:2')\n"
     ]
    },
    {
     "data": {
      "application/vnd.jupyter.widget-view+json": {
       "model_id": "17babf793e3549758f0573d1f1eea34f",
       "version_major": 2,
       "version_minor": 0
      },
      "text/plain": [
       "  0%|          | 0/334 [00:00<?, ?it/s]"
      ]
     },
     "metadata": {},
     "output_type": "display_data"
    },
    {
     "name": "stdout",
     "output_type": "stream",
     "text": [
      "Train_loss: tensor(0.3306, device='cuda:2', grad_fn=<NllLossBackward0>)\n",
      "\n",
      "Attack success rate 86.14\n",
      "Test_loss: tensor(0.4449, device='cuda:2')\n",
      "\n",
      "Test clean Accuracy 88.62\n",
      "Test_loss: tensor(0.2073, device='cuda:2')\n",
      "\n",
      "Target test clean Accuracy 77.80\n",
      "Test_loss: tensor(0.7746, device='cuda:2')\n"
     ]
    },
    {
     "data": {
      "application/vnd.jupyter.widget-view+json": {
       "model_id": "74c82e24feb345a787c78d86db7cb97d",
       "version_major": 2,
       "version_minor": 0
      },
      "text/plain": [
       "  0%|          | 0/334 [00:00<?, ?it/s]"
      ]
     },
     "metadata": {},
     "output_type": "display_data"
    },
    {
     "name": "stdout",
     "output_type": "stream",
     "text": [
      "Train_loss: tensor(0.3630, device='cuda:2', grad_fn=<NllLossBackward0>)\n",
      "\n",
      "Attack success rate 5.63\n",
      "Test_loss: tensor(4.6715, device='cuda:2')\n",
      "\n",
      "Test clean Accuracy 89.30\n",
      "Test_loss: tensor(0.2132, device='cuda:2')\n",
      "\n",
      "Target test clean Accuracy 88.20\n",
      "Test_loss: tensor(0.3449, device='cuda:2')\n"
     ]
    },
    {
     "data": {
      "application/vnd.jupyter.widget-view+json": {
       "model_id": "dcff081cdafd494aafcb4de42cc90ef4",
       "version_major": 2,
       "version_minor": 0
      },
      "text/plain": [
       "  0%|          | 0/334 [00:00<?, ?it/s]"
      ]
     },
     "metadata": {},
     "output_type": "display_data"
    },
    {
     "name": "stdout",
     "output_type": "stream",
     "text": [
      "Train_loss: tensor(0.4696, device='cuda:2', grad_fn=<NllLossBackward0>)\n",
      "\n",
      "Attack success rate 59.20\n",
      "Test_loss: tensor(1.3005, device='cuda:2')\n",
      "\n",
      "Test clean Accuracy 88.60\n",
      "Test_loss: tensor(0.2452, device='cuda:2')\n",
      "\n",
      "Target test clean Accuracy 71.40\n",
      "Test_loss: tensor(1.0640, device='cuda:2')\n"
     ]
    },
    {
     "data": {
      "application/vnd.jupyter.widget-view+json": {
       "model_id": "aa06b956229541b4bfae8e9010a01e77",
       "version_major": 2,
       "version_minor": 0
      },
      "text/plain": [
       "  0%|          | 0/334 [00:00<?, ?it/s]"
      ]
     },
     "metadata": {},
     "output_type": "display_data"
    },
    {
     "name": "stdout",
     "output_type": "stream",
     "text": [
      "Train_loss: tensor(0.1711, device='cuda:2', grad_fn=<NllLossBackward0>)\n",
      "\n",
      "Attack success rate 18.78\n",
      "Test_loss: tensor(3.6446, device='cuda:2')\n",
      "\n",
      "Test clean Accuracy 86.83\n",
      "Test_loss: tensor(0.3534, device='cuda:2')\n",
      "\n",
      "Target test clean Accuracy 79.40\n",
      "Test_loss: tensor(0.4759, device='cuda:2')\n"
     ]
    },
    {
     "data": {
      "application/vnd.jupyter.widget-view+json": {
       "model_id": "f51c560a29f64dd087064cf75058e7b7",
       "version_major": 2,
       "version_minor": 0
      },
      "text/plain": [
       "  0%|          | 0/334 [00:00<?, ?it/s]"
      ]
     },
     "metadata": {},
     "output_type": "display_data"
    },
    {
     "name": "stdout",
     "output_type": "stream",
     "text": [
      "Train_loss: tensor(0.2471, device='cuda:2', grad_fn=<NllLossBackward0>)\n",
      "\n",
      "Attack success rate 92.06\n",
      "Test_loss: tensor(0.3722, device='cuda:2')\n",
      "\n",
      "Test clean Accuracy 88.45\n",
      "Test_loss: tensor(0.2236, device='cuda:2')\n",
      "\n",
      "Target test clean Accuracy 84.50\n",
      "Test_loss: tensor(0.3552, device='cuda:2')\n"
     ]
    },
    {
     "data": {
      "application/vnd.jupyter.widget-view+json": {
       "model_id": "1c4715f9dad140668027bd7710417962",
       "version_major": 2,
       "version_minor": 0
      },
      "text/plain": [
       "  0%|          | 0/334 [00:00<?, ?it/s]"
      ]
     },
     "metadata": {},
     "output_type": "display_data"
    },
    {
     "name": "stdout",
     "output_type": "stream",
     "text": [
      "Train_loss: tensor(0.2626, device='cuda:2', grad_fn=<NllLossBackward0>)\n",
      "\n",
      "Attack success rate 45.91\n",
      "Test_loss: tensor(1.3291, device='cuda:2')\n",
      "\n",
      "Test clean Accuracy 89.77\n",
      "Test_loss: tensor(0.3101, device='cuda:2')\n",
      "\n",
      "Target test clean Accuracy 88.60\n",
      "Test_loss: tensor(0.3848, device='cuda:2')\n"
     ]
    },
    {
     "data": {
      "application/vnd.jupyter.widget-view+json": {
       "model_id": "1f7023405e62490099f6727691a84a46",
       "version_major": 2,
       "version_minor": 0
      },
      "text/plain": [
       "  0%|          | 0/334 [00:00<?, ?it/s]"
      ]
     },
     "metadata": {},
     "output_type": "display_data"
    },
    {
     "name": "stdout",
     "output_type": "stream",
     "text": [
      "Train_loss: tensor(0.1565, device='cuda:2', grad_fn=<NllLossBackward0>)\n",
      "\n",
      "Attack success rate 82.80\n",
      "Test_loss: tensor(0.5214, device='cuda:2')\n",
      "\n",
      "Test clean Accuracy 88.16\n",
      "Test_loss: tensor(0.2768, device='cuda:2')\n",
      "\n",
      "Target test clean Accuracy 84.50\n",
      "Test_loss: tensor(0.4889, device='cuda:2')\n"
     ]
    },
    {
     "data": {
      "application/vnd.jupyter.widget-view+json": {
       "model_id": "d6dd415812484a1bacb4d60ba419ec40",
       "version_major": 2,
       "version_minor": 0
      },
      "text/plain": [
       "  0%|          | 0/334 [00:00<?, ?it/s]"
      ]
     },
     "metadata": {},
     "output_type": "display_data"
    },
    {
     "name": "stdout",
     "output_type": "stream",
     "text": [
      "Train_loss: tensor(0.2094, device='cuda:2', grad_fn=<NllLossBackward0>)\n",
      "\n",
      "Attack success rate 85.54\n",
      "Test_loss: tensor(0.5787, device='cuda:2')\n",
      "\n",
      "Test clean Accuracy 88.83\n",
      "Test_loss: tensor(0.3939, device='cuda:2')\n",
      "\n",
      "Target test clean Accuracy 88.20\n",
      "Test_loss: tensor(0.5051, device='cuda:2')\n"
     ]
    },
    {
     "data": {
      "application/vnd.jupyter.widget-view+json": {
       "model_id": "302628e18c984571b17fc56ef7c6c522",
       "version_major": 2,
       "version_minor": 0
      },
      "text/plain": [
       "  0%|          | 0/334 [00:00<?, ?it/s]"
      ]
     },
     "metadata": {},
     "output_type": "display_data"
    },
    {
     "name": "stdout",
     "output_type": "stream",
     "text": [
      "Train_loss: tensor(0.1699, device='cuda:2', grad_fn=<NllLossBackward0>)\n",
      "\n",
      "Attack success rate 45.57\n",
      "Test_loss: tensor(1.5073, device='cuda:2')\n",
      "\n",
      "Test clean Accuracy 87.86\n",
      "Test_loss: tensor(0.3112, device='cuda:2')\n",
      "\n",
      "Target test clean Accuracy 92.40\n",
      "Test_loss: tensor(0.1882, device='cuda:2')\n"
     ]
    },
    {
     "data": {
      "application/vnd.jupyter.widget-view+json": {
       "model_id": "8d5bd6d709c94d9da381314ecced81c7",
       "version_major": 2,
       "version_minor": 0
      },
      "text/plain": [
       "  0%|          | 0/334 [00:00<?, ?it/s]"
      ]
     },
     "metadata": {},
     "output_type": "display_data"
    },
    {
     "name": "stdout",
     "output_type": "stream",
     "text": [
      "Train_loss: tensor(0.1809, device='cuda:2', grad_fn=<NllLossBackward0>)\n",
      "\n",
      "Attack success rate 27.63\n",
      "Test_loss: tensor(2.2867, device='cuda:2')\n",
      "\n",
      "Test clean Accuracy 89.99\n",
      "Test_loss: tensor(0.2489, device='cuda:2')\n",
      "\n",
      "Target test clean Accuracy 89.50\n",
      "Test_loss: tensor(0.5240, device='cuda:2')\n"
     ]
    },
    {
     "data": {
      "application/vnd.jupyter.widget-view+json": {
       "model_id": "5c0889f607a047228703fe23535536c5",
       "version_major": 2,
       "version_minor": 0
      },
      "text/plain": [
       "  0%|          | 0/334 [00:00<?, ?it/s]"
      ]
     },
     "metadata": {},
     "output_type": "display_data"
    },
    {
     "name": "stdout",
     "output_type": "stream",
     "text": [
      "Train_loss: tensor(0.1158, device='cuda:2', grad_fn=<NllLossBackward0>)\n",
      "\n",
      "Attack success rate 99.16\n",
      "Test_loss: tensor(0.0456, device='cuda:2')\n",
      "\n",
      "Test clean Accuracy 89.57\n",
      "Test_loss: tensor(0.1790, device='cuda:2')\n",
      "\n",
      "Target test clean Accuracy 84.50\n",
      "Test_loss: tensor(0.4311, device='cuda:2')\n"
     ]
    },
    {
     "data": {
      "application/vnd.jupyter.widget-view+json": {
       "model_id": "6c8584075a394a4e848c69ead2c5d6d1",
       "version_major": 2,
       "version_minor": 0
      },
      "text/plain": [
       "  0%|          | 0/334 [00:00<?, ?it/s]"
      ]
     },
     "metadata": {},
     "output_type": "display_data"
    },
    {
     "name": "stdout",
     "output_type": "stream",
     "text": [
      "Train_loss: tensor(0.2205, device='cuda:2', grad_fn=<NllLossBackward0>)\n",
      "\n",
      "Attack success rate 41.33\n",
      "Test_loss: tensor(2.3296, device='cuda:2')\n",
      "\n",
      "Test clean Accuracy 87.80\n",
      "Test_loss: tensor(0.3028, device='cuda:2')\n",
      "\n",
      "Target test clean Accuracy 78.10\n",
      "Test_loss: tensor(0.7457, device='cuda:2')\n"
     ]
    },
    {
     "data": {
      "application/vnd.jupyter.widget-view+json": {
       "model_id": "4a7c3de09a604f5f8db9b445fbb5f426",
       "version_major": 2,
       "version_minor": 0
      },
      "text/plain": [
       "  0%|          | 0/334 [00:00<?, ?it/s]"
      ]
     },
     "metadata": {},
     "output_type": "display_data"
    },
    {
     "name": "stdout",
     "output_type": "stream",
     "text": [
      "Train_loss: tensor(0.1292, device='cuda:2', grad_fn=<NllLossBackward0>)\n",
      "\n",
      "Attack success rate 89.24\n",
      "Test_loss: tensor(0.3682, device='cuda:2')\n",
      "\n",
      "Test clean Accuracy 89.40\n",
      "Test_loss: tensor(0.3812, device='cuda:2')\n",
      "\n",
      "Target test clean Accuracy 92.50\n",
      "Test_loss: tensor(0.3195, device='cuda:2')\n"
     ]
    },
    {
     "data": {
      "application/vnd.jupyter.widget-view+json": {
       "model_id": "78e7a20946bd4dd491cc758c9c9d2325",
       "version_major": 2,
       "version_minor": 0
      },
      "text/plain": [
       "  0%|          | 0/334 [00:00<?, ?it/s]"
      ]
     },
     "metadata": {},
     "output_type": "display_data"
    },
    {
     "name": "stdout",
     "output_type": "stream",
     "text": [
      "Train_loss: tensor(0.0722, device='cuda:2', grad_fn=<NllLossBackward0>)\n",
      "\n",
      "Attack success rate 92.42\n",
      "Test_loss: tensor(0.2568, device='cuda:2')\n",
      "\n",
      "Test clean Accuracy 90.37\n",
      "Test_loss: tensor(0.1633, device='cuda:2')\n",
      "\n",
      "Target test clean Accuracy 84.90\n",
      "Test_loss: tensor(0.4166, device='cuda:2')\n"
     ]
    },
    {
     "data": {
      "application/vnd.jupyter.widget-view+json": {
       "model_id": "9c16172dc97b4e218301f781a583f299",
       "version_major": 2,
       "version_minor": 0
      },
      "text/plain": [
       "  0%|          | 0/334 [00:00<?, ?it/s]"
      ]
     },
     "metadata": {},
     "output_type": "display_data"
    },
    {
     "name": "stdout",
     "output_type": "stream",
     "text": [
      "Train_loss: tensor(0.2022, device='cuda:2', grad_fn=<NllLossBackward0>)\n",
      "\n",
      "Attack success rate 59.81\n",
      "Test_loss: tensor(1.5164, device='cuda:2')\n",
      "\n",
      "Test clean Accuracy 86.56\n",
      "Test_loss: tensor(0.4503, device='cuda:2')\n",
      "\n",
      "Target test clean Accuracy 95.70\n",
      "Test_loss: tensor(0.1005, device='cuda:2')\n"
     ]
    },
    {
     "data": {
      "application/vnd.jupyter.widget-view+json": {
       "model_id": "0cf5c41a2efd45c6b3a2f86b6dc08f07",
       "version_major": 2,
       "version_minor": 0
      },
      "text/plain": [
       "  0%|          | 0/334 [00:00<?, ?it/s]"
      ]
     },
     "metadata": {},
     "output_type": "display_data"
    },
    {
     "name": "stdout",
     "output_type": "stream",
     "text": [
      "Train_loss: tensor(0.2138, device='cuda:2', grad_fn=<NllLossBackward0>)\n",
      "\n",
      "Attack success rate 93.52\n",
      "Test_loss: tensor(0.1588, device='cuda:2')\n",
      "\n",
      "Test clean Accuracy 88.89\n",
      "Test_loss: tensor(0.2781, device='cuda:2')\n",
      "\n",
      "Target test clean Accuracy 88.40\n",
      "Test_loss: tensor(0.4479, device='cuda:2')\n"
     ]
    },
    {
     "data": {
      "application/vnd.jupyter.widget-view+json": {
       "model_id": "f5076508de8c4e46b9c3efd0e38a99d9",
       "version_major": 2,
       "version_minor": 0
      },
      "text/plain": [
       "  0%|          | 0/334 [00:00<?, ?it/s]"
      ]
     },
     "metadata": {},
     "output_type": "display_data"
    },
    {
     "name": "stdout",
     "output_type": "stream",
     "text": [
      "Train_loss: tensor(0.1253, device='cuda:2', grad_fn=<NllLossBackward0>)\n",
      "\n",
      "Attack success rate 92.64\n",
      "Test_loss: tensor(0.3170, device='cuda:2')\n",
      "\n",
      "Test clean Accuracy 88.91\n",
      "Test_loss: tensor(0.2768, device='cuda:2')\n",
      "\n",
      "Target test clean Accuracy 82.70\n",
      "Test_loss: tensor(0.4614, device='cuda:2')\n"
     ]
    },
    {
     "data": {
      "application/vnd.jupyter.widget-view+json": {
       "model_id": "832135e85283436b914106545070db84",
       "version_major": 2,
       "version_minor": 0
      },
      "text/plain": [
       "  0%|          | 0/334 [00:00<?, ?it/s]"
      ]
     },
     "metadata": {},
     "output_type": "display_data"
    },
    {
     "name": "stdout",
     "output_type": "stream",
     "text": [
      "Train_loss: tensor(0.0603, device='cuda:2', grad_fn=<NllLossBackward0>)\n",
      "\n",
      "Attack success rate 36.84\n",
      "Test_loss: tensor(2.1618, device='cuda:2')\n",
      "\n",
      "Test clean Accuracy 88.90\n",
      "Test_loss: tensor(0.3120, device='cuda:2')\n",
      "\n",
      "Target test clean Accuracy 86.10\n",
      "Test_loss: tensor(0.5282, device='cuda:2')\n"
     ]
    },
    {
     "data": {
      "application/vnd.jupyter.widget-view+json": {
       "model_id": "74b22af17b7e4e3fa256e32d972e113b",
       "version_major": 2,
       "version_minor": 0
      },
      "text/plain": [
       "  0%|          | 0/334 [00:00<?, ?it/s]"
      ]
     },
     "metadata": {},
     "output_type": "display_data"
    },
    {
     "name": "stdout",
     "output_type": "stream",
     "text": [
      "Train_loss: tensor(0.2609, device='cuda:2', grad_fn=<NllLossBackward0>)\n",
      "\n",
      "Attack success rate 96.30\n",
      "Test_loss: tensor(0.2517, device='cuda:2')\n",
      "\n",
      "Test clean Accuracy 90.39\n",
      "Test_loss: tensor(0.2818, device='cuda:2')\n",
      "\n",
      "Target test clean Accuracy 84.20\n",
      "Test_loss: tensor(0.7042, device='cuda:2')\n"
     ]
    },
    {
     "data": {
      "application/vnd.jupyter.widget-view+json": {
       "model_id": "5ca6e738c93844d7a8d3f8063fb354e2",
       "version_major": 2,
       "version_minor": 0
      },
      "text/plain": [
       "  0%|          | 0/334 [00:00<?, ?it/s]"
      ]
     },
     "metadata": {},
     "output_type": "display_data"
    },
    {
     "name": "stdout",
     "output_type": "stream",
     "text": [
      "Train_loss: tensor(0.2161, device='cuda:2', grad_fn=<NllLossBackward0>)\n",
      "\n",
      "Attack success rate 11.74\n",
      "Test_loss: tensor(3.1499, device='cuda:2')\n",
      "\n",
      "Test clean Accuracy 89.97\n",
      "Test_loss: tensor(0.1806, device='cuda:2')\n",
      "\n",
      "Target test clean Accuracy 89.20\n",
      "Test_loss: tensor(0.4239, device='cuda:2')\n"
     ]
    },
    {
     "data": {
      "application/vnd.jupyter.widget-view+json": {
       "model_id": "9b5e33c984614ec4a56f8c31e0c60ae2",
       "version_major": 2,
       "version_minor": 0
      },
      "text/plain": [
       "  0%|          | 0/334 [00:00<?, ?it/s]"
      ]
     },
     "metadata": {},
     "output_type": "display_data"
    },
    {
     "name": "stdout",
     "output_type": "stream",
     "text": [
      "Train_loss: tensor(0.1725, device='cuda:2', grad_fn=<NllLossBackward0>)\n",
      "\n",
      "Attack success rate 56.28\n",
      "Test_loss: tensor(1.4104, device='cuda:2')\n",
      "\n",
      "Test clean Accuracy 89.95\n",
      "Test_loss: tensor(0.2951, device='cuda:2')\n",
      "\n",
      "Target test clean Accuracy 84.70\n",
      "Test_loss: tensor(0.3816, device='cuda:2')\n"
     ]
    },
    {
     "data": {
      "application/vnd.jupyter.widget-view+json": {
       "model_id": "889a9757d5ac4225ae47f9ed3592be04",
       "version_major": 2,
       "version_minor": 0
      },
      "text/plain": [
       "  0%|          | 0/334 [00:00<?, ?it/s]"
      ]
     },
     "metadata": {},
     "output_type": "display_data"
    },
    {
     "name": "stdout",
     "output_type": "stream",
     "text": [
      "Train_loss: tensor(0.1846, device='cuda:2', grad_fn=<NllLossBackward0>)\n",
      "\n",
      "Attack success rate 59.62\n",
      "Test_loss: tensor(1.2853, device='cuda:2')\n",
      "\n",
      "Test clean Accuracy 89.41\n",
      "Test_loss: tensor(0.2602, device='cuda:2')\n",
      "\n",
      "Target test clean Accuracy 90.30\n",
      "Test_loss: tensor(0.2284, device='cuda:2')\n"
     ]
    },
    {
     "data": {
      "application/vnd.jupyter.widget-view+json": {
       "model_id": "c4e1bb1f269d45fab4d96c9a608b233b",
       "version_major": 2,
       "version_minor": 0
      },
      "text/plain": [
       "  0%|          | 0/334 [00:00<?, ?it/s]"
      ]
     },
     "metadata": {},
     "output_type": "display_data"
    },
    {
     "name": "stdout",
     "output_type": "stream",
     "text": [
      "Train_loss: tensor(0.1845, device='cuda:2', grad_fn=<NllLossBackward0>)\n",
      "\n",
      "Attack success rate 98.23\n",
      "Test_loss: tensor(0.0480, device='cuda:2')\n",
      "\n",
      "Test clean Accuracy 90.90\n",
      "Test_loss: tensor(0.1745, device='cuda:2')\n",
      "\n",
      "Target test clean Accuracy 88.90\n",
      "Test_loss: tensor(0.3919, device='cuda:2')\n"
     ]
    },
    {
     "data": {
      "application/vnd.jupyter.widget-view+json": {
       "model_id": "6c9406dde5ec493a85fbb2d5f676f3cd",
       "version_major": 2,
       "version_minor": 0
      },
      "text/plain": [
       "  0%|          | 0/334 [00:00<?, ?it/s]"
      ]
     },
     "metadata": {},
     "output_type": "display_data"
    },
    {
     "name": "stdout",
     "output_type": "stream",
     "text": [
      "Train_loss: tensor(0.0955, device='cuda:2', grad_fn=<NllLossBackward0>)\n",
      "\n",
      "Attack success rate 96.27\n",
      "Test_loss: tensor(0.2038, device='cuda:2')\n",
      "\n",
      "Test clean Accuracy 90.29\n",
      "Test_loss: tensor(0.3108, device='cuda:2')\n",
      "\n",
      "Target test clean Accuracy 84.10\n",
      "Test_loss: tensor(0.5759, device='cuda:2')\n"
     ]
    },
    {
     "data": {
      "application/vnd.jupyter.widget-view+json": {
       "model_id": "7db228e9ccf540379a48fc70f77b839b",
       "version_major": 2,
       "version_minor": 0
      },
      "text/plain": [
       "  0%|          | 0/334 [00:00<?, ?it/s]"
      ]
     },
     "metadata": {},
     "output_type": "display_data"
    },
    {
     "name": "stdout",
     "output_type": "stream",
     "text": [
      "Train_loss: tensor(0.1492, device='cuda:2', grad_fn=<NllLossBackward0>)\n",
      "\n",
      "Attack success rate 41.21\n",
      "Test_loss: tensor(2.2129, device='cuda:2')\n",
      "\n",
      "Test clean Accuracy 91.43\n",
      "Test_loss: tensor(0.2014, device='cuda:2')\n",
      "\n",
      "Target test clean Accuracy 85.10\n",
      "Test_loss: tensor(0.5250, device='cuda:2')\n"
     ]
    },
    {
     "data": {
      "application/vnd.jupyter.widget-view+json": {
       "model_id": "f6fead9d5c624e939b0148b0f0bc7351",
       "version_major": 2,
       "version_minor": 0
      },
      "text/plain": [
       "  0%|          | 0/334 [00:00<?, ?it/s]"
      ]
     },
     "metadata": {},
     "output_type": "display_data"
    },
    {
     "name": "stdout",
     "output_type": "stream",
     "text": [
      "Train_loss: tensor(0.1196, device='cuda:2', grad_fn=<NllLossBackward0>)\n",
      "\n",
      "Attack success rate 95.18\n",
      "Test_loss: tensor(0.1017, device='cuda:2')\n",
      "\n",
      "Test clean Accuracy 91.23\n",
      "Test_loss: tensor(0.1991, device='cuda:2')\n",
      "\n",
      "Target test clean Accuracy 89.50\n",
      "Test_loss: tensor(0.3218, device='cuda:2')\n"
     ]
    },
    {
     "data": {
      "application/vnd.jupyter.widget-view+json": {
       "model_id": "f00165744a6040e1b49f28517869bd30",
       "version_major": 2,
       "version_minor": 0
      },
      "text/plain": [
       "  0%|          | 0/334 [00:00<?, ?it/s]"
      ]
     },
     "metadata": {},
     "output_type": "display_data"
    },
    {
     "name": "stdout",
     "output_type": "stream",
     "text": [
      "Train_loss: tensor(0.2055, device='cuda:2', grad_fn=<NllLossBackward0>)\n",
      "\n",
      "Attack success rate 69.59\n",
      "Test_loss: tensor(1.0112, device='cuda:2')\n",
      "\n",
      "Test clean Accuracy 91.05\n",
      "Test_loss: tensor(0.1609, device='cuda:2')\n",
      "\n",
      "Target test clean Accuracy 91.60\n",
      "Test_loss: tensor(0.1792, device='cuda:2')\n"
     ]
    },
    {
     "data": {
      "application/vnd.jupyter.widget-view+json": {
       "model_id": "2e6b0cee4a994d5e85663b5f8d7b13fb",
       "version_major": 2,
       "version_minor": 0
      },
      "text/plain": [
       "  0%|          | 0/334 [00:00<?, ?it/s]"
      ]
     },
     "metadata": {},
     "output_type": "display_data"
    },
    {
     "name": "stdout",
     "output_type": "stream",
     "text": [
      "Train_loss: tensor(0.1643, device='cuda:2', grad_fn=<NllLossBackward0>)\n",
      "\n",
      "Attack success rate 82.81\n",
      "Test_loss: tensor(0.4696, device='cuda:2')\n",
      "\n",
      "Test clean Accuracy 89.94\n",
      "Test_loss: tensor(0.3094, device='cuda:2')\n",
      "\n",
      "Target test clean Accuracy 84.80\n",
      "Test_loss: tensor(0.5713, device='cuda:2')\n"
     ]
    },
    {
     "data": {
      "application/vnd.jupyter.widget-view+json": {
       "model_id": "8f02562d86744724961e78edf7e81e44",
       "version_major": 2,
       "version_minor": 0
      },
      "text/plain": [
       "  0%|          | 0/334 [00:00<?, ?it/s]"
      ]
     },
     "metadata": {},
     "output_type": "display_data"
    },
    {
     "name": "stdout",
     "output_type": "stream",
     "text": [
      "Train_loss: tensor(0.0536, device='cuda:2', grad_fn=<NllLossBackward0>)\n",
      "\n",
      "Attack success rate 0.62\n",
      "Test_loss: tensor(5.7483, device='cuda:2')\n",
      "\n",
      "Test clean Accuracy 91.42\n",
      "Test_loss: tensor(0.2622, device='cuda:2')\n",
      "\n",
      "Target test clean Accuracy 88.40\n",
      "Test_loss: tensor(0.5425, device='cuda:2')\n"
     ]
    },
    {
     "data": {
      "application/vnd.jupyter.widget-view+json": {
       "model_id": "633ba533d1764627b56a7bb558de50ef",
       "version_major": 2,
       "version_minor": 0
      },
      "text/plain": [
       "  0%|          | 0/334 [00:00<?, ?it/s]"
      ]
     },
     "metadata": {},
     "output_type": "display_data"
    },
    {
     "name": "stdout",
     "output_type": "stream",
     "text": [
      "Train_loss: tensor(0.1242, device='cuda:2', grad_fn=<NllLossBackward0>)\n",
      "\n",
      "Attack success rate 98.34\n",
      "Test_loss: tensor(0.0571, device='cuda:2')\n",
      "\n",
      "Test clean Accuracy 89.73\n",
      "Test_loss: tensor(0.2190, device='cuda:2')\n",
      "\n",
      "Target test clean Accuracy 84.60\n",
      "Test_loss: tensor(0.6223, device='cuda:2')\n"
     ]
    },
    {
     "data": {
      "application/vnd.jupyter.widget-view+json": {
       "model_id": "b36beafb79534db2a3af0850bea8df53",
       "version_major": 2,
       "version_minor": 0
      },
      "text/plain": [
       "  0%|          | 0/334 [00:00<?, ?it/s]"
      ]
     },
     "metadata": {},
     "output_type": "display_data"
    },
    {
     "name": "stdout",
     "output_type": "stream",
     "text": [
      "Train_loss: tensor(0.0520, device='cuda:2', grad_fn=<NllLossBackward0>)\n",
      "\n",
      "Attack success rate 6.20\n",
      "Test_loss: tensor(3.5279, device='cuda:2')\n",
      "\n",
      "Test clean Accuracy 89.32\n",
      "Test_loss: tensor(0.2514, device='cuda:2')\n",
      "\n",
      "Target test clean Accuracy 83.30\n",
      "Test_loss: tensor(0.6734, device='cuda:2')\n"
     ]
    },
    {
     "data": {
      "application/vnd.jupyter.widget-view+json": {
       "model_id": "4a0c0ff41b2940419a6fa8fa1d992a4e",
       "version_major": 2,
       "version_minor": 0
      },
      "text/plain": [
       "  0%|          | 0/334 [00:00<?, ?it/s]"
      ]
     },
     "metadata": {},
     "output_type": "display_data"
    },
    {
     "name": "stdout",
     "output_type": "stream",
     "text": [
      "Train_loss: tensor(0.0951, device='cuda:2', grad_fn=<NllLossBackward0>)\n",
      "\n",
      "Attack success rate 59.99\n",
      "Test_loss: tensor(1.3110, device='cuda:2')\n",
      "\n",
      "Test clean Accuracy 89.80\n",
      "Test_loss: tensor(0.3086, device='cuda:2')\n",
      "\n",
      "Target test clean Accuracy 93.20\n",
      "Test_loss: tensor(0.1606, device='cuda:2')\n"
     ]
    },
    {
     "data": {
      "application/vnd.jupyter.widget-view+json": {
       "model_id": "d5439ca0ae2c42a69d702a5ecc9ac89b",
       "version_major": 2,
       "version_minor": 0
      },
      "text/plain": [
       "  0%|          | 0/334 [00:00<?, ?it/s]"
      ]
     },
     "metadata": {},
     "output_type": "display_data"
    },
    {
     "name": "stdout",
     "output_type": "stream",
     "text": [
      "Train_loss: tensor(0.1096, device='cuda:2', grad_fn=<NllLossBackward0>)\n",
      "\n",
      "Attack success rate 90.58\n",
      "Test_loss: tensor(0.2516, device='cuda:2')\n",
      "\n",
      "Test clean Accuracy 91.02\n",
      "Test_loss: tensor(0.1375, device='cuda:2')\n",
      "\n",
      "Target test clean Accuracy 92.00\n",
      "Test_loss: tensor(0.3144, device='cuda:2')\n"
     ]
    },
    {
     "data": {
      "application/vnd.jupyter.widget-view+json": {
       "model_id": "ff29d787e5a14c8297bae729887cb2d5",
       "version_major": 2,
       "version_minor": 0
      },
      "text/plain": [
       "  0%|          | 0/334 [00:00<?, ?it/s]"
      ]
     },
     "metadata": {},
     "output_type": "display_data"
    },
    {
     "name": "stdout",
     "output_type": "stream",
     "text": [
      "Train_loss: tensor(0.1175, device='cuda:2', grad_fn=<NllLossBackward0>)\n",
      "\n",
      "Attack success rate 87.04\n",
      "Test_loss: tensor(0.3684, device='cuda:2')\n",
      "\n",
      "Test clean Accuracy 90.70\n",
      "Test_loss: tensor(0.2471, device='cuda:2')\n",
      "\n",
      "Target test clean Accuracy 87.10\n",
      "Test_loss: tensor(0.6837, device='cuda:2')\n"
     ]
    },
    {
     "data": {
      "application/vnd.jupyter.widget-view+json": {
       "model_id": "c87750f250b64596ac9806c03c1bf629",
       "version_major": 2,
       "version_minor": 0
      },
      "text/plain": [
       "  0%|          | 0/334 [00:00<?, ?it/s]"
      ]
     },
     "metadata": {},
     "output_type": "display_data"
    },
    {
     "name": "stdout",
     "output_type": "stream",
     "text": [
      "Train_loss: tensor(0.0554, device='cuda:2', grad_fn=<NllLossBackward0>)\n",
      "\n",
      "Attack success rate 53.60\n",
      "Test_loss: tensor(1.5904, device='cuda:2')\n",
      "\n",
      "Test clean Accuracy 91.25\n",
      "Test_loss: tensor(0.2004, device='cuda:2')\n",
      "\n",
      "Target test clean Accuracy 89.10\n",
      "Test_loss: tensor(0.3292, device='cuda:2')\n"
     ]
    },
    {
     "data": {
      "application/vnd.jupyter.widget-view+json": {
       "model_id": "7cfab6c6c4fb4ed5a071c380a9b756b9",
       "version_major": 2,
       "version_minor": 0
      },
      "text/plain": [
       "  0%|          | 0/334 [00:00<?, ?it/s]"
      ]
     },
     "metadata": {},
     "output_type": "display_data"
    },
    {
     "name": "stdout",
     "output_type": "stream",
     "text": [
      "Train_loss: tensor(0.1762, device='cuda:2', grad_fn=<NllLossBackward0>)\n",
      "\n",
      "Attack success rate 74.41\n",
      "Test_loss: tensor(0.8512, device='cuda:2')\n",
      "\n",
      "Test clean Accuracy 90.67\n",
      "Test_loss: tensor(0.1744, device='cuda:2')\n",
      "\n",
      "Target test clean Accuracy 87.20\n",
      "Test_loss: tensor(0.2198, device='cuda:2')\n"
     ]
    },
    {
     "data": {
      "application/vnd.jupyter.widget-view+json": {
       "model_id": "ec01c89814df40f4a31944c1648c657b",
       "version_major": 2,
       "version_minor": 0
      },
      "text/plain": [
       "  0%|          | 0/334 [00:00<?, ?it/s]"
      ]
     },
     "metadata": {},
     "output_type": "display_data"
    },
    {
     "name": "stdout",
     "output_type": "stream",
     "text": [
      "Train_loss: tensor(0.1899, device='cuda:2', grad_fn=<NllLossBackward0>)\n",
      "\n",
      "Attack success rate 67.50\n",
      "Test_loss: tensor(1.1285, device='cuda:2')\n",
      "\n",
      "Test clean Accuracy 90.50\n",
      "Test_loss: tensor(0.1117, device='cuda:2')\n",
      "\n",
      "Target test clean Accuracy 90.80\n",
      "Test_loss: tensor(0.2103, device='cuda:2')\n"
     ]
    },
    {
     "data": {
      "application/vnd.jupyter.widget-view+json": {
       "model_id": "d8f6559e5d4e4b83900f4c07756a7331",
       "version_major": 2,
       "version_minor": 0
      },
      "text/plain": [
       "  0%|          | 0/334 [00:00<?, ?it/s]"
      ]
     },
     "metadata": {},
     "output_type": "display_data"
    },
    {
     "name": "stdout",
     "output_type": "stream",
     "text": [
      "Train_loss: tensor(0.1544, device='cuda:2', grad_fn=<NllLossBackward0>)\n",
      "\n",
      "Attack success rate 18.88\n",
      "Test_loss: tensor(3.4163, device='cuda:2')\n",
      "\n",
      "Test clean Accuracy 90.60\n",
      "Test_loss: tensor(0.2420, device='cuda:2')\n",
      "\n",
      "Target test clean Accuracy 87.30\n",
      "Test_loss: tensor(0.5590, device='cuda:2')\n"
     ]
    },
    {
     "data": {
      "application/vnd.jupyter.widget-view+json": {
       "model_id": "de2fd903a54c4c59afd79d4dca89a3da",
       "version_major": 2,
       "version_minor": 0
      },
      "text/plain": [
       "  0%|          | 0/334 [00:00<?, ?it/s]"
      ]
     },
     "metadata": {},
     "output_type": "display_data"
    },
    {
     "name": "stdout",
     "output_type": "stream",
     "text": [
      "Train_loss: tensor(0.2087, device='cuda:2', grad_fn=<NllLossBackward0>)\n",
      "\n",
      "Attack success rate 61.92\n",
      "Test_loss: tensor(1.3259, device='cuda:2')\n",
      "\n",
      "Test clean Accuracy 90.50\n",
      "Test_loss: tensor(0.2571, device='cuda:2')\n",
      "\n",
      "Target test clean Accuracy 83.50\n",
      "Test_loss: tensor(0.5849, device='cuda:2')\n"
     ]
    },
    {
     "data": {
      "application/vnd.jupyter.widget-view+json": {
       "model_id": "532d574ea0b842309bfd7e346a5699d6",
       "version_major": 2,
       "version_minor": 0
      },
      "text/plain": [
       "  0%|          | 0/334 [00:00<?, ?it/s]"
      ]
     },
     "metadata": {},
     "output_type": "display_data"
    },
    {
     "name": "stdout",
     "output_type": "stream",
     "text": [
      "Train_loss: tensor(0.0276, device='cuda:2', grad_fn=<NllLossBackward0>)\n",
      "\n",
      "Attack success rate 56.73\n",
      "Test_loss: tensor(1.7648, device='cuda:2')\n",
      "\n",
      "Test clean Accuracy 90.81\n",
      "Test_loss: tensor(0.2758, device='cuda:2')\n",
      "\n",
      "Target test clean Accuracy 94.10\n",
      "Test_loss: tensor(0.1722, device='cuda:2')\n"
     ]
    },
    {
     "data": {
      "application/vnd.jupyter.widget-view+json": {
       "model_id": "4715d2fe78304f658a9ec48c5fafd52b",
       "version_major": 2,
       "version_minor": 0
      },
      "text/plain": [
       "  0%|          | 0/334 [00:00<?, ?it/s]"
      ]
     },
     "metadata": {},
     "output_type": "display_data"
    },
    {
     "name": "stdout",
     "output_type": "stream",
     "text": [
      "Train_loss: tensor(0.1295, device='cuda:2', grad_fn=<NllLossBackward0>)\n",
      "\n",
      "Attack success rate 77.69\n",
      "Test_loss: tensor(0.8765, device='cuda:2')\n",
      "\n",
      "Test clean Accuracy 89.96\n",
      "Test_loss: tensor(0.1948, device='cuda:2')\n",
      "\n",
      "Target test clean Accuracy 94.90\n",
      "Test_loss: tensor(0.2053, device='cuda:2')\n"
     ]
    },
    {
     "data": {
      "application/vnd.jupyter.widget-view+json": {
       "model_id": "12719080030c4cdcaac63ce5afadae6d",
       "version_major": 2,
       "version_minor": 0
      },
      "text/plain": [
       "  0%|          | 0/334 [00:00<?, ?it/s]"
      ]
     },
     "metadata": {},
     "output_type": "display_data"
    },
    {
     "name": "stdout",
     "output_type": "stream",
     "text": [
      "Train_loss: tensor(0.1179, device='cuda:2', grad_fn=<NllLossBackward0>)\n",
      "\n",
      "Attack success rate 1.08\n",
      "Test_loss: tensor(5.8622, device='cuda:2')\n",
      "\n",
      "Test clean Accuracy 91.45\n",
      "Test_loss: tensor(0.2398, device='cuda:2')\n",
      "\n",
      "Target test clean Accuracy 83.40\n",
      "Test_loss: tensor(0.4239, device='cuda:2')\n"
     ]
    },
    {
     "data": {
      "application/vnd.jupyter.widget-view+json": {
       "model_id": "672fdf9e7a724c3dad368c447523b24c",
       "version_major": 2,
       "version_minor": 0
      },
      "text/plain": [
       "  0%|          | 0/334 [00:00<?, ?it/s]"
      ]
     },
     "metadata": {},
     "output_type": "display_data"
    },
    {
     "name": "stdout",
     "output_type": "stream",
     "text": [
      "Train_loss: tensor(0.0166, device='cuda:2', grad_fn=<NllLossBackward0>)\n",
      "\n",
      "Attack success rate 0.28\n",
      "Test_loss: tensor(5.6569, device='cuda:2')\n",
      "\n",
      "Test clean Accuracy 92.32\n",
      "Test_loss: tensor(0.1224, device='cuda:2')\n",
      "\n",
      "Target test clean Accuracy 86.80\n",
      "Test_loss: tensor(0.3073, device='cuda:2')\n"
     ]
    },
    {
     "data": {
      "application/vnd.jupyter.widget-view+json": {
       "model_id": "c5ab9ffce92f4614b07d65bf40c7c44a",
       "version_major": 2,
       "version_minor": 0
      },
      "text/plain": [
       "  0%|          | 0/334 [00:00<?, ?it/s]"
      ]
     },
     "metadata": {},
     "output_type": "display_data"
    },
    {
     "name": "stdout",
     "output_type": "stream",
     "text": [
      "Train_loss: tensor(0.0682, device='cuda:2', grad_fn=<NllLossBackward0>)\n",
      "\n",
      "Attack success rate 49.04\n",
      "Test_loss: tensor(1.8081, device='cuda:2')\n",
      "\n",
      "Test clean Accuracy 91.52\n",
      "Test_loss: tensor(0.1339, device='cuda:2')\n",
      "\n",
      "Target test clean Accuracy 93.90\n",
      "Test_loss: tensor(0.1637, device='cuda:2')\n"
     ]
    },
    {
     "data": {
      "application/vnd.jupyter.widget-view+json": {
       "model_id": "ce2df50403674d2fb47c0b7d6f205ef6",
       "version_major": 2,
       "version_minor": 0
      },
      "text/plain": [
       "  0%|          | 0/334 [00:00<?, ?it/s]"
      ]
     },
     "metadata": {},
     "output_type": "display_data"
    },
    {
     "name": "stdout",
     "output_type": "stream",
     "text": [
      "Train_loss: tensor(0.1175, device='cuda:2', grad_fn=<NllLossBackward0>)\n",
      "\n",
      "Attack success rate 95.40\n",
      "Test_loss: tensor(0.2920, device='cuda:2')\n",
      "\n",
      "Test clean Accuracy 91.44\n",
      "Test_loss: tensor(0.2487, device='cuda:2')\n",
      "\n",
      "Target test clean Accuracy 89.70\n",
      "Test_loss: tensor(0.3371, device='cuda:2')\n"
     ]
    },
    {
     "data": {
      "application/vnd.jupyter.widget-view+json": {
       "model_id": "ab9aaf64a21c44d39aceecf8658bd415",
       "version_major": 2,
       "version_minor": 0
      },
      "text/plain": [
       "  0%|          | 0/334 [00:00<?, ?it/s]"
      ]
     },
     "metadata": {},
     "output_type": "display_data"
    },
    {
     "name": "stdout",
     "output_type": "stream",
     "text": [
      "Train_loss: tensor(0.0721, device='cuda:2', grad_fn=<NllLossBackward0>)\n",
      "\n",
      "Attack success rate 71.59\n",
      "Test_loss: tensor(0.8701, device='cuda:2')\n",
      "\n",
      "Test clean Accuracy 91.06\n",
      "Test_loss: tensor(0.2078, device='cuda:2')\n",
      "\n",
      "Target test clean Accuracy 93.80\n",
      "Test_loss: tensor(0.3520, device='cuda:2')\n"
     ]
    },
    {
     "data": {
      "application/vnd.jupyter.widget-view+json": {
       "model_id": "66b309c6a2d14ecca6bed7420af4382b",
       "version_major": 2,
       "version_minor": 0
      },
      "text/plain": [
       "  0%|          | 0/334 [00:00<?, ?it/s]"
      ]
     },
     "metadata": {},
     "output_type": "display_data"
    },
    {
     "name": "stdout",
     "output_type": "stream",
     "text": [
      "Train_loss: tensor(0.1360, device='cuda:2', grad_fn=<NllLossBackward0>)\n",
      "\n",
      "Attack success rate 99.04\n",
      "Test_loss: tensor(0.0419, device='cuda:2')\n",
      "\n",
      "Test clean Accuracy 92.30\n",
      "Test_loss: tensor(0.1457, device='cuda:2')\n",
      "\n",
      "Target test clean Accuracy 91.60\n",
      "Test_loss: tensor(0.4307, device='cuda:2')\n"
     ]
    },
    {
     "data": {
      "application/vnd.jupyter.widget-view+json": {
       "model_id": "da891c5237644ec8a660b36034d88ebd",
       "version_major": 2,
       "version_minor": 0
      },
      "text/plain": [
       "  0%|          | 0/334 [00:00<?, ?it/s]"
      ]
     },
     "metadata": {},
     "output_type": "display_data"
    },
    {
     "name": "stdout",
     "output_type": "stream",
     "text": [
      "Train_loss: tensor(0.0362, device='cuda:2', grad_fn=<NllLossBackward0>)\n",
      "\n",
      "Attack success rate 76.32\n",
      "Test_loss: tensor(0.7416, device='cuda:2')\n",
      "\n",
      "Test clean Accuracy 92.48\n",
      "Test_loss: tensor(0.1431, device='cuda:2')\n",
      "\n",
      "Target test clean Accuracy 86.30\n",
      "Test_loss: tensor(0.4911, device='cuda:2')\n"
     ]
    },
    {
     "data": {
      "application/vnd.jupyter.widget-view+json": {
       "model_id": "e8cb31f01fe04a1d96984fd9d5ab74c0",
       "version_major": 2,
       "version_minor": 0
      },
      "text/plain": [
       "  0%|          | 0/334 [00:00<?, ?it/s]"
      ]
     },
     "metadata": {},
     "output_type": "display_data"
    },
    {
     "name": "stdout",
     "output_type": "stream",
     "text": [
      "Train_loss: tensor(0.0487, device='cuda:2', grad_fn=<NllLossBackward0>)\n",
      "\n",
      "Attack success rate 17.32\n",
      "Test_loss: tensor(3.3660, device='cuda:2')\n",
      "\n",
      "Test clean Accuracy 92.40\n",
      "Test_loss: tensor(0.2089, device='cuda:2')\n",
      "\n",
      "Target test clean Accuracy 94.50\n",
      "Test_loss: tensor(0.2742, device='cuda:2')\n"
     ]
    },
    {
     "data": {
      "application/vnd.jupyter.widget-view+json": {
       "model_id": "3dfd8b981a0b40189cc6aad498fe36a0",
       "version_major": 2,
       "version_minor": 0
      },
      "text/plain": [
       "  0%|          | 0/334 [00:00<?, ?it/s]"
      ]
     },
     "metadata": {},
     "output_type": "display_data"
    },
    {
     "name": "stdout",
     "output_type": "stream",
     "text": [
      "Train_loss: tensor(0.0916, device='cuda:2', grad_fn=<NllLossBackward0>)\n",
      "\n",
      "Attack success rate 94.79\n",
      "Test_loss: tensor(0.1812, device='cuda:2')\n",
      "\n",
      "Test clean Accuracy 92.33\n",
      "Test_loss: tensor(0.1976, device='cuda:2')\n",
      "\n",
      "Target test clean Accuracy 86.90\n",
      "Test_loss: tensor(0.6730, device='cuda:2')\n"
     ]
    },
    {
     "data": {
      "application/vnd.jupyter.widget-view+json": {
       "model_id": "29465e6d1e04459583b7dfc52f3e8e07",
       "version_major": 2,
       "version_minor": 0
      },
      "text/plain": [
       "  0%|          | 0/334 [00:00<?, ?it/s]"
      ]
     },
     "metadata": {},
     "output_type": "display_data"
    },
    {
     "name": "stdout",
     "output_type": "stream",
     "text": [
      "Train_loss: tensor(0.0255, device='cuda:2', grad_fn=<NllLossBackward0>)\n",
      "\n",
      "Attack success rate 86.01\n",
      "Test_loss: tensor(0.3129, device='cuda:2')\n",
      "\n",
      "Test clean Accuracy 92.67\n",
      "Test_loss: tensor(0.1625, device='cuda:2')\n",
      "\n",
      "Target test clean Accuracy 92.30\n",
      "Test_loss: tensor(0.5317, device='cuda:2')\n"
     ]
    },
    {
     "data": {
      "application/vnd.jupyter.widget-view+json": {
       "model_id": "868b9e7f9137445c81cec30580cc95ba",
       "version_major": 2,
       "version_minor": 0
      },
      "text/plain": [
       "  0%|          | 0/334 [00:00<?, ?it/s]"
      ]
     },
     "metadata": {},
     "output_type": "display_data"
    },
    {
     "name": "stdout",
     "output_type": "stream",
     "text": [
      "Train_loss: tensor(0.0090, device='cuda:2', grad_fn=<NllLossBackward0>)\n",
      "\n",
      "Attack success rate 45.00\n",
      "Test_loss: tensor(2.3862, device='cuda:2')\n",
      "\n",
      "Test clean Accuracy 92.50\n",
      "Test_loss: tensor(0.1204, device='cuda:2')\n",
      "\n",
      "Target test clean Accuracy 92.10\n",
      "Test_loss: tensor(0.1221, device='cuda:2')\n"
     ]
    },
    {
     "data": {
      "application/vnd.jupyter.widget-view+json": {
       "model_id": "ec4b8d4f4bf64c5c861ef20afafa3564",
       "version_major": 2,
       "version_minor": 0
      },
      "text/plain": [
       "  0%|          | 0/334 [00:00<?, ?it/s]"
      ]
     },
     "metadata": {},
     "output_type": "display_data"
    },
    {
     "name": "stdout",
     "output_type": "stream",
     "text": [
      "Train_loss: tensor(0.0612, device='cuda:2', grad_fn=<NllLossBackward0>)\n",
      "\n",
      "Attack success rate 95.79\n",
      "Test_loss: tensor(0.0856, device='cuda:2')\n",
      "\n",
      "Test clean Accuracy 91.52\n",
      "Test_loss: tensor(0.2539, device='cuda:2')\n",
      "\n",
      "Target test clean Accuracy 93.90\n",
      "Test_loss: tensor(0.3229, device='cuda:2')\n"
     ]
    },
    {
     "data": {
      "application/vnd.jupyter.widget-view+json": {
       "model_id": "e470a1b7e1b34f609d0b5f562438490e",
       "version_major": 2,
       "version_minor": 0
      },
      "text/plain": [
       "  0%|          | 0/334 [00:00<?, ?it/s]"
      ]
     },
     "metadata": {},
     "output_type": "display_data"
    },
    {
     "name": "stdout",
     "output_type": "stream",
     "text": [
      "Train_loss: tensor(0.0067, device='cuda:2', grad_fn=<NllLossBackward0>)\n",
      "\n",
      "Attack success rate 89.32\n",
      "Test_loss: tensor(0.3044, device='cuda:2')\n",
      "\n",
      "Test clean Accuracy 92.20\n",
      "Test_loss: tensor(0.1298, device='cuda:2')\n",
      "\n",
      "Target test clean Accuracy 87.80\n",
      "Test_loss: tensor(0.6127, device='cuda:2')\n"
     ]
    },
    {
     "data": {
      "application/vnd.jupyter.widget-view+json": {
       "model_id": "a2cfe49d80ba4d48856650bbb0974879",
       "version_major": 2,
       "version_minor": 0
      },
      "text/plain": [
       "  0%|          | 0/334 [00:00<?, ?it/s]"
      ]
     },
     "metadata": {},
     "output_type": "display_data"
    },
    {
     "name": "stdout",
     "output_type": "stream",
     "text": [
      "Train_loss: tensor(0.0323, device='cuda:2', grad_fn=<NllLossBackward0>)\n",
      "\n",
      "Attack success rate 88.92\n",
      "Test_loss: tensor(0.4440, device='cuda:2')\n",
      "\n",
      "Test clean Accuracy 92.01\n",
      "Test_loss: tensor(0.1805, device='cuda:2')\n",
      "\n",
      "Target test clean Accuracy 87.60\n",
      "Test_loss: tensor(0.6852, device='cuda:2')\n"
     ]
    },
    {
     "data": {
      "application/vnd.jupyter.widget-view+json": {
       "model_id": "e82c3a6fef20442bad8d793c11639c70",
       "version_major": 2,
       "version_minor": 0
      },
      "text/plain": [
       "  0%|          | 0/334 [00:00<?, ?it/s]"
      ]
     },
     "metadata": {},
     "output_type": "display_data"
    },
    {
     "name": "stdout",
     "output_type": "stream",
     "text": [
      "Train_loss: tensor(0.0899, device='cuda:2', grad_fn=<NllLossBackward0>)\n",
      "\n",
      "Attack success rate 69.79\n",
      "Test_loss: tensor(1.4046, device='cuda:2')\n",
      "\n",
      "Test clean Accuracy 92.07\n",
      "Test_loss: tensor(0.1967, device='cuda:2')\n",
      "\n",
      "Target test clean Accuracy 87.60\n",
      "Test_loss: tensor(0.6486, device='cuda:2')\n"
     ]
    },
    {
     "data": {
      "application/vnd.jupyter.widget-view+json": {
       "model_id": "2aa73fc5f82146c8b169675e1f018546",
       "version_major": 2,
       "version_minor": 0
      },
      "text/plain": [
       "  0%|          | 0/334 [00:00<?, ?it/s]"
      ]
     },
     "metadata": {},
     "output_type": "display_data"
    },
    {
     "name": "stdout",
     "output_type": "stream",
     "text": [
      "Train_loss: tensor(0.0029, device='cuda:2', grad_fn=<NllLossBackward0>)\n",
      "\n",
      "Attack success rate 93.38\n",
      "Test_loss: tensor(0.2826, device='cuda:2')\n",
      "\n",
      "Test clean Accuracy 93.03\n",
      "Test_loss: tensor(0.2378, device='cuda:2')\n",
      "\n",
      "Target test clean Accuracy 89.20\n",
      "Test_loss: tensor(0.1967, device='cuda:2')\n"
     ]
    },
    {
     "data": {
      "application/vnd.jupyter.widget-view+json": {
       "model_id": "91b2cab91ee64e869f957aace8b106b6",
       "version_major": 2,
       "version_minor": 0
      },
      "text/plain": [
       "  0%|          | 0/334 [00:00<?, ?it/s]"
      ]
     },
     "metadata": {},
     "output_type": "display_data"
    },
    {
     "name": "stdout",
     "output_type": "stream",
     "text": [
      "Train_loss: tensor(0.1676, device='cuda:2', grad_fn=<NllLossBackward0>)\n",
      "\n",
      "Attack success rate 93.10\n",
      "Test_loss: tensor(0.2761, device='cuda:2')\n",
      "\n",
      "Test clean Accuracy 92.72\n",
      "Test_loss: tensor(0.1425, device='cuda:2')\n",
      "\n",
      "Target test clean Accuracy 92.10\n",
      "Test_loss: tensor(0.3425, device='cuda:2')\n"
     ]
    },
    {
     "data": {
      "application/vnd.jupyter.widget-view+json": {
       "model_id": "f899ec89079641a09e82638607182886",
       "version_major": 2,
       "version_minor": 0
      },
      "text/plain": [
       "  0%|          | 0/334 [00:00<?, ?it/s]"
      ]
     },
     "metadata": {},
     "output_type": "display_data"
    },
    {
     "name": "stdout",
     "output_type": "stream",
     "text": [
      "Train_loss: tensor(0.0953, device='cuda:2', grad_fn=<NllLossBackward0>)\n",
      "\n",
      "Attack success rate 99.42\n",
      "Test_loss: tensor(0.0438, device='cuda:2')\n",
      "\n",
      "Test clean Accuracy 92.55\n",
      "Test_loss: tensor(0.2261, device='cuda:2')\n",
      "\n",
      "Target test clean Accuracy 91.70\n",
      "Test_loss: tensor(0.4453, device='cuda:2')\n"
     ]
    },
    {
     "data": {
      "application/vnd.jupyter.widget-view+json": {
       "model_id": "d465427ff758476e93a31a179cee189c",
       "version_major": 2,
       "version_minor": 0
      },
      "text/plain": [
       "  0%|          | 0/334 [00:00<?, ?it/s]"
      ]
     },
     "metadata": {},
     "output_type": "display_data"
    },
    {
     "name": "stdout",
     "output_type": "stream",
     "text": [
      "Train_loss: tensor(0.0155, device='cuda:2', grad_fn=<NllLossBackward0>)\n",
      "\n",
      "Attack success rate 46.48\n",
      "Test_loss: tensor(1.8632, device='cuda:2')\n",
      "\n",
      "Test clean Accuracy 93.03\n",
      "Test_loss: tensor(0.1825, device='cuda:2')\n",
      "\n",
      "Target test clean Accuracy 89.30\n",
      "Test_loss: tensor(0.4679, device='cuda:2')\n"
     ]
    },
    {
     "data": {
      "application/vnd.jupyter.widget-view+json": {
       "model_id": "6cc47c9c88f942fba8dbbb064ccaadda",
       "version_major": 2,
       "version_minor": 0
      },
      "text/plain": [
       "  0%|          | 0/334 [00:00<?, ?it/s]"
      ]
     },
     "metadata": {},
     "output_type": "display_data"
    },
    {
     "name": "stdout",
     "output_type": "stream",
     "text": [
      "Train_loss: tensor(0.0279, device='cuda:2', grad_fn=<NllLossBackward0>)\n",
      "\n",
      "Attack success rate 54.99\n",
      "Test_loss: tensor(1.2413, device='cuda:2')\n",
      "\n",
      "Test clean Accuracy 92.89\n",
      "Test_loss: tensor(0.1333, device='cuda:2')\n",
      "\n",
      "Target test clean Accuracy 90.10\n",
      "Test_loss: tensor(0.4027, device='cuda:2')\n"
     ]
    },
    {
     "data": {
      "application/vnd.jupyter.widget-view+json": {
       "model_id": "ee27da38d9c24568843d42a2f796ef71",
       "version_major": 2,
       "version_minor": 0
      },
      "text/plain": [
       "  0%|          | 0/334 [00:00<?, ?it/s]"
      ]
     },
     "metadata": {},
     "output_type": "display_data"
    },
    {
     "name": "stdout",
     "output_type": "stream",
     "text": [
      "Train_loss: tensor(0.0114, device='cuda:2', grad_fn=<NllLossBackward0>)\n",
      "\n",
      "Attack success rate 30.46\n",
      "Test_loss: tensor(2.0644, device='cuda:2')\n",
      "\n",
      "Test clean Accuracy 93.13\n",
      "Test_loss: tensor(0.1610, device='cuda:2')\n",
      "\n",
      "Target test clean Accuracy 92.20\n",
      "Test_loss: tensor(0.1828, device='cuda:2')\n"
     ]
    },
    {
     "data": {
      "application/vnd.jupyter.widget-view+json": {
       "model_id": "b7c47bc9e2fc471591e77b79976bc634",
       "version_major": 2,
       "version_minor": 0
      },
      "text/plain": [
       "  0%|          | 0/334 [00:00<?, ?it/s]"
      ]
     },
     "metadata": {},
     "output_type": "display_data"
    },
    {
     "name": "stdout",
     "output_type": "stream",
     "text": [
      "Train_loss: tensor(0.0044, device='cuda:2', grad_fn=<NllLossBackward0>)\n",
      "\n",
      "Attack success rate 89.77\n",
      "Test_loss: tensor(0.3730, device='cuda:2')\n",
      "\n",
      "Test clean Accuracy 93.50\n",
      "Test_loss: tensor(0.1851, device='cuda:2')\n",
      "\n",
      "Target test clean Accuracy 88.30\n",
      "Test_loss: tensor(0.5099, device='cuda:2')\n"
     ]
    },
    {
     "data": {
      "application/vnd.jupyter.widget-view+json": {
       "model_id": "4bcbf64266cc477eb3299fa2d984459f",
       "version_major": 2,
       "version_minor": 0
      },
      "text/plain": [
       "  0%|          | 0/334 [00:00<?, ?it/s]"
      ]
     },
     "metadata": {},
     "output_type": "display_data"
    },
    {
     "name": "stdout",
     "output_type": "stream",
     "text": [
      "Train_loss: tensor(0.0076, device='cuda:2', grad_fn=<NllLossBackward0>)\n",
      "\n",
      "Attack success rate 12.97\n",
      "Test_loss: tensor(3.9348, device='cuda:2')\n",
      "\n",
      "Test clean Accuracy 93.46\n",
      "Test_loss: tensor(0.1124, device='cuda:2')\n",
      "\n",
      "Target test clean Accuracy 88.50\n",
      "Test_loss: tensor(0.4166, device='cuda:2')\n"
     ]
    },
    {
     "data": {
      "application/vnd.jupyter.widget-view+json": {
       "model_id": "f16e0d0db7b94aca9f9bf5bb274b219c",
       "version_major": 2,
       "version_minor": 0
      },
      "text/plain": [
       "  0%|          | 0/334 [00:00<?, ?it/s]"
      ]
     },
     "metadata": {},
     "output_type": "display_data"
    },
    {
     "name": "stdout",
     "output_type": "stream",
     "text": [
      "Train_loss: tensor(0.0442, device='cuda:2', grad_fn=<NllLossBackward0>)\n",
      "\n",
      "Attack success rate 96.31\n",
      "Test_loss: tensor(0.1334, device='cuda:2')\n",
      "\n",
      "Test clean Accuracy 93.55\n",
      "Test_loss: tensor(0.1558, device='cuda:2')\n",
      "\n",
      "Target test clean Accuracy 88.50\n",
      "Test_loss: tensor(0.3994, device='cuda:2')\n"
     ]
    },
    {
     "data": {
      "application/vnd.jupyter.widget-view+json": {
       "model_id": "08092b8e92ce43f4b8e717716fbac4dd",
       "version_major": 2,
       "version_minor": 0
      },
      "text/plain": [
       "  0%|          | 0/334 [00:00<?, ?it/s]"
      ]
     },
     "metadata": {},
     "output_type": "display_data"
    },
    {
     "name": "stdout",
     "output_type": "stream",
     "text": [
      "Train_loss: tensor(0.0638, device='cuda:2', grad_fn=<NllLossBackward0>)\n",
      "\n",
      "Attack success rate 98.78\n",
      "Test_loss: tensor(0.0090, device='cuda:2')\n",
      "\n",
      "Test clean Accuracy 93.49\n",
      "Test_loss: tensor(0.1579, device='cuda:2')\n",
      "\n",
      "Target test clean Accuracy 86.90\n",
      "Test_loss: tensor(0.5205, device='cuda:2')\n"
     ]
    },
    {
     "data": {
      "application/vnd.jupyter.widget-view+json": {
       "model_id": "7a24252b35c14979a4d2acb937e9ba96",
       "version_major": 2,
       "version_minor": 0
      },
      "text/plain": [
       "  0%|          | 0/334 [00:00<?, ?it/s]"
      ]
     },
     "metadata": {},
     "output_type": "display_data"
    },
    {
     "name": "stdout",
     "output_type": "stream",
     "text": [
      "Train_loss: tensor(0.0193, device='cuda:2', grad_fn=<NllLossBackward0>)\n",
      "\n",
      "Attack success rate 98.91\n",
      "Test_loss: tensor(0.0472, device='cuda:2')\n",
      "\n",
      "Test clean Accuracy 93.83\n",
      "Test_loss: tensor(0.1343, device='cuda:2')\n",
      "\n",
      "Target test clean Accuracy 90.40\n",
      "Test_loss: tensor(0.3565, device='cuda:2')\n"
     ]
    },
    {
     "data": {
      "application/vnd.jupyter.widget-view+json": {
       "model_id": "2400a13f539a429c88df753d6dac6cf5",
       "version_major": 2,
       "version_minor": 0
      },
      "text/plain": [
       "  0%|          | 0/334 [00:00<?, ?it/s]"
      ]
     },
     "metadata": {},
     "output_type": "display_data"
    },
    {
     "name": "stdout",
     "output_type": "stream",
     "text": [
      "Train_loss: tensor(0.0022, device='cuda:2', grad_fn=<NllLossBackward0>)\n",
      "\n",
      "Attack success rate 99.76\n",
      "Test_loss: tensor(0.0072, device='cuda:2')\n",
      "\n",
      "Test clean Accuracy 93.92\n",
      "Test_loss: tensor(0.1763, device='cuda:2')\n",
      "\n",
      "Target test clean Accuracy 90.30\n",
      "Test_loss: tensor(0.3624, device='cuda:2')\n"
     ]
    },
    {
     "data": {
      "application/vnd.jupyter.widget-view+json": {
       "model_id": "0e7799b7c2034014924ff39d9c2c6b31",
       "version_major": 2,
       "version_minor": 0
      },
      "text/plain": [
       "  0%|          | 0/334 [00:00<?, ?it/s]"
      ]
     },
     "metadata": {},
     "output_type": "display_data"
    },
    {
     "name": "stdout",
     "output_type": "stream",
     "text": [
      "Train_loss: tensor(0.0122, device='cuda:2', grad_fn=<NllLossBackward0>)\n",
      "\n",
      "Attack success rate 82.47\n",
      "Test_loss: tensor(0.6812, device='cuda:2')\n",
      "\n",
      "Test clean Accuracy 93.65\n",
      "Test_loss: tensor(0.1758, device='cuda:2')\n",
      "\n",
      "Target test clean Accuracy 92.60\n",
      "Test_loss: tensor(0.1793, device='cuda:2')\n"
     ]
    },
    {
     "data": {
      "application/vnd.jupyter.widget-view+json": {
       "model_id": "c8daea4a7b3146a8828aff8d1434d2f1",
       "version_major": 2,
       "version_minor": 0
      },
      "text/plain": [
       "  0%|          | 0/334 [00:00<?, ?it/s]"
      ]
     },
     "metadata": {},
     "output_type": "display_data"
    },
    {
     "name": "stdout",
     "output_type": "stream",
     "text": [
      "Train_loss: tensor(0.0821, device='cuda:2', grad_fn=<NllLossBackward0>)\n",
      "\n",
      "Attack success rate 98.71\n",
      "Test_loss: tensor(0.0907, device='cuda:2')\n",
      "\n",
      "Test clean Accuracy 94.65\n",
      "Test_loss: tensor(0.0890, device='cuda:2')\n",
      "\n",
      "Target test clean Accuracy 93.60\n",
      "Test_loss: tensor(0.0910, device='cuda:2')\n"
     ]
    },
    {
     "data": {
      "application/vnd.jupyter.widget-view+json": {
       "model_id": "ad374323fb3c455cb0af8a5e0b6eb256",
       "version_major": 2,
       "version_minor": 0
      },
      "text/plain": [
       "  0%|          | 0/334 [00:00<?, ?it/s]"
      ]
     },
     "metadata": {},
     "output_type": "display_data"
    },
    {
     "name": "stdout",
     "output_type": "stream",
     "text": [
      "Train_loss: tensor(0.0077, device='cuda:2', grad_fn=<NllLossBackward0>)\n",
      "\n",
      "Attack success rate 91.71\n",
      "Test_loss: tensor(0.3112, device='cuda:2')\n",
      "\n",
      "Test clean Accuracy 94.40\n",
      "Test_loss: tensor(0.1080, device='cuda:2')\n",
      "\n",
      "Target test clean Accuracy 90.20\n",
      "Test_loss: tensor(0.5961, device='cuda:2')\n"
     ]
    },
    {
     "data": {
      "application/vnd.jupyter.widget-view+json": {
       "model_id": "132dcb79b26741baaf03368b2d1aebfa",
       "version_major": 2,
       "version_minor": 0
      },
      "text/plain": [
       "  0%|          | 0/334 [00:00<?, ?it/s]"
      ]
     },
     "metadata": {},
     "output_type": "display_data"
    },
    {
     "name": "stdout",
     "output_type": "stream",
     "text": [
      "Train_loss: tensor(0.0027, device='cuda:2', grad_fn=<NllLossBackward0>)\n",
      "\n",
      "Attack success rate 73.84\n",
      "Test_loss: tensor(0.9155, device='cuda:2')\n",
      "\n",
      "Test clean Accuracy 94.82\n",
      "Test_loss: tensor(0.0825, device='cuda:2')\n",
      "\n",
      "Target test clean Accuracy 94.00\n",
      "Test_loss: tensor(0.3057, device='cuda:2')\n"
     ]
    },
    {
     "data": {
      "application/vnd.jupyter.widget-view+json": {
       "model_id": "d5396ce63118489ab5621352e7180739",
       "version_major": 2,
       "version_minor": 0
      },
      "text/plain": [
       "  0%|          | 0/334 [00:00<?, ?it/s]"
      ]
     },
     "metadata": {},
     "output_type": "display_data"
    },
    {
     "name": "stdout",
     "output_type": "stream",
     "text": [
      "Train_loss: tensor(0.0023, device='cuda:2', grad_fn=<NllLossBackward0>)\n",
      "\n",
      "Attack success rate 77.03\n",
      "Test_loss: tensor(0.6732, device='cuda:2')\n",
      "\n",
      "Test clean Accuracy 94.70\n",
      "Test_loss: tensor(0.1597, device='cuda:2')\n",
      "\n",
      "Target test clean Accuracy 91.70\n",
      "Test_loss: tensor(0.3360, device='cuda:2')\n"
     ]
    },
    {
     "data": {
      "application/vnd.jupyter.widget-view+json": {
       "model_id": "4888565a3f6e4309a1f91dbf3d0f17dc",
       "version_major": 2,
       "version_minor": 0
      },
      "text/plain": [
       "  0%|          | 0/334 [00:00<?, ?it/s]"
      ]
     },
     "metadata": {},
     "output_type": "display_data"
    },
    {
     "name": "stdout",
     "output_type": "stream",
     "text": [
      "Train_loss: tensor(0.0028, device='cuda:2', grad_fn=<NllLossBackward0>)\n",
      "\n",
      "Attack success rate 67.98\n",
      "Test_loss: tensor(1.1939, device='cuda:2')\n",
      "\n",
      "Test clean Accuracy 94.50\n",
      "Test_loss: tensor(0.1561, device='cuda:2')\n",
      "\n",
      "Target test clean Accuracy 90.60\n",
      "Test_loss: tensor(0.4534, device='cuda:2')\n"
     ]
    },
    {
     "data": {
      "application/vnd.jupyter.widget-view+json": {
       "model_id": "e8e81e7d7d654604bcfb7756d170a0ea",
       "version_major": 2,
       "version_minor": 0
      },
      "text/plain": [
       "  0%|          | 0/334 [00:00<?, ?it/s]"
      ]
     },
     "metadata": {},
     "output_type": "display_data"
    },
    {
     "name": "stdout",
     "output_type": "stream",
     "text": [
      "Train_loss: tensor(0.0247, device='cuda:2', grad_fn=<NllLossBackward0>)\n",
      "\n",
      "Attack success rate 95.67\n",
      "Test_loss: tensor(0.1500, device='cuda:2')\n",
      "\n",
      "Test clean Accuracy 94.62\n",
      "Test_loss: tensor(0.1471, device='cuda:2')\n",
      "\n",
      "Target test clean Accuracy 91.70\n",
      "Test_loss: tensor(0.1350, device='cuda:2')\n"
     ]
    },
    {
     "data": {
      "application/vnd.jupyter.widget-view+json": {
       "model_id": "dd5f3e2ae04747d3bd6c42855737edac",
       "version_major": 2,
       "version_minor": 0
      },
      "text/plain": [
       "  0%|          | 0/334 [00:00<?, ?it/s]"
      ]
     },
     "metadata": {},
     "output_type": "display_data"
    },
    {
     "name": "stdout",
     "output_type": "stream",
     "text": [
      "Train_loss: tensor(0.0036, device='cuda:2', grad_fn=<NllLossBackward0>)\n",
      "\n",
      "Attack success rate 93.97\n",
      "Test_loss: tensor(0.1393, device='cuda:2')\n",
      "\n",
      "Test clean Accuracy 94.83\n",
      "Test_loss: tensor(0.1007, device='cuda:2')\n",
      "\n",
      "Target test clean Accuracy 93.20\n",
      "Test_loss: tensor(0.3530, device='cuda:2')\n"
     ]
    },
    {
     "data": {
      "application/vnd.jupyter.widget-view+json": {
       "model_id": "66d2e87a03f2413ba01086565532c89f",
       "version_major": 2,
       "version_minor": 0
      },
      "text/plain": [
       "  0%|          | 0/334 [00:00<?, ?it/s]"
      ]
     },
     "metadata": {},
     "output_type": "display_data"
    },
    {
     "name": "stdout",
     "output_type": "stream",
     "text": [
      "Train_loss: tensor(0.0093, device='cuda:2', grad_fn=<NllLossBackward0>)\n",
      "\n",
      "Attack success rate 93.24\n",
      "Test_loss: tensor(0.2686, device='cuda:2')\n",
      "\n",
      "Test clean Accuracy 94.76\n",
      "Test_loss: tensor(0.1374, device='cuda:2')\n",
      "\n",
      "Target test clean Accuracy 92.70\n",
      "Test_loss: tensor(0.3372, device='cuda:2')\n"
     ]
    },
    {
     "data": {
      "application/vnd.jupyter.widget-view+json": {
       "model_id": "12ceb5c9d55c42b2a7e8983038d6620e",
       "version_major": 2,
       "version_minor": 0
      },
      "text/plain": [
       "  0%|          | 0/334 [00:00<?, ?it/s]"
      ]
     },
     "metadata": {},
     "output_type": "display_data"
    },
    {
     "name": "stdout",
     "output_type": "stream",
     "text": [
      "Train_loss: tensor(0.0065, device='cuda:2', grad_fn=<NllLossBackward0>)\n",
      "\n",
      "Attack success rate 93.29\n",
      "Test_loss: tensor(0.2201, device='cuda:2')\n",
      "\n",
      "Test clean Accuracy 94.76\n",
      "Test_loss: tensor(0.1262, device='cuda:2')\n",
      "\n",
      "Target test clean Accuracy 91.80\n",
      "Test_loss: tensor(0.2439, device='cuda:2')\n"
     ]
    },
    {
     "data": {
      "application/vnd.jupyter.widget-view+json": {
       "model_id": "9c092030dee6452cb16c006abfd45014",
       "version_major": 2,
       "version_minor": 0
      },
      "text/plain": [
       "  0%|          | 0/334 [00:00<?, ?it/s]"
      ]
     },
     "metadata": {},
     "output_type": "display_data"
    },
    {
     "name": "stdout",
     "output_type": "stream",
     "text": [
      "Train_loss: tensor(0.0038, device='cuda:2', grad_fn=<NllLossBackward0>)\n",
      "\n",
      "Attack success rate 94.49\n",
      "Test_loss: tensor(0.1232, device='cuda:2')\n",
      "\n",
      "Test clean Accuracy 94.83\n",
      "Test_loss: tensor(0.1472, device='cuda:2')\n",
      "\n",
      "Target test clean Accuracy 92.10\n",
      "Test_loss: tensor(0.3264, device='cuda:2')\n"
     ]
    },
    {
     "data": {
      "application/vnd.jupyter.widget-view+json": {
       "model_id": "3b927f2b102147cf9b50d2f064609bf5",
       "version_major": 2,
       "version_minor": 0
      },
      "text/plain": [
       "  0%|          | 0/334 [00:00<?, ?it/s]"
      ]
     },
     "metadata": {},
     "output_type": "display_data"
    },
    {
     "name": "stdout",
     "output_type": "stream",
     "text": [
      "Train_loss: tensor(0.0015, device='cuda:2', grad_fn=<NllLossBackward0>)\n",
      "\n",
      "Attack success rate 92.01\n",
      "Test_loss: tensor(0.3699, device='cuda:2')\n",
      "\n",
      "Test clean Accuracy 94.94\n",
      "Test_loss: tensor(0.1260, device='cuda:2')\n",
      "\n",
      "Target test clean Accuracy 92.80\n",
      "Test_loss: tensor(0.3155, device='cuda:2')\n"
     ]
    },
    {
     "data": {
      "application/vnd.jupyter.widget-view+json": {
       "model_id": "62cca6e8491d412f82b936c9ad742175",
       "version_major": 2,
       "version_minor": 0
      },
      "text/plain": [
       "  0%|          | 0/334 [00:00<?, ?it/s]"
      ]
     },
     "metadata": {},
     "output_type": "display_data"
    },
    {
     "name": "stdout",
     "output_type": "stream",
     "text": [
      "Train_loss: tensor(0.0010, device='cuda:2', grad_fn=<NllLossBackward0>)\n",
      "\n",
      "Attack success rate 95.57\n",
      "Test_loss: tensor(0.0840, device='cuda:2')\n",
      "\n",
      "Test clean Accuracy 95.17\n",
      "Test_loss: tensor(0.1535, device='cuda:2')\n",
      "\n",
      "Target test clean Accuracy 93.40\n",
      "Test_loss: tensor(0.1978, device='cuda:2')\n"
     ]
    },
    {
     "data": {
      "application/vnd.jupyter.widget-view+json": {
       "model_id": "9e1afb6939dc44a8a8b4ff4d391a4efd",
       "version_major": 2,
       "version_minor": 0
      },
      "text/plain": [
       "  0%|          | 0/334 [00:00<?, ?it/s]"
      ]
     },
     "metadata": {},
     "output_type": "display_data"
    },
    {
     "name": "stdout",
     "output_type": "stream",
     "text": [
      "Train_loss: tensor(0.0317, device='cuda:2', grad_fn=<NllLossBackward0>)\n",
      "\n",
      "Attack success rate 96.39\n",
      "Test_loss: tensor(0.1003, device='cuda:2')\n",
      "\n",
      "Test clean Accuracy 95.02\n",
      "Test_loss: tensor(0.1163, device='cuda:2')\n",
      "\n",
      "Target test clean Accuracy 92.80\n",
      "Test_loss: tensor(0.1840, device='cuda:2')\n"
     ]
    },
    {
     "data": {
      "application/vnd.jupyter.widget-view+json": {
       "model_id": "11030f26af13442698e0cec6015462ba",
       "version_major": 2,
       "version_minor": 0
      },
      "text/plain": [
       "  0%|          | 0/334 [00:00<?, ?it/s]"
      ]
     },
     "metadata": {},
     "output_type": "display_data"
    },
    {
     "name": "stdout",
     "output_type": "stream",
     "text": [
      "Train_loss: tensor(0.0018, device='cuda:2', grad_fn=<NllLossBackward0>)\n",
      "\n",
      "Attack success rate 98.21\n",
      "Test_loss: tensor(0.0843, device='cuda:2')\n",
      "\n",
      "Test clean Accuracy 95.20\n",
      "Test_loss: tensor(0.1465, device='cuda:2')\n",
      "\n",
      "Target test clean Accuracy 93.40\n",
      "Test_loss: tensor(0.2061, device='cuda:2')\n"
     ]
    },
    {
     "data": {
      "application/vnd.jupyter.widget-view+json": {
       "model_id": "0b4582a0858148258d3861e7e0fbbf3d",
       "version_major": 2,
       "version_minor": 0
      },
      "text/plain": [
       "  0%|          | 0/334 [00:00<?, ?it/s]"
      ]
     },
     "metadata": {},
     "output_type": "display_data"
    },
    {
     "name": "stdout",
     "output_type": "stream",
     "text": [
      "Train_loss: tensor(0.0019, device='cuda:2', grad_fn=<NllLossBackward0>)\n",
      "\n",
      "Attack success rate 99.00\n",
      "Test_loss: tensor(0.0114, device='cuda:2')\n",
      "\n",
      "Test clean Accuracy 95.28\n",
      "Test_loss: tensor(0.1252, device='cuda:2')\n",
      "\n",
      "Target test clean Accuracy 93.80\n",
      "Test_loss: tensor(0.2522, device='cuda:2')\n"
     ]
    },
    {
     "data": {
      "application/vnd.jupyter.widget-view+json": {
       "model_id": "7b6757d5c631491faba37f6e0a645ae6",
       "version_major": 2,
       "version_minor": 0
      },
      "text/plain": [
       "  0%|          | 0/334 [00:00<?, ?it/s]"
      ]
     },
     "metadata": {},
     "output_type": "display_data"
    },
    {
     "name": "stdout",
     "output_type": "stream",
     "text": [
      "Train_loss: tensor(0.0120, device='cuda:2', grad_fn=<NllLossBackward0>)\n",
      "\n",
      "Attack success rate 97.74\n",
      "Test_loss: tensor(0.0837, device='cuda:2')\n",
      "\n",
      "Test clean Accuracy 95.20\n",
      "Test_loss: tensor(0.1278, device='cuda:2')\n",
      "\n",
      "Target test clean Accuracy 92.40\n",
      "Test_loss: tensor(0.3246, device='cuda:2')\n"
     ]
    },
    {
     "data": {
      "application/vnd.jupyter.widget-view+json": {
       "model_id": "0babe36e16fd41c2a77278c33ec153c9",
       "version_major": 2,
       "version_minor": 0
      },
      "text/plain": [
       "  0%|          | 0/334 [00:00<?, ?it/s]"
      ]
     },
     "metadata": {},
     "output_type": "display_data"
    },
    {
     "name": "stdout",
     "output_type": "stream",
     "text": [
      "Train_loss: tensor(0.0009, device='cuda:2', grad_fn=<NllLossBackward0>)\n",
      "\n",
      "Attack success rate 97.01\n",
      "Test_loss: tensor(0.0608, device='cuda:2')\n",
      "\n",
      "Test clean Accuracy 95.40\n",
      "Test_loss: tensor(0.1255, device='cuda:2')\n",
      "\n",
      "Target test clean Accuracy 92.40\n",
      "Test_loss: tensor(0.5877, device='cuda:2')\n"
     ]
    },
    {
     "data": {
      "application/vnd.jupyter.widget-view+json": {
       "model_id": "eb832b6d70ea4a2c90dd63068321451c",
       "version_major": 2,
       "version_minor": 0
      },
      "text/plain": [
       "  0%|          | 0/334 [00:00<?, ?it/s]"
      ]
     },
     "metadata": {},
     "output_type": "display_data"
    },
    {
     "name": "stdout",
     "output_type": "stream",
     "text": [
      "Train_loss: tensor(0.0016, device='cuda:2', grad_fn=<NllLossBackward0>)\n",
      "\n",
      "Attack success rate 97.44\n",
      "Test_loss: tensor(0.1335, device='cuda:2')\n",
      "\n",
      "Test clean Accuracy 95.26\n",
      "Test_loss: tensor(0.1276, device='cuda:2')\n",
      "\n",
      "Target test clean Accuracy 92.20\n",
      "Test_loss: tensor(0.3046, device='cuda:2')\n"
     ]
    },
    {
     "data": {
      "application/vnd.jupyter.widget-view+json": {
       "model_id": "7ec4c8db8d0a4714901f343a681e422e",
       "version_major": 2,
       "version_minor": 0
      },
      "text/plain": [
       "  0%|          | 0/334 [00:00<?, ?it/s]"
      ]
     },
     "metadata": {},
     "output_type": "display_data"
    },
    {
     "name": "stdout",
     "output_type": "stream",
     "text": [
      "Train_loss: tensor(0.0055, device='cuda:2', grad_fn=<NllLossBackward0>)\n",
      "\n",
      "Attack success rate 98.26\n",
      "Test_loss: tensor(0.1130, device='cuda:2')\n",
      "\n",
      "Test clean Accuracy 95.39\n",
      "Test_loss: tensor(0.1128, device='cuda:2')\n",
      "\n",
      "Target test clean Accuracy 93.60\n",
      "Test_loss: tensor(0.1263, device='cuda:2')\n"
     ]
    },
    {
     "data": {
      "application/vnd.jupyter.widget-view+json": {
       "model_id": "fba7005f05584b9c86e8b404e838ad7c",
       "version_major": 2,
       "version_minor": 0
      },
      "text/plain": [
       "  0%|          | 0/334 [00:00<?, ?it/s]"
      ]
     },
     "metadata": {},
     "output_type": "display_data"
    },
    {
     "name": "stdout",
     "output_type": "stream",
     "text": [
      "Train_loss: tensor(0.0011, device='cuda:2', grad_fn=<NllLossBackward0>)\n",
      "\n",
      "Attack success rate 98.71\n",
      "Test_loss: tensor(0.0207, device='cuda:2')\n",
      "\n",
      "Test clean Accuracy 95.45\n",
      "Test_loss: tensor(0.1211, device='cuda:2')\n",
      "\n",
      "Target test clean Accuracy 93.80\n",
      "Test_loss: tensor(0.1222, device='cuda:2')\n"
     ]
    },
    {
     "data": {
      "application/vnd.jupyter.widget-view+json": {
       "model_id": "2c4973c56e29446ba1a0674696fd5a29",
       "version_major": 2,
       "version_minor": 0
      },
      "text/plain": [
       "  0%|          | 0/334 [00:00<?, ?it/s]"
      ]
     },
     "metadata": {},
     "output_type": "display_data"
    },
    {
     "name": "stdout",
     "output_type": "stream",
     "text": [
      "Train_loss: tensor(0.0013, device='cuda:2', grad_fn=<NllLossBackward0>)\n",
      "\n",
      "Attack success rate 96.61\n",
      "Test_loss: tensor(0.1714, device='cuda:2')\n",
      "\n",
      "Test clean Accuracy 95.38\n",
      "Test_loss: tensor(0.1299, device='cuda:2')\n",
      "\n",
      "Target test clean Accuracy 93.00\n",
      "Test_loss: tensor(0.1255, device='cuda:2')\n"
     ]
    },
    {
     "data": {
      "application/vnd.jupyter.widget-view+json": {
       "model_id": "00042c9915f94ae589556f32604f45c1",
       "version_major": 2,
       "version_minor": 0
      },
      "text/plain": [
       "  0%|          | 0/334 [00:00<?, ?it/s]"
      ]
     },
     "metadata": {},
     "output_type": "display_data"
    },
    {
     "name": "stdout",
     "output_type": "stream",
     "text": [
      "Train_loss: tensor(0.0042, device='cuda:2', grad_fn=<NllLossBackward0>)\n",
      "\n",
      "Attack success rate 97.43\n",
      "Test_loss: tensor(0.0400, device='cuda:2')\n",
      "\n",
      "Test clean Accuracy 95.30\n",
      "Test_loss: tensor(0.1296, device='cuda:2')\n",
      "\n",
      "Target test clean Accuracy 93.20\n",
      "Test_loss: tensor(0.2824, device='cuda:2')\n"
     ]
    },
    {
     "data": {
      "application/vnd.jupyter.widget-view+json": {
       "model_id": "d31e4dda18eb4969ac859d3be39cfb95",
       "version_major": 2,
       "version_minor": 0
      },
      "text/plain": [
       "  0%|          | 0/334 [00:00<?, ?it/s]"
      ]
     },
     "metadata": {},
     "output_type": "display_data"
    },
    {
     "name": "stdout",
     "output_type": "stream",
     "text": [
      "Train_loss: tensor(0.0025, device='cuda:2', grad_fn=<NllLossBackward0>)\n",
      "\n",
      "Attack success rate 97.23\n",
      "Test_loss: tensor(0.0844, device='cuda:2')\n",
      "\n",
      "Test clean Accuracy 95.32\n",
      "Test_loss: tensor(0.1239, device='cuda:2')\n",
      "\n",
      "Target test clean Accuracy 93.30\n",
      "Test_loss: tensor(0.3810, device='cuda:2')\n"
     ]
    },
    {
     "data": {
      "application/vnd.jupyter.widget-view+json": {
       "model_id": "73e6378cf61f4b518a3b5961afe38672",
       "version_major": 2,
       "version_minor": 0
      },
      "text/plain": [
       "  0%|          | 0/334 [00:00<?, ?it/s]"
      ]
     },
     "metadata": {},
     "output_type": "display_data"
    },
    {
     "name": "stdout",
     "output_type": "stream",
     "text": [
      "Train_loss: tensor(0.0033, device='cuda:2', grad_fn=<NllLossBackward0>)\n",
      "\n",
      "Attack success rate 96.51\n",
      "Test_loss: tensor(0.0822, device='cuda:2')\n",
      "\n",
      "Test clean Accuracy 95.41\n",
      "Test_loss: tensor(0.1251, device='cuda:2')\n",
      "\n",
      "Target test clean Accuracy 93.00\n",
      "Test_loss: tensor(0.2019, device='cuda:2')\n"
     ]
    },
    {
     "data": {
      "application/vnd.jupyter.widget-view+json": {
       "model_id": "4155caa79e70439d9fe9ef7b92c69485",
       "version_major": 2,
       "version_minor": 0
      },
      "text/plain": [
       "  0%|          | 0/334 [00:00<?, ?it/s]"
      ]
     },
     "metadata": {},
     "output_type": "display_data"
    },
    {
     "name": "stdout",
     "output_type": "stream",
     "text": [
      "Train_loss: tensor(0.0011, device='cuda:2', grad_fn=<NllLossBackward0>)\n",
      "\n",
      "Attack success rate 96.46\n",
      "Test_loss: tensor(0.0444, device='cuda:2')\n",
      "\n",
      "Test clean Accuracy 95.34\n",
      "Test_loss: tensor(0.1206, device='cuda:2')\n",
      "\n",
      "Target test clean Accuracy 93.40\n",
      "Test_loss: tensor(0.1961, device='cuda:2')\n"
     ]
    },
    {
     "data": {
      "application/vnd.jupyter.widget-view+json": {
       "model_id": "ef04269ad88b4be7b67b7215b0775e8f",
       "version_major": 2,
       "version_minor": 0
      },
      "text/plain": [
       "  0%|          | 0/334 [00:00<?, ?it/s]"
      ]
     },
     "metadata": {},
     "output_type": "display_data"
    },
    {
     "name": "stdout",
     "output_type": "stream",
     "text": [
      "Train_loss: tensor(0.0021, device='cuda:2', grad_fn=<NllLossBackward0>)\n",
      "\n",
      "Attack success rate 95.03\n",
      "Test_loss: tensor(0.2338, device='cuda:2')\n",
      "\n",
      "Test clean Accuracy 95.31\n",
      "Test_loss: tensor(0.1330, device='cuda:2')\n",
      "\n",
      "Target test clean Accuracy 92.10\n",
      "Test_loss: tensor(0.1996, device='cuda:2')\n"
     ]
    },
    {
     "data": {
      "application/vnd.jupyter.widget-view+json": {
       "model_id": "a4100ff38d3e41d192a387dc7951e8ad",
       "version_major": 2,
       "version_minor": 0
      },
      "text/plain": [
       "  0%|          | 0/334 [00:00<?, ?it/s]"
      ]
     },
     "metadata": {},
     "output_type": "display_data"
    },
    {
     "name": "stdout",
     "output_type": "stream",
     "text": [
      "Train_loss: tensor(0.0031, device='cuda:2', grad_fn=<NllLossBackward0>)\n",
      "\n",
      "Attack success rate 96.50\n",
      "Test_loss: tensor(0.0909, device='cuda:2')\n",
      "\n",
      "Test clean Accuracy 95.34\n",
      "Test_loss: tensor(0.1257, device='cuda:2')\n",
      "\n",
      "Target test clean Accuracy 92.90\n",
      "Test_loss: tensor(0.3045, device='cuda:2')\n"
     ]
    },
    {
     "data": {
      "application/vnd.jupyter.widget-view+json": {
       "model_id": "c7a0cd8bcf814ce3bb67a8a16a691c7f",
       "version_major": 2,
       "version_minor": 0
      },
      "text/plain": [
       "  0%|          | 0/334 [00:00<?, ?it/s]"
      ]
     },
     "metadata": {},
     "output_type": "display_data"
    },
    {
     "name": "stdout",
     "output_type": "stream",
     "text": [
      "Train_loss: tensor(0.0414, device='cuda:2', grad_fn=<NllLossBackward0>)\n",
      "\n",
      "Attack success rate 97.13\n",
      "Test_loss: tensor(0.1024, device='cuda:2')\n",
      "\n",
      "Test clean Accuracy 95.38\n",
      "Test_loss: tensor(0.1196, device='cuda:2')\n",
      "\n",
      "Target test clean Accuracy 93.60\n",
      "Test_loss: tensor(0.2958, device='cuda:2')\n"
     ]
    },
    {
     "data": {
      "application/vnd.jupyter.widget-view+json": {
       "model_id": "e819d2f1d95b46889f30e19bc42ac171",
       "version_major": 2,
       "version_minor": 0
      },
      "text/plain": [
       "  0%|          | 0/334 [00:00<?, ?it/s]"
      ]
     },
     "metadata": {},
     "output_type": "display_data"
    },
    {
     "name": "stdout",
     "output_type": "stream",
     "text": [
      "Train_loss: tensor(0.0019, device='cuda:2', grad_fn=<NllLossBackward0>)\n",
      "\n",
      "Attack success rate 96.71\n",
      "Test_loss: tensor(0.1072, device='cuda:2')\n",
      "\n",
      "Test clean Accuracy 95.45\n",
      "Test_loss: tensor(0.1439, device='cuda:2')\n",
      "\n",
      "Target test clean Accuracy 92.90\n",
      "Test_loss: tensor(0.2070, device='cuda:2')\n"
     ]
    },
    {
     "data": {
      "application/vnd.jupyter.widget-view+json": {
       "model_id": "964970d130724754afccec24c0e17029",
       "version_major": 2,
       "version_minor": 0
      },
      "text/plain": [
       "  0%|          | 0/334 [00:00<?, ?it/s]"
      ]
     },
     "metadata": {},
     "output_type": "display_data"
    },
    {
     "name": "stdout",
     "output_type": "stream",
     "text": [
      "Train_loss: tensor(0.0026, device='cuda:2', grad_fn=<NllLossBackward0>)\n",
      "\n",
      "Attack success rate 96.68\n",
      "Test_loss: tensor(0.0728, device='cuda:2')\n",
      "\n",
      "Test clean Accuracy 95.38\n",
      "Test_loss: tensor(0.1367, device='cuda:2')\n",
      "\n",
      "Target test clean Accuracy 93.10\n",
      "Test_loss: tensor(0.3654, device='cuda:2')\n"
     ]
    },
    {
     "data": {
      "application/vnd.jupyter.widget-view+json": {
       "model_id": "1bc25fa4864a4bafb463459a14107d57",
       "version_major": 2,
       "version_minor": 0
      },
      "text/plain": [
       "  0%|          | 0/334 [00:00<?, ?it/s]"
      ]
     },
     "metadata": {},
     "output_type": "display_data"
    },
    {
     "name": "stdout",
     "output_type": "stream",
     "text": [
      "Train_loss: tensor(0.0133, device='cuda:2', grad_fn=<NllLossBackward0>)\n",
      "\n",
      "Attack success rate 97.18\n",
      "Test_loss: tensor(0.0728, device='cuda:2')\n",
      "\n",
      "Test clean Accuracy 95.31\n",
      "Test_loss: tensor(0.1387, device='cuda:2')\n",
      "\n",
      "Target test clean Accuracy 92.80\n",
      "Test_loss: tensor(0.4233, device='cuda:2')\n"
     ]
    },
    {
     "data": {
      "application/vnd.jupyter.widget-view+json": {
       "model_id": "3312eef1a34d4480bae929d13127e5bf",
       "version_major": 2,
       "version_minor": 0
      },
      "text/plain": [
       "  0%|          | 0/334 [00:00<?, ?it/s]"
      ]
     },
     "metadata": {},
     "output_type": "display_data"
    },
    {
     "name": "stdout",
     "output_type": "stream",
     "text": [
      "Train_loss: tensor(0.0023, device='cuda:2', grad_fn=<NllLossBackward0>)\n",
      "\n",
      "Attack success rate 96.79\n",
      "Test_loss: tensor(0.1799, device='cuda:2')\n",
      "\n",
      "Test clean Accuracy 95.40\n",
      "Test_loss: tensor(0.1326, device='cuda:2')\n",
      "\n",
      "Target test clean Accuracy 93.00\n",
      "Test_loss: tensor(0.3373, device='cuda:2')\n"
     ]
    },
    {
     "data": {
      "application/vnd.jupyter.widget-view+json": {
       "model_id": "8b70a5afdac34931941a52fefa780f93",
       "version_major": 2,
       "version_minor": 0
      },
      "text/plain": [
       "  0%|          | 0/334 [00:00<?, ?it/s]"
      ]
     },
     "metadata": {},
     "output_type": "display_data"
    },
    {
     "name": "stdout",
     "output_type": "stream",
     "text": [
      "Train_loss: tensor(0.0018, device='cuda:2', grad_fn=<NllLossBackward0>)\n",
      "\n",
      "Attack success rate 96.57\n",
      "Test_loss: tensor(0.1093, device='cuda:2')\n",
      "\n",
      "Test clean Accuracy 95.48\n",
      "Test_loss: tensor(0.1316, device='cuda:2')\n",
      "\n",
      "Target test clean Accuracy 93.10\n",
      "Test_loss: tensor(0.2985, device='cuda:2')\n"
     ]
    },
    {
     "data": {
      "application/vnd.jupyter.widget-view+json": {
       "model_id": "d26d3a3cb669476fa45484136404f592",
       "version_major": 2,
       "version_minor": 0
      },
      "text/plain": [
       "  0%|          | 0/334 [00:00<?, ?it/s]"
      ]
     },
     "metadata": {},
     "output_type": "display_data"
    },
    {
     "name": "stdout",
     "output_type": "stream",
     "text": [
      "Train_loss: tensor(0.0014, device='cuda:2', grad_fn=<NllLossBackward0>)\n",
      "\n",
      "Attack success rate 96.92\n",
      "Test_loss: tensor(0.1412, device='cuda:2')\n",
      "\n",
      "Test clean Accuracy 95.45\n",
      "Test_loss: tensor(0.1234, device='cuda:2')\n",
      "\n",
      "Target test clean Accuracy 93.30\n",
      "Test_loss: tensor(0.2111, device='cuda:2')\n"
     ]
    },
    {
     "data": {
      "application/vnd.jupyter.widget-view+json": {
       "model_id": "8c50bbf7766e412c9ef863ea8807e6b5",
       "version_major": 2,
       "version_minor": 0
      },
      "text/plain": [
       "  0%|          | 0/334 [00:00<?, ?it/s]"
      ]
     },
     "metadata": {},
     "output_type": "display_data"
    },
    {
     "name": "stdout",
     "output_type": "stream",
     "text": [
      "Train_loss: tensor(0.0020, device='cuda:2', grad_fn=<NllLossBackward0>)\n",
      "\n",
      "Attack success rate 96.88\n",
      "Test_loss: tensor(0.1012, device='cuda:2')\n",
      "\n",
      "Test clean Accuracy 95.34\n",
      "Test_loss: tensor(0.1336, device='cuda:2')\n",
      "\n",
      "Target test clean Accuracy 93.00\n",
      "Test_loss: tensor(0.3859, device='cuda:2')\n"
     ]
    },
    {
     "data": {
      "application/vnd.jupyter.widget-view+json": {
       "model_id": "de589fd1ec0245a2aaa9f4d6d92bb8fe",
       "version_major": 2,
       "version_minor": 0
      },
      "text/plain": [
       "  0%|          | 0/334 [00:00<?, ?it/s]"
      ]
     },
     "metadata": {},
     "output_type": "display_data"
    },
    {
     "name": "stdout",
     "output_type": "stream",
     "text": [
      "Train_loss: tensor(0.0016, device='cuda:2', grad_fn=<NllLossBackward0>)\n",
      "\n",
      "Attack success rate 96.91\n",
      "Test_loss: tensor(0.1110, device='cuda:2')\n",
      "\n",
      "Test clean Accuracy 95.43\n",
      "Test_loss: tensor(0.1254, device='cuda:2')\n",
      "\n",
      "Target test clean Accuracy 93.40\n",
      "Test_loss: tensor(0.3243, device='cuda:2')\n"
     ]
    },
    {
     "data": {
      "application/vnd.jupyter.widget-view+json": {
       "model_id": "dceae412495d4940be519e149eedb4ac",
       "version_major": 2,
       "version_minor": 0
      },
      "text/plain": [
       "  0%|          | 0/334 [00:00<?, ?it/s]"
      ]
     },
     "metadata": {},
     "output_type": "display_data"
    },
    {
     "name": "stdout",
     "output_type": "stream",
     "text": [
      "Train_loss: tensor(0.0032, device='cuda:2', grad_fn=<NllLossBackward0>)\n",
      "\n",
      "Attack success rate 96.24\n",
      "Test_loss: tensor(0.2476, device='cuda:2')\n",
      "\n",
      "Test clean Accuracy 95.44\n",
      "Test_loss: tensor(0.1318, device='cuda:2')\n",
      "\n",
      "Target test clean Accuracy 92.90\n",
      "Test_loss: tensor(0.3746, device='cuda:2')\n"
     ]
    },
    {
     "data": {
      "application/vnd.jupyter.widget-view+json": {
       "model_id": "ed19df1e307f4112ab940f36c97f47cc",
       "version_major": 2,
       "version_minor": 0
      },
      "text/plain": [
       "  0%|          | 0/334 [00:00<?, ?it/s]"
      ]
     },
     "metadata": {},
     "output_type": "display_data"
    },
    {
     "name": "stdout",
     "output_type": "stream",
     "text": [
      "Train_loss: tensor(0.0027, device='cuda:2', grad_fn=<NllLossBackward0>)\n",
      "\n",
      "Attack success rate 96.06\n",
      "Test_loss: tensor(0.1683, device='cuda:2')\n",
      "\n",
      "Test clean Accuracy 95.48\n",
      "Test_loss: tensor(0.1398, device='cuda:2')\n",
      "\n",
      "Target test clean Accuracy 93.10\n",
      "Test_loss: tensor(0.3128, device='cuda:2')\n"
     ]
    },
    {
     "data": {
      "application/vnd.jupyter.widget-view+json": {
       "model_id": "e04d787ec60c45acb9c2cb108ac1c7df",
       "version_major": 2,
       "version_minor": 0
      },
      "text/plain": [
       "  0%|          | 0/334 [00:00<?, ?it/s]"
      ]
     },
     "metadata": {},
     "output_type": "display_data"
    },
    {
     "name": "stdout",
     "output_type": "stream",
     "text": [
      "Train_loss: tensor(0.0010, device='cuda:2', grad_fn=<NllLossBackward0>)\n",
      "\n",
      "Attack success rate 95.99\n",
      "Test_loss: tensor(0.1676, device='cuda:2')\n",
      "\n",
      "Test clean Accuracy 95.48\n",
      "Test_loss: tensor(0.1310, device='cuda:2')\n",
      "\n",
      "Target test clean Accuracy 93.30\n",
      "Test_loss: tensor(0.1476, device='cuda:2')\n"
     ]
    }
   ],
   "source": [
    "for epoch in tqdm.notebook.tqdm(range(training_epochs)):\n",
    "    # Train\n",
    "    model.train()\n",
    "    acc_meter = AverageMeter()\n",
    "    loss_meter = AverageMeter()\n",
    "    pbar = tqdm.notebook.tqdm(clean_train_loader, total=len(clean_train_loader))\n",
    "    for images, labels in pbar:\n",
    "        images, labels = images.to(device), labels.to(device)\n",
    "        model.zero_grad()\n",
    "        optimizer.zero_grad()\n",
    "        logits = model(images)\n",
    "        loss = criterion(logits, labels)\n",
    "        loss.backward()\n",
    "        optimizer.step()\n",
    "        \n",
    "        _, predicted = torch.max(logits.data, 1)\n",
    "        acc = (predicted == labels).sum().item()/labels.size(0)\n",
    "        acc_meter.update(acc)\n",
    "        loss_meter.update(loss.item())\n",
    "        pbar.set_description(\"Acc %.2f Loss: %.2f\" % (acc_meter.avg*100, loss_meter.avg))\n",
    "    train_ACC.append(acc_meter.avg)\n",
    "    print('Train_loss:',loss)\n",
    "    scheduler.step()\n",
    "    \n",
    "    # Testing attack effect\n",
    "    model.eval()\n",
    "    correct, total = 0, 0\n",
    "    for i, (images, labels) in enumerate(asr_loaders):\n",
    "        images, labels = images.to(device), labels.to(device)\n",
    "        with torch.no_grad():\n",
    "            logits = model(images)\n",
    "            out_loss = criterion(logits,labels)\n",
    "            _, predicted = torch.max(logits.data, 1)\n",
    "            total += labels.size(0)\n",
    "            correct += (predicted == labels).sum().item()\n",
    "    acc = correct / total\n",
    "    test_ACC.append(acc)\n",
    "    print('\\nAttack success rate %.2f' % (acc*100))\n",
    "    print('Test_loss:',out_loss)\n",
    "    \n",
    "    correct_clean, total_clean = 0, 0\n",
    "    for i, (images, labels) in enumerate(clean_test_loader):\n",
    "        images, labels = images.to(device), labels.to(device)\n",
    "        with torch.no_grad():\n",
    "            logits = model(images)\n",
    "            out_loss = criterion(logits,labels)\n",
    "            _, predicted = torch.max(logits.data, 1)\n",
    "            total_clean += labels.size(0)\n",
    "            correct_clean += (predicted == labels).sum().item()\n",
    "    acc_clean = correct_clean / total_clean\n",
    "    clean_ACC.append(acc_clean)\n",
    "    print('\\nTest clean Accuracy %.2f' % (acc_clean*100))\n",
    "    print('Test_loss:',out_loss)\n",
    "    \n",
    "    correct_tar, total_tar = 0, 0\n",
    "    for i, (images, labels) in enumerate(target_test_loader):\n",
    "        images, labels = images.to(device), labels.to(device)\n",
    "        with torch.no_grad():\n",
    "            logits = model(images)\n",
    "            out_loss = criterion(logits,labels)\n",
    "            _, predicted = torch.max(logits.data, 1)\n",
    "            total_tar += labels.size(0)\n",
    "            correct_tar += (predicted == labels).sum().item()\n",
    "    acc_tar = correct_tar / total_tar\n",
    "    target_ACC.append(acc_tar)\n",
    "    print('\\nTarget test clean Accuracy %.2f' % (acc_tar*100))\n",
    "    print('Test_loss:',out_loss)"
   ]
  },
  {
   "cell_type": "code",
   "execution_count": 26,
   "id": "fa785df0",
   "metadata": {},
   "outputs": [
    {
     "data": {
      "image/png": "[encoded data removed]",
      "text/plain": [
       "<Figure size 900x576 with 1 Axes>"
      ]
     },
     "metadata": {
      "needs_background": "light"
     },
     "output_type": "display_data"
    },
    {
     "name": "stdout",
     "output_type": "stream",
     "text": [
      "0.9999600798403194\n",
      "attack 96.56666666666666\n",
      "193\n",
      "all class clean 95.48\n",
      "target clean 93.10000000000001\n"
     ]
    }
   ],
   "source": [
    "#ours -- higher_configureations\n",
    "from matplotlib import pyplot as plt\n",
    "half = np.arange(0,training_epochs)\n",
    "plt.figure(figsize=(12.5,8))\n",
    "plt.plot(half, np.asarray(train_ACC)[half], label='Training ACC', linestyle=\"-.\", marker=\"o\", linewidth=3.0, markersize = 8)\n",
    "plt.plot(half, np.asarray(test_ACC)[half], label='Attack success rate', linestyle=\"-.\", marker=\"o\", linewidth=3.0, markersize = 8)\n",
    "plt.plot(half, np.asarray(clean_ACC)[half], label='Clean test ACC', linestyle=\"-.\", marker=\"o\", linewidth=3.0, markersize = 8)\n",
    "plt.plot(half, np.asarray(target_ACC)[half], label='Target class clean test ACC', linestyle=\"-\", marker=\"o\", linewidth=3.0, markersize = 8)\n",
    "# plt.plot(half, np.asarray(test_unl_ACC)[half], label='protected test ACC', linestyle=\"-.\", marker=\"o\", linewidth=3.0, markersize = 8)\n",
    "plt.ylabel('ACC', fontsize=24)\n",
    "plt.xticks(fontsize=20)\n",
    "plt.xlabel('Epoches', fontsize=24)\n",
    "plt.yticks(np.arange(0,1.1, 0.1),fontsize=20)\n",
    "plt.legend(fontsize=20,bbox_to_anchor=(1.016, 1.2),ncol=2)\n",
    "plt.grid(color=\"gray\", linestyle=\"-\")\n",
    "plt.show()\n",
    "\n",
    "dis_idx = clean_ACC.index(max(clean_ACC))\n",
    "print(train_ACC[dis_idx])\n",
    "print('attack',test_ACC[dis_idx]*100)\n",
    "print(clean_ACC.index(max(clean_ACC)))\n",
    "print('all class clean', clean_ACC[dis_idx]*100)\n",
    "print('target clean',target_ACC[dis_idx]*100)"
   ]
  }
 ],
 "metadata": {
  "kernelspec": {
   "display_name": "Python 3",
   "language": "python",
   "name": "python3"
  },
  "language_info": {
   "codemirror_mode": {
    "name": "ipython",
    "version": 3
   },
   "file_extension": ".py",
   "mimetype": "text/x-python",
   "name": "python",
   "nbconvert_exporter": "python",
   "pygments_lexer": "ipython3",
   "version": "3.6.13"
  },
  "vscode": {
   "interpreter": {
    "hash": "7b8be34f2a64f133f414bd034f75b72cc1c8d29070f6944ffe8bd65ff6cd5b9f"
   }
  }
 },
 "nbformat": 4,
 "nbformat_minor": 5
}
